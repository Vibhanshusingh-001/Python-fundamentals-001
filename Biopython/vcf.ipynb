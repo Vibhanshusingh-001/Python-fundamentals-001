{
 "cells": [
  {
   "cell_type": "code",
   "execution_count": null,
   "metadata": {},
   "outputs": [],
   "source": [
    "import pandas as pd\n",
    "vcf_file=\"\"\n",
    "print(vcf_file)\n",
    "# read vcf file\n",
    "df_varient=pd.read_csv(vcf_file,sep=\"\\t\", comment=\"#\")\n",
    "df_varient.shape\n"
   ]
  },
  {
   "cell_type": "code",
   "execution_count": null,
   "metadata": {},
   "outputs": [],
   "source": [
    "df_varient.head()"
   ]
  },
  {
   "cell_type": "code",
   "execution_count": 1,
   "metadata": {},
   "outputs": [
    {
     "ename": "NameError",
     "evalue": "name 'vcf_file' is not defined",
     "output_type": "error",
     "traceback": [
      "\u001b[1;31m---------------------------------------------------------------------------\u001b[0m",
      "\u001b[1;31mNameError\u001b[0m                                 Traceback (most recent call last)",
      "Cell \u001b[1;32mIn[1], line 2\u001b[0m\n\u001b[0;32m      1\u001b[0m \u001b[38;5;28;01mimport\u001b[39;00m\u001b[38;5;250m \u001b[39m\u001b[38;5;21;01mos\u001b[39;00m\n\u001b[1;32m----> 2\u001b[0m cmd\u001b[38;5;241m=\u001b[39m\u001b[38;5;124m\"\u001b[39m\u001b[38;5;124mzgrep \u001b[39m\u001b[38;5;124m'\u001b[39m\u001b[38;5;124m^#\u001b[39m\u001b[38;5;124m'\u001b[39m\u001b[38;5;124m\"\u001b[39m\u001b[38;5;241m+\u001b[39m \u001b[43mvcf_file\u001b[49m\u001b[38;5;241m+\u001b[39m\u001b[38;5;124m\"\u001b[39m\u001b[38;5;124m|tail -n 1\u001b[39m\u001b[38;5;124m\"\u001b[39m\n\u001b[0;32m      3\u001b[0m columns\u001b[38;5;241m=\u001b[39mos\u001b[38;5;241m.\u001b[39mpopen\n",
      "\u001b[1;31mNameError\u001b[0m: name 'vcf_file' is not defined"
     ]
    }
   ],
   "source": [
    "import os\n",
    "cmd=\"zgrep '^#'\"+ vcf_file+\"|tail -n 1\"\n",
    "columns=os.popen(cmd).read()"
   ]
  },
  {
   "cell_type": "code",
   "execution_count": null,
   "metadata": {},
   "outputs": [],
   "source": [
    "columns"
   ]
  },
  {
   "cell_type": "code",
   "execution_count": null,
   "metadata": {},
   "outputs": [],
   "source": [
    "columns=columns.strip(\"#\")\n",
    "columns\n",
    "\n",
    "#remove new line character\n",
    "columns=columns.strip(\"\\n\")\n",
    "columns"
   ]
  },
  {
   "cell_type": "code",
   "execution_count": null,
   "metadata": {},
   "outputs": [],
   "source": [
    "# convert columns to a list data type\n",
    "columns=columns.split(\"\\t\")\n",
    "print(columns)\n",
    "len(columns)"
   ]
  },
  {
   "cell_type": "code",
   "execution_count": null,
   "metadata": {},
   "outputs": [],
   "source": [
    "# read the vcf file and the columns \n",
    "df_varients.read_csv(vcf_file,sep=\"\\t\",comments=\"#\",names=columns)\n",
    "df_varients.shape\n",
    "df_varients.head()\n"
   ]
  },
  {
   "cell_type": "code",
   "execution_count": null,
   "metadata": {},
   "outputs": [],
   "source": [
    "df_varients.columns\n",
    "columns_of_interest=[\"CHROM\",\"POS\",\"REF\",\"ALT\"]\n",
    "subset=df_varients[columns_of_interest]\n",
    "subset.shape\n",
    "subset.head()"
   ]
  }
 ],
 "metadata": {
  "kernelspec": {
   "display_name": "virenv",
   "language": "python",
   "name": "python3"
  },
  "language_info": {
   "codemirror_mode": {
    "name": "ipython",
    "version": 3
   },
   "file_extension": ".py",
   "mimetype": "text/x-python",
   "name": "python",
   "nbconvert_exporter": "python",
   "pygments_lexer": "ipython3",
   "version": "3.12.0"
  }
 },
 "nbformat": 4,
 "nbformat_minor": 2
}

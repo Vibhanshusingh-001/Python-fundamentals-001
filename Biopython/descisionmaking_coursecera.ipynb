{
 "cells": [
  {
   "cell_type": "code",
   "execution_count": 2,
   "id": "08a1e153-1b27-4154-8933-85aa876e4adb",
   "metadata": {},
   "outputs": [
    {
     "name": "stdout",
     "output_type": "stream",
     "text": [
      "dna sequence has 8 undefined bases\n"
     ]
    }
   ],
   "source": [
    "dna=input('enter dna sequence')\n",
    "if 'n' in dna:\n",
    "    nbases=dna.count(\"n\")\n",
    "    print(\"dna sequence has %d undefined bases\" % nbases)\n",
    "else:\n",
    "    print(\"dna sequence has no undefined bases\")\n",
    "    "
   ]
  },
  {
   "cell_type": "code",
   "execution_count": 9,
   "id": "f44c3c1c",
   "metadata": {},
   "outputs": [
    {
     "name": "stdout",
     "output_type": "stream",
     "text": [
      "the number of undefined bases in dna string 4\n"
     ]
    }
   ],
   "source": [
    "dna=input(\"enter the dna sequence\")\n",
    "if \"n\" in dna:\n",
    "    nbases=dna.count(\"n\")\n",
    "    print(f\"the number of undefined bases in dna string {nbases}\")\n",
    "else:\n",
    "    print(\"there is no undefined dna bases in dna\")\n",
    "\n"
   ]
  },
  {
   "cell_type": "code",
   "execution_count": 4,
   "id": "5dab4a39",
   "metadata": {},
   "outputs": [
    {
     "name": "stdout",
     "output_type": "stream",
     "text": [
      "the nbases have 6 undefined variables\n"
     ]
    }
   ],
   "source": [
    "dna=input(\"enter your bases\")\n",
    "if 'n' in dna:\n",
    "    nbases=dna.count(\"n\")\n",
    "    print(f\"the nbases have {nbases} undefined variables\")"
   ]
  },
  {
   "cell_type": "code",
   "execution_count": 2,
   "id": "dbb951e3-9a90-4f14-921d-78eed26d007f",
   "metadata": {},
   "outputs": [
    {
     "data": {
      "text/plain": [
       "False"
      ]
     },
     "execution_count": 2,
     "metadata": {},
     "output_type": "execute_result"
    }
   ],
   "source": [
    "motif='ggttccaa'\n",
    "dna='aataaggccaa'\n",
    "motif in dna"
   ]
  },
  {
   "cell_type": "code",
   "execution_count": 10,
   "id": "84d0fa2e-ca7b-4b03-8026-3f6c41a858d6",
   "metadata": {},
   "outputs": [
    {
     "data": {
      "text/plain": [
       "True"
      ]
     },
     "execution_count": 10,
     "metadata": {},
     "output_type": "execute_result"
    }
   ],
   "source": [
    "alphabet=['a','c','g','t']\n",
    "newalphabet=alphabet[:]#alphabet[:] creates a shallow copy of the list. It means\n",
    "alphabet==newalphabet"
   ]
  },
  {
   "cell_type": "code",
   "execution_count": 4,
   "id": "6aea29a6-3e01-4a95-9922-f3c67f5b8327",
   "metadata": {},
   "outputs": [
    {
     "data": {
      "text/plain": [
       "False"
      ]
     },
     "execution_count": 4,
     "metadata": {},
     "output_type": "execute_result"
    }
   ],
   "source": [
    "alphabet is newalphabet"
   ]
  },
  {
   "cell_type": "code",
   "execution_count": 6,
   "id": "f1e2fe63-37f4-42ea-9360-8f641a70eb04",
   "metadata": {},
   "outputs": [
    {
     "name": "stdout",
     "output_type": "stream",
     "text": [
      "enter the dna sequence aaatccggaagccaa\n"
     ]
    },
    {
     "name": "stdout",
     "output_type": "stream",
     "text": [
      "dna do not have undefined bases\n"
     ]
    }
   ],
   "source": [
    "dna=input(\"enter the dna sequence\")\n",
    "if \"n\" in dna:\n",
    "    print(\"dna have undefined bases\")\n",
    "elif \"N\" in dna:\n",
    "    print(\"dna have undefined bases\")\n",
    "else:\n",
    "    print(\"dna do not have undefined bases\")\n",
    "    "
   ]
  },
  {
   "cell_type": "code",
   "execution_count": 11,
   "id": "4fd177db-c299-4023-acc4-f2bca9871a91",
   "metadata": {},
   "outputs": [
    {
     "name": "stdout",
     "output_type": "stream",
     "text": [
      "the number of undefined bases 5\n"
     ]
    }
   ],
   "source": [
    "dna=input(\"enter your dna sequence\")\n",
    "if \"n\" in dna or \"N\" in dna :\n",
    "    nbases=dna.count(\"n\")+dna.count(\"N\")\n",
    "    print(f\"the number of undefined bases {nbases}\")\n",
    "else:\n",
    "    print(\"ther is no undefined bases \")\n"
   ]
  },
  {
   "cell_type": "code",
   "execution_count": 8,
   "id": "270df52f-847d-4130-aa90-ade6121e47df",
   "metadata": {},
   "outputs": [
    {
     "name": "stdout",
     "output_type": "stream",
     "text": [
      "donor splice site candidate at position 9 \n",
      "aaattggccgt\n"
     ]
    }
   ],
   "source": [
    "# WHILE LOOP \n",
    "dna=input(\"enter the dna sequence\")\n",
    "#The find method searches for the substring \"gt\" starting from index 0\n",
    "pos=dna.find(\"gt\",0) # position of donor splice site\n",
    "while pos>-1:#The while loop continues as long as pos is not -1. Inside the loop\n",
    "    print(\"donor splice site candidate at position %d \" %pos)\n",
    "    pos=dna.find('gt',pos+1)## Search for the next occurrence of \"gt\" starting after the current position\n",
    "    print(dna)"
   ]
  },
  {
   "cell_type": "code",
   "execution_count": 23,
   "id": "45628045",
   "metadata": {},
   "outputs": [
    {
     "name": "stdout",
     "output_type": "stream",
     "text": [
      "the pos of donor splice site 8\n"
     ]
    }
   ],
   "source": [
    "dna1=input(\"enter your dna sequence\")\n",
    "pos=dna1.find(\"gt\",0)\n",
    "while pos>-1:\n",
    "    print(f\"the pos of donor splice site {pos}\")\n",
    "    pos=dna1.find(\"gt\",pos+1)\n"
   ]
  },
  {
   "cell_type": "code",
   "execution_count": 9,
   "id": "93258415-5bf1-47c7-a8cd-a2e233e00dd0",
   "metadata": {},
   "outputs": [
    {
     "name": "stdout",
     "output_type": "stream",
     "text": [
      "aatttcccgggacc 14\n",
      "taacccgggttgggccaaagtcgatgcatgca 32\n",
      "aatggcccgtagagttc 17\n"
     ]
    }
   ],
   "source": [
    "motifs=[\"aatttcccgggacc\",\"taacccgggttgggccaaagtcgatgcatgca\",\"aatggcccgtagagttc\"]\n",
    "for m in motifs:\n",
    "    print(m,len(m))"
   ]
  },
  {
   "cell_type": "code",
   "execution_count": 11,
   "id": "da0887f1-e9ba-4686-9252-6abf5f08f5e1",
   "metadata": {},
   "outputs": [
    {
     "name": "stdout",
     "output_type": "stream",
     "text": [
      "aknckjdsnck 11\n",
      "dsbcjwdbkwcwkn 14\n",
      "cwbkjnkvnksncdok 16\n"
     ]
    }
   ],
   "source": [
    "motifs=[\"aknckjdsnck\",\"dsbcjwdbkwcwkn\",\"cwbkjnkvnksncdok\"]\n",
    "for m in motifs:\n",
    "    print(m,len(m))\n",
    "    "
   ]
  },
  {
   "cell_type": "code",
   "execution_count": 25,
   "id": "21a19ae1-d513-4143-baca-e2353ded543d",
   "metadata": {},
   "outputs": [
    {
     "name": "stdout",
     "output_type": "stream",
     "text": [
      "clsdsldmcdslcl 14\n",
      "cnskjsnks 9\n",
      "vnjkfvndsk 10\n"
     ]
    }
   ],
   "source": [
    "motifs=[\"clsdsldmcdslcl\",\"cnskjsnks\",\"vnjkfvndsk\"]\n",
    "for m in motifs:\n",
    "    print(m,len(m))"
   ]
  },
  {
   "cell_type": "code",
   "execution_count": 2,
   "id": "91f993bf",
   "metadata": {},
   "outputs": [
    {
     "name": "stdout",
     "output_type": "stream",
     "text": [
      "the undefined A is present at 0\n",
      "the undefined T is present at 1\n",
      "the undefined K is present at 2\n",
      "the undefined N is present at 3\n",
      "the undefined N is present at 4\n",
      "the undefined W is present at 5\n",
      "the undefined O is present at 6\n",
      "the undefined C is present at 7\n",
      "the undefined N is present at 8\n",
      "the undefined O is present at 9\n",
      "the undefined N is present at 10\n",
      "the undefined E is present at 11\n",
      "the undefined O is present at 12\n",
      "the undefined C is present at 13\n",
      "the undefined N is present at 14\n",
      "the undefined O is present at 15\n"
     ]
    }
   ],
   "source": [
    "protein=\"ATKNNWOCNONEOCNO\"\n",
    "for i,aminoacid in enumerate(protein):\n",
    "    if aminoacid not in \"acnkcekekvvekve\":\n",
    "        print(f\"the undefined {aminoacid} is present at {i}\")\n"
   ]
  },
  {
   "cell_type": "code",
   "execution_count": 30,
   "id": "577c678c-4e7f-4903-b702-9e2910fdbad1",
   "metadata": {},
   "outputs": [
    {
     "name": "stdout",
     "output_type": "stream",
     "text": [
      "at this 0 position this  A is unspecified\n",
      "at this 1 position this  A is unspecified\n",
      "at this 2 position this  T is unspecified\n",
      "at this 3 position this  T is unspecified\n",
      "at this 4 position this  T is unspecified\n",
      "at this 5 position this  H is unspecified\n",
      "at this 7 position this  B is unspecified\n",
      "at this 11 position this  H is unspecified\n",
      "at this 12 position this  B is unspecified\n",
      "at this 13 position this  C is unspecified\n",
      "at this 17 position this  C is unspecified\n",
      "at this 18 position this  B is unspecified\n"
     ]
    }
   ],
   "source": [
    "pro=\"AATTTHJBDSJHBCDSJCBSJ\"\n",
    "for i,aa in enumerate(pro):\n",
    "    if aa not in \"NIJNFSWIFNSDMFEFP\":\n",
    "        print(f\"at this {i} position this  {aa} is unspecified\")\n",
    "    \n"
   ]
  },
  {
   "cell_type": "code",
   "execution_count": 47,
   "id": "cafdc9bb-bc6f-4656-a3f0-c411c77abb0f",
   "metadata": {},
   "outputs": [
    {
     "name": "stdout",
     "output_type": "stream",
     "text": [
      "Protein contains invalid amino acid 'K' at position 0\n",
      "Protein contains invalid amino acid 'N' at position 1\n",
      "Protein contains invalid amino acid 'I' at position 3\n",
      "Protein contains invalid amino acid 'U' at position 4\n",
      "Protein contains invalid amino acid 'V' at position 5\n",
      "Protein contains invalid amino acid 'N' at position 6\n",
      "Protein contains invalid amino acid 'V' at position 7\n",
      "Protein contains invalid amino acid 'I' at position 9\n",
      "Protein contains invalid amino acid 'F' at position 11\n"
     ]
    }
   ],
   "source": [
    "protein = \"KNGIUVNVEIDF\"\n",
    "for i in range(len(protein)):\n",
    "    if protein[i] not in \"ABCDEGZ\":\n",
    "        print(\"Protein contains invalid amino acid '%s' at position %d\" % (protein[i], i))\n"
   ]
  },
  {
   "cell_type": "code",
   "execution_count": 23,
   "id": "e5c69f74-e4bd-4761-92bc-67e078e1b724",
   "metadata": {},
   "outputs": [],
   "source": [
    "protein = \"KNGIHENVIJIVNDFSIUVNVEIDF\"\n",
    "for i in range(len(protein)):\n",
    "    if protein[i] not in \"ABCDEFGRSTUVWXYZ\":\n",
    "        print(\"this is not a valid protein sequence\")\n",
    "        break\n"
   ]
  },
  {
   "cell_type": "code",
   "execution_count": 1,
   "id": "6c57112b-8bc7-4853-a706-8d3b69992f98",
   "metadata": {},
   "outputs": [
    {
     "name": "stdout",
     "output_type": "stream",
     "text": [
      "this is not a valid protein sequence\n",
      "this is not a valid protein sequence\n",
      "this is not a valid protein sequence\n",
      "this is not a valid protein sequence\n",
      "this is not a valid protein sequence\n",
      "this is not a valid protein sequence\n",
      "this is not a valid protein sequence\n",
      "this is not a valid protein sequence\n",
      "this is not a valid protein sequence\n",
      "this is not a valid protein sequence\n",
      "this is not a valid protein sequence\n",
      "this is not a valid protein sequence\n",
      "this is not a valid protein sequence\n",
      "this is not a valid protein sequence\n",
      "this is not a valid protein sequence\n",
      "this is not a valid protein sequence\n",
      "this is not a valid protein sequence\n",
      "this is not a valid protein sequence\n",
      "this is not a valid protein sequence\n",
      "corrected protein sequence is : H\n"
     ]
    }
   ],
   "source": [
    "protein = \"KNGIHEVNDFSIUVNVEIDF\"\n",
    "corrected_protein=''\n",
    "for i in range(len(protein)):\n",
    "    if protein[i] not in \"6465BJHBJH165\":\n",
    "        print(\"this is not a valid protein sequence\")\n",
    "        continue\n",
    "    corrected_protein=corrected_protein+protein[i]\n",
    "print('corrected protein sequence is : %s'% corrected_protein)        "
   ]
  }
 ],
 "metadata": {
  "kernelspec": {
   "display_name": "virenv",
   "language": "python",
   "name": "python3"
  },
  "language_info": {
   "codemirror_mode": {
    "name": "ipython",
    "version": 3
   },
   "file_extension": ".py",
   "mimetype": "text/x-python",
   "name": "python",
   "nbconvert_exporter": "python",
   "pygments_lexer": "ipython3",
   "version": "3.12.0"
  }
 },
 "nbformat": 4,
 "nbformat_minor": 5
}

{
 "cells": [
  {
   "cell_type": "code",
   "execution_count": 7,
   "metadata": {},
   "outputs": [
    {
     "name": "stdout",
     "output_type": "stream",
     "text": [
      "BMI results have been saved to bmi_results.xlsx.\n"
     ]
    }
   ],
   "source": [
    "import pandas as pd\n",
    "import openpyxl\n",
    "\n",
    "# Define the BMI calculation function\n",
    "def calculate_bmi(weight, height):\n",
    "    \"\"\"Calculate BMI given weight in kg and height in meters.\"\"\"\n",
    "    return round(weight / (height ** 2), 2)\n",
    "\n",
    "# Read input CSV file\n",
    "input_file = \"bmi.csv\"  # Replace with the path to your CSV file\n",
    "data = pd.read_csv(input_file)\n",
    "\n",
    "# Ensure the CSV file contains the required columns: 'Name', 'Weight', and 'Height'\n",
    "if not all(column in data.columns for column in ['Name', 'Weight', 'Height']):\n",
    "    raise ValueError(\"Input CSV must contain 'Name', 'Weight', and 'Height' columns.\")\n",
    "\n",
    "# Calculate BMI for each row\n",
    "data['BMI'] = data.apply(lambda row: calculate_bmi(row['Weight'], row['Height']), axis=1)\n",
    "\n",
    "# Save results to an Excel file\n",
    "output_file = \"bmi_results.xlsx\"\n",
    "data.to_excel(output_file, index=False, sheet_name=\"BMI Results\")\n",
    "print(f\"BMI results have been saved to {output_file}.\")\n"
   ]
  },
  {
   "cell_type": "code",
   "execution_count": 15,
   "metadata": {},
   "outputs": [],
   "source": [
    "import pandas as pd\n",
    "import openpyxl\n",
    "\n",
    "# define function\n",
    "def bmicalculate(Weight,Height):\n",
    "    return round(Weight/Height**2,2)\n",
    "\n",
    "# read input file \n",
    "input_file=\"bmi.csv\"\n",
    "data=pd.read_csv(input_file)    \n",
    "\n",
    "# make Bmi column\n",
    "data[\"BMI\"]=data.apply(lambda row: bmicalculate(row[\"Weight\"],row[\"Height\"]),axis=1)\n",
    "# save result\n",
    "\n",
    "output_file=\"bmi_results.xlsx\"\n",
    "data.to_excel(output_file,index=False,sheet_name=\"bmi_results\")\n",
    "\n",
    "\n"
   ]
  },
  {
   "cell_type": "code",
   "execution_count": 29,
   "metadata": {},
   "outputs": [],
   "source": [
    "import pandas as pd\n",
    "import openpyxl\n",
    "\n",
    "# define function\n",
    "def calcualtebmi(Weight,Height):\n",
    "    return round(Weight/Height**2,2)\n",
    "# read input file\n",
    "\n",
    "input_file=\"bmi.csv\"\n",
    "data=pd.read_csv(input_file)\n",
    "\n",
    "# make bmi column\n",
    "\n",
    "data[\"BMI\"]=data.apply(lambda row:calcualtebmi(row[\"Weight\"],row[\"Height\"]),axis=1)\n",
    "\n",
    "#save results\n",
    "output_file=\"bmi_results.xlsx\"\n",
    "data.to_excel(output_file,index=False,sheet_name=\"bmi_results\")\n",
    "\n",
    "\n",
    "\n",
    "\n"
   ]
  },
  {
   "cell_type": "code",
   "execution_count": 5,
   "metadata": {},
   "outputs": [],
   "source": [
    "import pandas as pd\n",
    "import openpyxl\n",
    "# def function\n",
    "def calcualatebmi(Weight,Height):\n",
    "    return round((Weight/Height**2),2)\n",
    "\n",
    "# read input file\n",
    "input_file=\"bmi.csv\"\n",
    "data=pd.read_csv(input_file)    \n",
    "# add new column BMI\n",
    "data[\"BMI\"]=data.apply(lambda row: calcualatebmi(row[\"Weight\"],row[\"Height\"]),axis=1)\n",
    "\n",
    "# output_file\n",
    "output_file=\"bmi_results.xlsx\"\n",
    "data.to_excel(output_file,index=False, sheet_name=\"bmi_results\")\n",
    "\n"
   ]
  },
  {
   "cell_type": "code",
   "execution_count": null,
   "metadata": {},
   "outputs": [],
   "source": [
    "# The apply() function is used to apply a function along a specified axis of the DataFrame. In this case, it is applied row-wise (axis=1).\n",
    "# row represents each row in the DataFrame.\n",
    "# calcualatebmi(row[\"Weight\"], row[\"Height\"]) calculates the BMI for each row using the Weight and Height values of the respective individual.\n",
    "\n",
    "\n",
    "# The data.to_excel(output_file, index=False, sheet_name=\"bmi_results\") line saves the DataFrame to an Excel file.\n",
    "# output_file: Specifies the name of the output file (in this case, bmi_results.xlsx).\n",
    "# index=False: Ensures that the DataFrame index is not written to the Excel file. This makes the Excel file cleaner.\n",
    "# sheet_name=\"bmi_results\": Specifies the name of the sheet in the Excel file where the data will be written."
   ]
  },
  {
   "cell_type": "code",
   "execution_count": null,
   "metadata": {},
   "outputs": [],
   "source": []
  }
 ],
 "metadata": {
  "kernelspec": {
   "display_name": "virenv",
   "language": "python",
   "name": "python3"
  },
  "language_info": {
   "codemirror_mode": {
    "name": "ipython",
    "version": 3
   },
   "file_extension": ".py",
   "mimetype": "text/x-python",
   "name": "python",
   "nbconvert_exporter": "python",
   "pygments_lexer": "ipython3",
   "version": "3.12.0"
  }
 },
 "nbformat": 4,
 "nbformat_minor": 2
}

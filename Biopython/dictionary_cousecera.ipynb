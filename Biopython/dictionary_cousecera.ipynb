{
 "cells": [
  {
   "cell_type": "code",
   "execution_count": 4,
   "id": "e075b422-44f5-43bf-8e10-5b5b88265084",
   "metadata": {},
   "outputs": [
    {
     "name": "stdout",
     "output_type": "stream",
     "text": [
      "the recognition seqrence for the ATF transcription is tgaaccttgga. \n"
     ]
    }
   ],
   "source": [
    "TF_motif={\"SP1\":\"gggcgg\",'c/EBP':'attgctta','ATF':'tgaaccttgga','Oct-1':'atgcaat'}\n",
    "print(\"the recognition seqrence for the ATF transcription is %s. \"% TF_motif['ATF'])"
   ]
  },
  {
   "cell_type": "code",
   "execution_count": 6,
   "id": "6c103757-f1f1-4b3f-aa6e-b2ed1a9dfafa",
   "metadata": {},
   "outputs": [
    {
     "data": {
      "text/plain": [
       "{'c/EBP': 'attgctta', 'ATF': 'tgaaccttgga', 'Oct-1': 'atgcaat'}"
      ]
     },
     "execution_count": 6,
     "metadata": {},
     "output_type": "execute_result"
    }
   ],
   "source": [
    " TF_motif={\"SP1\":\"gggcgg\",'c/EBP':'attgctta','ATF':'tgaaccttgga','Oct-1':'atgcaat'}\n",
    "del TF_motif['SP1']\n",
    "TF_motif"
   ]
  },
  {
   "cell_type": "code",
   "execution_count": null,
   "id": "be6dcbed-129f-4866-b4a5-c3b602810141",
   "metadata": {},
   "outputs": [],
   "source": []
  }
 ],
 "metadata": {
  "kernelspec": {
   "display_name": "Python 3 (ipykernel)",
   "language": "python",
   "name": "python3"
  },
  "language_info": {
   "codemirror_mode": {
    "name": "ipython",
    "version": 3
   },
   "file_extension": ".py",
   "mimetype": "text/x-python",
   "name": "python",
   "nbconvert_exporter": "python",
   "pygments_lexer": "ipython3",
   "version": "3.12.4"
  }
 },
 "nbformat": 4,
 "nbformat_minor": 5
}

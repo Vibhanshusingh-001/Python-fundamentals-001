{
 "cells": [
  {
   "cell_type": "code",
   "execution_count": 2,
   "id": "f0c8aa3c-3456-4262-8af7-049efb428af9",
   "metadata": {},
   "outputs": [
    {
     "name": "stdout",
     "output_type": "stream",
     "text": [
      "64.0\n"
     ]
    }
   ],
   "source": [
    "dna = 'aatttcccggtggacccgtgggcccgttaaggcgcgctgggatggcctgagctggtagtcgatgcgtcgaccgta'\n",
    "no_c = dna.count('c')  # Counts occurrences of 'c'\n",
    "no_g = dna.count('g')  # Counts occurrences of 'g'\n",
    "total = len(dna)       # Total length of the DNA sequence\n",
    "gc_percent = (no_c + no_g) * 100 / total  # GC percentage calculation\n",
    "print(gc_percent)      # Prints the GC content percentage"
   ]
  },
  {
   "cell_type": "code",
   "execution_count": 8,
   "id": "64e9fede-63cf-4703-94d0-cfde298b7535",
   "metadata": {},
   "outputs": [
    {
     "data": {
      "text/plain": [
       "20"
      ]
     },
     "execution_count": 8,
     "metadata": {},
     "output_type": "execute_result"
    }
   ],
   "source": [
    "dna = 'aatttcccggtggacccgtgggcccgttaaggcgcgctgggatggcctgagctggtagtcgatgcgtcgaccgta'\n",
    "no_c = dna.count('c')  # Counts occurrences of 'c'\n",
    "no_g = dna.count('g')  # Counts occurrences of 'g'\n",
    "no_g\n",
    "no_c\n",
    "total = len(dna)       # Total length of the DNA sequence\n",
    "print(total)"
   ]
  },
  {
   "cell_type": "code",
   "execution_count": 1,
   "id": "60499c4a-45c3-4d44-891e-51adfa8e3e81",
   "metadata": {},
   "outputs": [
    {
     "name": "stdout",
     "output_type": "stream",
     "text": [
      "The GC content of the DNA sequence is 64.00%\n"
     ]
    }
   ],
   "source": [
    "dna = 'aatttcccggtggacccgtgggcccgttaaggcgcgctgggatggcctgagctggtagtcgatgcgtcgaccgta'\n",
    "no_c = dna.count('c')\n",
    "no_g = dna.count('g')\n",
    "total = len(dna)\n",
    "gc_percent = (no_c + no_g) * 100 / total\n",
    "print(f\"The GC content of the DNA sequence is {gc_percent:.2f}%\")\n"
   ]
  },
  {
   "cell_type": "code",
   "execution_count": 2,
   "id": "0570b792-f3b6-4bdc-9549-1d0182136d58",
   "metadata": {},
   "outputs": [
    {
     "data": {
      "text/plain": [
       "8.5"
      ]
     },
     "execution_count": 2,
     "metadata": {},
     "output_type": "execute_result"
    }
   ],
   "source": [
    "17/2"
   ]
  },
  {
   "cell_type": "code",
   "execution_count": 8,
   "id": "906a9d63-2133-4469-b2ef-95d359b3a64f",
   "metadata": {},
   "outputs": [],
   "source": [
    "mydna = 'acgt'\n",
    "mydna = mydna + mydna"
   ]
  },
  {
   "cell_type": "code",
   "execution_count": 5,
   "id": "03252431-0ae9-4527-b43f-e223e900ad6d",
   "metadata": {},
   "outputs": [
    {
     "data": {
      "text/plain": [
       "'atg'"
      ]
     },
     "execution_count": 5,
     "metadata": {},
     "output_type": "execute_result"
    }
   ],
   "source": [
    "dna=\"atgctggggact\"\n",
    "dna[:3]"
   ]
  },
  {
   "cell_type": "code",
   "execution_count": 3,
   "id": "10b65e1d-f87d-4b7b-a775-2440a38fa519",
   "metadata": {},
   "outputs": [
    {
     "data": {
      "text/plain": [
       "48"
      ]
     },
     "execution_count": 3,
     "metadata": {},
     "output_type": "execute_result"
    }
   ],
   "source": [
    "dna = 'aaccgtgggcccgttaaggcgcgctgggatggcctgagctggtagtcgatgcgtcgaccgta'\n",
    "dna.find(\"atg\",dna.find(\"atg\")+1)\n"
   ]
  },
  {
   "cell_type": "code",
   "execution_count": 1,
   "id": "4111e17a",
   "metadata": {},
   "outputs": [
    {
     "data": {
      "text/plain": [
       "41"
      ]
     },
     "execution_count": 1,
     "metadata": {},
     "output_type": "execute_result"
    }
   ],
   "source": [
    "dna = 'aatttcccggtggacccgtgggcccgttaaggcgcgctgggatggcctgagctggtagtcgatgcgtcgaccgta'\n",
    "dna.find(\"atg\",dna.find(\"atg\",+1))\n"
   ]
  },
  {
   "cell_type": "code",
   "execution_count": 12,
   "id": "1e91f7a6-fa14-4e1b-b89e-e19b364bbdc3",
   "metadata": {},
   "outputs": [
    {
     "data": {
      "text/plain": [
       "61"
      ]
     },
     "execution_count": 12,
     "metadata": {},
     "output_type": "execute_result"
    }
   ],
   "source": [
    "o1 = dna.find('atg')\n",
    "dna.find('atg', o1 + 1)\n"
   ]
  },
  {
   "cell_type": "code",
   "execution_count": 13,
   "id": "465b2082-411a-452b-b122-282b997bca2f",
   "metadata": {},
   "outputs": [
    {
     "data": {
      "text/plain": [
       "61"
      ]
     },
     "execution_count": 13,
     "metadata": {},
     "output_type": "execute_result"
    }
   ],
   "source": [
    "dna.rfind('atg')\n"
   ]
  },
  {
   "cell_type": "code",
   "execution_count": 7,
   "id": "2cbdd4f3-17ad-45a1-b91c-b7ce8200a9ff",
   "metadata": {},
   "outputs": [
    {
     "ename": "NameError",
     "evalue": "name 'somedata' is not defined",
     "output_type": "error",
     "traceback": [
      "\u001b[1;31m---------------------------------------------------------------------------\u001b[0m",
      "\u001b[1;31mNameError\u001b[0m                                 Traceback (most recent call last)",
      "Cell \u001b[1;32mIn[7], line 6\u001b[0m\n\u001b[0;32m      4\u001b[0m someData[\u001b[38;5;124m'\u001b[39m\u001b[38;5;124mCheese\u001b[39m\u001b[38;5;124m'\u001b[39m] \u001b[38;5;241m=\u001b[39m \u001b[38;5;124m'\u001b[39m\u001b[38;5;124mDairy\u001b[39m\u001b[38;5;124m'\u001b[39m\n\u001b[0;32m      5\u001b[0m someData[\u001b[38;5;124m'\u001b[39m\u001b[38;5;124mcheese\u001b[39m\u001b[38;5;124m'\u001b[39m] \u001b[38;5;241m=\u001b[39m \u001b[38;5;124m'\u001b[39m\u001b[38;5;124mDairy\u001b[39m\u001b[38;5;124m'\u001b[39m\n\u001b[1;32m----> 6\u001b[0m \u001b[38;5;28mprint\u001b[39m(\u001b[43msomedata\u001b[49m)\n",
      "\u001b[1;31mNameError\u001b[0m: name 'somedata' is not defined"
     ]
    }
   ],
   "source": [
    "someData = { }\n",
    "someData['cheese'] = 'dairy'\n",
    "someData['Cheese'] = 'dairy'\n",
    "someData['Cheese'] = 'Dairy'\n",
    "someData['cheese'] = 'Dairy'\n",
    "print(somedata)"
   ]
  },
  {
   "cell_type": "raw",
   "id": "81dc3c8c-f24e-4e7e-914a-14e15aa98056",
   "metadata": {},
   "source": [
    "In Python, a single backslash (\\) is used as an escape character.\n",
    "To include a literal backslash in the output, you must escape it with another backslash: \\\\."
   ]
  }
 ],
 "metadata": {
  "kernelspec": {
   "display_name": "virenv",
   "language": "python",
   "name": "python3"
  },
  "language_info": {
   "codemirror_mode": {
    "name": "ipython",
    "version": 3
   },
   "file_extension": ".py",
   "mimetype": "text/x-python",
   "name": "python",
   "nbconvert_exporter": "python",
   "pygments_lexer": "ipython3",
   "version": "3.12.0"
  }
 },
 "nbformat": 4,
 "nbformat_minor": 5
}

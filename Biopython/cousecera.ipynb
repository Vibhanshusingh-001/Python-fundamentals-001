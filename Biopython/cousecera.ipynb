{
 "cells": [
  {
   "cell_type": "code",
   "execution_count": 1,
   "id": "73b817b5-45c1-4ad6-b719-067ea9d72dd0",
   "metadata": {},
   "outputs": [
    {
     "name": "stdout",
     "output_type": "stream",
     "text": [
      "[1]\n",
      "[1, 23]\n",
      "[23]\n",
      "[1, 23, 25]\n",
      "[23, 25]\n",
      "[25]\n",
      "[1, 23, 25, 89]\n",
      "[23, 25, 89]\n",
      "[25, 89]\n",
      "[89]\n",
      "[1, 23, 25, 89, 74]\n",
      "[23, 25, 89, 74]\n",
      "[25, 89, 74]\n",
      "[89, 74]\n",
      "[74]\n",
      "[1, 23, 25, 89, 74, 69]\n",
      "[23, 25, 89, 74, 69]\n",
      "[25, 89, 74, 69]\n",
      "[89, 74, 69]\n",
      "[74, 69]\n",
      "[69]\n",
      "[1, 23, 25, 89, 74, 69]\n",
      "[23, 25, 89, 74, 69]\n",
      "[25, 89, 74, 69]\n",
      "[89, 74, 69]\n",
      "[74, 69]\n",
      "[69]\n",
      "[]\n"
     ]
    }
   ],
   "source": [
    "# for i in range(len(seq)):      # line 1\n",
    "#     for j in range(i):         # line 2\n",
    "#         print(seq[j:i]) #The goal of the code is to print subsequences of seq\n",
    "# #improved\n",
    "seq=[1,23,25,89,74,69]\n",
    "for i in range(len(seq) + 1):    # line 1: loop until i = len(seq) to include the last element\n",
    "    for j in range(i + 1):       # line 2: loop from 0 to i (inclusive)\n",
    "        print(seq[j:i+1])        # line 3: slice seq from j to i (inclusive)\n"
   ]
  },
  {
   "cell_type": "code",
   "execution_count": 6,
   "id": "4218500f",
   "metadata": {},
   "outputs": [
    {
     "name": "stdout",
     "output_type": "stream",
     "text": [
      "[15]\n",
      "[15, 25]\n",
      "[25]\n",
      "[15, 25, 65]\n",
      "[25, 65]\n",
      "[65]\n",
      "[15, 25, 65]\n",
      "[25, 65]\n",
      "[65]\n",
      "[]\n"
     ]
    }
   ],
   "source": [
    "#The goal of the code is to print subsequences of seq\n",
    "seq=[15,25,65,]\n",
    "for i in range(len(seq)+1):\n",
    "    for j in range(i+1):\n",
    "        print(seq[j:i+1])\n"
   ]
  }
 ],
 "metadata": {
  "kernelspec": {
   "display_name": "virenv",
   "language": "python",
   "name": "python3"
  },
  "language_info": {
   "codemirror_mode": {
    "name": "ipython",
    "version": 3
   },
   "file_extension": ".py",
   "mimetype": "text/x-python",
   "name": "python",
   "nbconvert_exporter": "python",
   "pygments_lexer": "ipython3",
   "version": "3.12.0"
  }
 },
 "nbformat": 4,
 "nbformat_minor": 5
}

{
 "cells": [
  {
   "cell_type": "markdown",
   "id": "19dc3ffb-cd0a-43d1-beb2-6b948c6d8002",
   "metadata": {},
   "source": [
    "# we may input tuples may with or without sorrounding parentheses"
   ]
  },
  {
   "cell_type": "code",
   "execution_count": 1,
   "id": "029ed8cd-c9f2-4901-8c96-59892a22e25c",
   "metadata": {},
   "outputs": [
    {
     "data": {
      "text/plain": [
       "(1, 2, 3)"
      ]
     },
     "execution_count": 1,
     "metadata": {},
     "output_type": "execute_result"
    }
   ],
   "source": [
    "t=1,2,3,\n",
    "t"
   ]
  },
  {
   "cell_type": "code",
   "execution_count": 2,
   "id": "3ce09aa5-dccd-4006-a20c-b3c5a2a4ddd5",
   "metadata": {},
   "outputs": [
    {
     "data": {
      "text/plain": [
       "(1, 2, 3)"
      ]
     },
     "execution_count": 2,
     "metadata": {},
     "output_type": "execute_result"
    }
   ],
   "source": [
    "t=(1,2,3)\n",
    "t"
   ]
  },
  {
   "cell_type": "markdown",
   "id": "84d0c898-1c2a-4d57-b5fd-db3ace5e9240",
   "metadata": {},
   "source": [
    "# list are mutable tuples are immutable"
   ]
  },
  {
   "cell_type": "code",
   "execution_count": null,
   "id": "54199a05-24ae-4da7-806b-41c94993c8e8",
   "metadata": {},
   "outputs": [],
   "source": []
  }
 ],
 "metadata": {
  "kernelspec": {
   "display_name": "Python 3 (ipykernel)",
   "language": "python",
   "name": "python3"
  },
  "language_info": {
   "codemirror_mode": {
    "name": "ipython",
    "version": 3
   },
   "file_extension": ".py",
   "mimetype": "text/x-python",
   "name": "python",
   "nbconvert_exporter": "python",
   "pygments_lexer": "ipython3",
   "version": "3.12.4"
  }
 },
 "nbformat": 4,
 "nbformat_minor": 5
}

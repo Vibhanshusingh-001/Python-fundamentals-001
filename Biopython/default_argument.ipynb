{
 "cells": [
  {
   "cell_type": "code",
   "execution_count": 3,
   "metadata": {},
   "outputs": [
    {
     "name": "stdout",
     "output_type": "stream",
     "text": [
      "67.5\n"
     ]
    }
   ],
   "source": [
    "def avg(a=45,b=25):\n",
    "    average=a+b/2\n",
    "    print(average)\n",
    "avg(a=55,b=25)  \n"
   ]
  },
  {
   "cell_type": "code",
   "execution_count": 18,
   "metadata": {},
   "outputs": [
    {
     "name": "stdout",
     "output_type": "stream",
     "text": [
      "dict_keys(['1', '2', '3'])\n",
      "dict_values(['ram', 'syam', 'mohan'])\n",
      "dict_items([('1', 'ram'), ('2', 'syam'), ('3', 'mohan')])\n"
     ]
    }
   ],
   "source": [
    "# dictionary\n",
    "students={\"1\":\"ram\",\"2\":\"syam\",\"3\":\"mohan\"}\n",
    "print(students.keys())\n",
    "print(students.values())\n",
    "print(students.items())\n"
   ]
  },
  {
   "cell_type": "code",
   "execution_count": null,
   "metadata": {},
   "outputs": [],
   "source": [
    "ep1 = {122: 45, 123: 89, 567: 69, 670: 69}\n",
    "ep2 = {222: 67, 566: 90}\n",
    "\n",
    "ep1.update(ep2)\n",
    "# ek dictionary ke content ko update kar deta hai\n",
    "# doosare dictinory me\n",
    "\n",
    "ep1.clear()\n",
    "\n",
    "ep1.pop(122)#us key aur value ko gayab kar dega jiski key mention h\n",
    "\n",
    "\n",
    "ep1.popitem()\n",
    "popitem() # method removes\n",
    "# the last key-value pair from the dictionary\n",
    "\n",
    "del ep1[122]\n",
    "# we can also use the del keyword to remove a dictionary item.\n",
    "print(ep1)\n",
    "\n",
    "cmp(dict1, dict2)\n",
    "# Compares elements of both dict.\n",
    "\n",
    "len(dict)\n",
    "# Gives the total length of the dictionary. This would be equal to the number of items in the dictionary.\n",
    "\n",
    "str(dict)\n",
    "# Produces a printable string representation of a dictionary\n",
    "\n",
    "type(variable)\n",
    "#Returns the type of the passed variable. If passed variable is dictionary, then it would return a dictionary type."
   ]
  },
  {
   "cell_type": "code",
   "execution_count": null,
   "metadata": {},
   "outputs": [],
   "source": []
  },
  {
   "cell_type": "code",
   "execution_count": 9,
   "metadata": {},
   "outputs": [
    {
     "name": "stdout",
     "output_type": "stream",
     "text": [
      "{'1': 'vibhu', '2': 'atul', '3': 'dadu'}\n",
      "dict_keys(['1', '2', '3'])\n",
      "dict_values(['vibhu', 'atul', 'dadu'])\n",
      "dict_items([('1', 'vibhu'), ('2', 'atul'), ('3', 'dadu')])\n"
     ]
    },
    {
     "data": {
      "text/plain": [
       "3"
      ]
     },
     "execution_count": 9,
     "metadata": {},
     "output_type": "execute_result"
    }
   ],
   "source": [
    "a={\"1\":\"vibhu\",\"2\":\"atul\",\"3\":\"dadu\"}\n",
    "print(a)\n",
    "print(a.keys())\n",
    "print(a.values())\n",
    "print(a.items())\n",
    "\n",
    "\n",
    "str(a)\n",
    "len(a)\n",
    "# ep1 = {122: 45, 123: 89, 567: 69, 670: 69}\n",
    "# ep2 = {222: 67, 566: 90}\n",
    "# ep1.update(ep2)\n",
    "# ep1.popitem(122)\n",
    "# ep1.pop()# pop me argumrent dete hai aur popitem me nhi dete \n",
    "# del ep1[670]\n"
   ]
  }
 ],
 "metadata": {
  "kernelspec": {
   "display_name": "Python 3",
   "language": "python",
   "name": "python3"
  },
  "language_info": {
   "codemirror_mode": {
    "name": "ipython",
    "version": 3
   },
   "file_extension": ".py",
   "mimetype": "text/x-python",
   "name": "python",
   "nbconvert_exporter": "python",
   "pygments_lexer": "ipython3",
   "version": "3.12.6"
  }
 },
 "nbformat": 4,
 "nbformat_minor": 2
}

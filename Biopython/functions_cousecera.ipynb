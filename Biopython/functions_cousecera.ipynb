{
 "cells": [
  {
   "cell_type": "code",
   "execution_count": 21,
   "id": "3e34f40a-a67d-4197-82ea-ce6f44b830b7",
   "metadata": {},
   "outputs": [
    {
     "data": {
      "text/plain": [
       "27.82352941176471"
      ]
     },
     "execution_count": 21,
     "metadata": {},
     "output_type": "execute_result"
    }
   ],
   "source": [
    "\n",
    "# def gc(dna):\n",
    "#     \"\"\"to cmpute gc percent\"\"\"\n",
    "#     nbases=dna.count('n')+dna.count('N')\n",
    "#     gcpercent=float(dna.count('g')+dna.count('c')+dna.count('G')+dna.count('C'))*100/(len(dna)-nbases)\n",
    "#     return gcpercent \n",
    "\n",
    "\n",
    "def gc(dna):\n",
    "    nbases=dna.count(\"n\")+dna.count(\"N\")\n",
    "    gc_percent=(dna.count(\"g\")+dna.count(\"c\")+dna.count(\"G\")+dna.count(\"C\")+dna.count(\"A\")+dna.count(\"T\")+dna.count(\"a\")+dna.count(\"t\")*100/len(dna)-nbases)\n",
    "    return gc_percent\n",
    "gc(\"AATGGGCCTAGCaattggcNNNnnncggactaga\")    \n",
    "            \n",
    "        "
   ]
  },
  {
   "cell_type": "code",
   "execution_count": 22,
   "id": "c030ce03-04aa-4cac-a968-e4870f37f2bd",
   "metadata": {},
   "outputs": [
    {
     "data": {
      "text/plain": [
       "27.526315789473685"
      ]
     },
     "execution_count": 22,
     "metadata": {},
     "output_type": "execute_result"
    }
   ],
   "source": [
    "gc('GGAGGCccttaaggCTATC')"
   ]
  },
  {
   "cell_type": "code",
   "execution_count": 23,
   "id": "99a6229d-d928-4745-9c3a-ffe9a5e3f7c5",
   "metadata": {},
   "outputs": [
    {
     "name": "stdout",
     "output_type": "stream",
     "text": [
      "Help on function gc in module __main__:\n",
      "\n",
      "gc(dna)\n",
      "\n"
     ]
    }
   ],
   "source": [
    "help(gc)"
   ]
  },
  {
   "cell_type": "code",
   "execution_count": 24,
   "id": "b614174a-ec26-43c1-bd07-0c00ed8bdf8e",
   "metadata": {},
   "outputs": [
    {
     "data": {
      "text/plain": [
       "52.684210526315795"
      ]
     },
     "execution_count": 24,
     "metadata": {},
     "output_type": "execute_result"
    }
   ],
   "source": [
    "gc(dna)"
   ]
  },
  {
   "cell_type": "code",
   "execution_count": 33,
   "id": "82f51df3",
   "metadata": {},
   "outputs": [],
   "source": [
    "def has_stop_codon(dna, frame):\n",
    "    \"\"\"\n",
    "    This function checks for the presence of stop codons in a DNA sequence\n",
    "    starting from the specified frame.\n",
    "    Parameters:\n",
    "        dna (str): The DNA sequence (should contain A, T, G, C).\n",
    "        frame (int): The reading frame (0, 1, or 2).\n",
    "    Returns:\n",
    "        bool: True if a stop codon is found, False otherwise.\n",
    "    \"\"\"\n",
    "    # Ensure the input is uppercase for consistency\n",
    "    dna = dna.upper()\n",
    "\n",
    "    # Define stop codons\n",
    "    stop_codons = [\"TAA\", \"TAG\", \"TGA\"]\n",
    "\n",
    "    # Iterate through the sequence in steps of 3 starting from the given frame\n",
    "    for i in range(frame, len(dna), 3):\n",
    "        codon = dna[i:i+3]\n",
    "        if codon in stop_codons:\n",
    "            return True  # Return True immediately if a stop codon is found\n",
    "\n",
    "    # If no stop codon is found, return False\n",
    "    return False\n"
   ]
  },
  {
   "cell_type": "code",
   "execution_count": 34,
   "id": "c9815570",
   "metadata": {},
   "outputs": [
    {
     "name": "stdout",
     "output_type": "stream",
     "text": [
      "Stop codon found in frame 0.\n",
      "No stop codon found in frame 1.\n",
      "Stop codon found in frame 2.\n"
     ]
    }
   ],
   "source": [
    "# Example DNA sequence\n",
    "dna_sequence = \"ATGCGATAGGCTAGCTAATGA\"\n",
    "\n",
    "# Check for stop codons in frame 0\n",
    "if has_stop_codon(dna_sequence, 0):\n",
    "    print(\"Stop codon found in frame 0.\")\n",
    "else:\n",
    "    print(\"No stop codon found in frame 0.\")\n",
    "\n",
    "else:\n",
    "    print(\"No stop codon found in frame 2.\")\n"
   ]
  },
  {
   "cell_type": "code",
   "execution_count": 41,
   "id": "73f762a8",
   "metadata": {},
   "outputs": [
    {
     "name": "stdout",
     "output_type": "stream",
     "text": [
      "stop codon present in dna string  frame 0\n",
      "stop codon is not present in dna string frame 1\n"
     ]
    }
   ],
   "source": [
    "def has_stop_codon(dna,frame):\n",
    "    \n",
    "    stopcodon=[\"tga\",\"tag\",\"atg\"]\n",
    "    for i in range(frame,len(dna),3):\n",
    "        codon=dna[i:i+3]\n",
    "        if codon in stopcodon:\n",
    "            return True\n",
    "    return False \n",
    "\n",
    "dna=\"aaatttggaacacacaggattgagatggagattcg\"\n",
    "if has_stop_codon(dna,0):\n",
    "    print(\"stop codon present in dna string  frame 0\")\n",
    "else:\n",
    "    print(\"stop codon is not present in dna string frame 0\")    \n",
    "if has_stop_codon(dna,1):\n",
    "    print(\"stop codon present in dna string frame 1\")\n",
    "else:\n",
    "    print(\"stop codon is not present in dna string frame 1\")       \n",
    "\n",
    "            \n"
   ]
  }
 ],
 "metadata": {
  "kernelspec": {
   "display_name": "virenv",
   "language": "python",
   "name": "python3"
  },
  "language_info": {
   "codemirror_mode": {
    "name": "ipython",
    "version": 3
   },
   "file_extension": ".py",
   "mimetype": "text/x-python",
   "name": "python",
   "nbconvert_exporter": "python",
   "pygments_lexer": "ipython3",
   "version": "3.12.0"
  }
 },
 "nbformat": 4,
 "nbformat_minor": 5
}

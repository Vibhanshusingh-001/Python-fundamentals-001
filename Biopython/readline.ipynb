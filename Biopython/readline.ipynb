{
 "cells": [
  {
   "cell_type": "code",
   "execution_count": 10,
   "metadata": {},
   "outputs": [
    {
     "name": "stdout",
     "output_type": "stream",
     "text": [
      "Marks of student 1in maths is:12\n",
      "Marks of student 1in english is:45\n",
      "Marks of student 1in SST is:63\n",
      "\n",
      "12,45,63\n",
      "\n",
      "Marks of student 2in maths is:25\n",
      "Marks of student 2in english is:65\n",
      "Marks of student 2in SST is:35\n",
      "\n",
      "25,65,35\n",
      "\n",
      "Marks of student 3in maths is:78\n",
      "Marks of student 3in english is:98\n",
      "Marks of student 3in SST is:89\n",
      "78,98,89\n",
      " <class 'str'>\n"
     ]
    }
   ],
   "source": [
    "#line by line read karne ke liye ham ise use karte h\n",
    "f=open('myfile.txt','r')\n",
    "i=0\n",
    "while True:\n",
    "    i=i+1\n",
    "    line=f.readline()\n",
    "    if not line:\n",
    "        print(line,type(line))\n",
    "        break\n",
    "    m1=line.split(\",\")[0]\n",
    "    m2=line.split(\",\")[1]\n",
    "    m3=line.split(\",\")[2]\n",
    "    print(f\"Marks of student {i}in maths is:{m1}\")\n",
    "    print(f\"Marks of student {i}in english is:{m2}\")\n",
    "    print(f\"Marks of student {i}in SST is:{m3}\")\n",
    "\n",
    "    print(line)\n",
    "\n",
    "\n"
   ]
  },
  {
   "cell_type": "markdown",
   "metadata": {},
   "source": [
    "#  recursion\n",
    "\n",
    "\n"
   ]
  },
  {
   "cell_type": "code",
   "execution_count": 22,
   "metadata": {},
   "outputs": [
    {
     "name": "stdout",
     "output_type": "stream",
     "text": [
      "1\n"
     ]
    }
   ],
   "source": [
    "# factorial(n) = n * factorial(n-1)\n",
    "def factorial(n):\n",
    "  if (n == 0 or n == 1):\n",
    "    return 1\n",
    "  else:\n",
    "    return n * factorial(n - 1)\n",
    "print(factorial(0))"
   ]
  },
  {
   "cell_type": "code",
   "execution_count": 1,
   "metadata": {},
   "outputs": [
    {
     "data": {
      "text/plain": [
       "120"
      ]
     },
     "execution_count": 1,
     "metadata": {},
     "output_type": "execute_result"
    }
   ],
   "source": [
    "def factorial(n):\n",
    "    if (n==0 or n==1):\n",
    "        return 1\n",
    "    else:\n",
    "        return n*factorial(n-1)\n",
    "result=factorial(5)\n",
    "result"
   ]
  },
  {
   "cell_type": "code",
   "execution_count": 23,
   "metadata": {},
   "outputs": [
    {
     "name": "stdout",
     "output_type": "stream",
     "text": [
      "120\n"
     ]
    }
   ],
   "source": [
    "# recursion \n",
    "def factorial(n):\n",
    "    if (n==0 or n==1):\n",
    "        return 1\n",
    "    else:\n",
    "        return n* factorial(n-1)\n",
    "print(factorial(5))\n",
    "        "
   ]
  },
  {
   "cell_type": "code",
   "execution_count": 24,
   "metadata": {},
   "outputs": [
    {
     "name": "stdout",
     "output_type": "stream",
     "text": [
      "Words containing 'o': ['brown', 'fox', 'over', 'dog']\n"
     ]
    }
   ],
   "source": [
    "import re\n",
    "\n",
    "# Define a text string\n",
    "text = \"The quick brown fox jumps over the lazy dog.\"\n",
    "\n",
    "# Define a regular expression pattern to search for words containing 'o'\n",
    "pattern = r'\\b\\w*o\\w*\\b'\n",
    "\n",
    "# Use re.findall() to find all matches of the pattern in the text\n",
    "matches = re.findall(pattern, text)\n",
    "\n",
    "# Print the matches\n",
    "print(\"Words containing 'o':\", matches)\n"
   ]
  },
  {
   "cell_type": "code",
   "execution_count": null,
   "metadata": {},
   "outputs": [],
   "source": [
    "# Function\t   Description\n",
    "# findall\t    Returns a list containing all matches\n",
    "# search\t    Returns a Match object if there is a match anywhere in the string\n",
    "# split\t        Returns a list where the string has been split at each match\n",
    "# sub         \tReplaces one or many matches with a string"
   ]
  },
  {
   "cell_type": "code",
   "execution_count": 9,
   "metadata": {},
   "outputs": [
    {
     "name": "stdout",
     "output_type": "stream",
     "text": [
      "['a']\n"
     ]
    }
   ],
   "source": [
    "# import re\n",
    "\n",
    "# txt = \"The rain in Spain\"\n",
    "# x = re.search(\"ai\", txt)\n",
    "# print(x) #this will print an object\n",
    "\n",
    "\n",
    "import re\n",
    "name=\"vibhanshu\"\n",
    "a=re.findall(\"a\",name)\n",
    "print(a)"
   ]
  },
  {
   "cell_type": "code",
   "execution_count": 32,
   "metadata": {},
   "outputs": [
    {
     "name": "stdout",
     "output_type": "stream",
     "text": [
      "['a', 'a', 'a', 'a']\n"
     ]
    }
   ],
   "source": [
    "import re\n",
    "text=\"vibhanshu singh gaharwar\"\n",
    "txt=re.findall(\"a\",text)\n",
    "print(txt)"
   ]
  },
  {
   "cell_type": "code",
   "execution_count": 33,
   "metadata": {},
   "outputs": [
    {
     "name": "stdout",
     "output_type": "stream",
     "text": [
      "<re.Match object; span=(4, 5), match='a'>\n"
     ]
    }
   ],
   "source": [
    "import re\n",
    "text=\"vibhanshu singh gaharwar\"\n",
    "txt=re.search(\"a\",text)\n",
    "print(txt)"
   ]
  },
  {
   "cell_type": "code",
   "execution_count": 34,
   "metadata": {},
   "outputs": [
    {
     "name": "stdout",
     "output_type": "stream",
     "text": [
      "['vibh', 'nshu singh g', 'h', 'rw', 'r']\n"
     ]
    }
   ],
   "source": [
    "import re\n",
    "text=\"vibhanshu singh gaharwar\"\n",
    "txt=re.split(\"a\",text)\n",
    "print(txt)"
   ]
  },
  {
   "cell_type": "code",
   "execution_count": 36,
   "metadata": {},
   "outputs": [
    {
     "name": "stdout",
     "output_type": "stream",
     "text": [
      "vibhbnshu singh gbhbrwbr\n"
     ]
    }
   ],
   "source": [
    "import re\n",
    "text=\"vibhanshu singh gaharwar\"\n",
    "txt=re.sub(\"a\",'b',text)\n",
    "print(txt)"
   ]
  },
  {
   "cell_type": "markdown",
   "metadata": {},
   "source": [
    "# secret code"
   ]
  },
  {
   "cell_type": "code",
   "execution_count": null,
   "metadata": {},
   "outputs": [],
   "source": [
    "# Write a python program to translate a message into secret code language. Use the rules below to translate normal English into secret code language\n",
    "\n",
    "# Coding:\n",
    "# if the word contains atleast 3 characters, remove the first letter and append it at the end\n",
    "#   now append three random characters at the starting and the end\n",
    "# else:\n",
    "#   simply reverse the string\n",
    "\n",
    "# Decoding:\n",
    "# if the word contains less than 3 characters, reverse it\n",
    "# else:\n",
    "#   remove 3 random characters from start and end. Now remove the last letter and append it to the beginning\n",
    "\n",
    "# Your program should ask whether you want to code or decode\n"
   ]
  },
  {
   "cell_type": "code",
   "execution_count": 37,
   "metadata": {},
   "outputs": [],
   "source": [
    "f = open('myfile2.txt', 'w')\n",
    "lines = ['line 1\\n', 'line 2\\n', 'line 3\\n']\n",
    "f.writelines(lines)\n",
    "f.close()\n",
    "\n",
    "# lines jo iterable object hai iske saare elements ko 1 by one\n",
    "\n",
    "# 1-1 karke us file me chipka dega\n",
    "\n",
    "# Keep in mind that the writelines() method does not add newline characters between the strings in the sequence.\n",
    "# If you want to add newlines between the strings, you can use a loop to write each string separately\n",
    "\n"
   ]
  },
  {
   "cell_type": "code",
   "execution_count": 40,
   "metadata": {},
   "outputs": [],
   "source": [
    "f=open(\"myfile3.txt\",\"w\")\n",
    "lines=[\"line1\\n\",\"line2\\n\",\"line3\\n\"]\n",
    "f.writelines(lines)\n",
    "f.close()\n"
   ]
  }
 ],
 "metadata": {
  "kernelspec": {
   "display_name": "Python 3",
   "language": "python",
   "name": "python3"
  },
  "language_info": {
   "codemirror_mode": {
    "name": "ipython",
    "version": 3
   },
   "file_extension": ".py",
   "mimetype": "text/x-python",
   "name": "python",
   "nbconvert_exporter": "python",
   "pygments_lexer": "ipython3",
   "version": "3.12.6"
  }
 },
 "nbformat": 4,
 "nbformat_minor": 2
}

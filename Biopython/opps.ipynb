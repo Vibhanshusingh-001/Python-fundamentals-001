{
 "cells": [
  {
   "cell_type": "markdown",
   "metadata": {},
   "source": [
    "##class is features of object\n",
    "\n",
    "Introduction to Object-oriented programming\n",
    "Introduction to Object-Oriented Programming in Python: In programming languages, mainly there are two approaches that are used to write program or code.\n",
    "\n",
    "1). Procedural Programming\n",
    "2). Object-Oriented Programming\n",
    "The procedure we are following till now is the “Procedural Programming” approach. So, in this session, we will learn about Object Oriented Programming (OOP). The basic idea of object-oriented programming (OOP) in Python is to use classes and objects to represent real-world concepts and entities.\n",
    "\n",
    "A class is a blueprint or template for creating objects.\n",
    "\n",
    "An object is an instance of a class, and it contains its own data and methods.\n",
    "\n",
    "\n",
    "One of the key features of OOP in Python is encapsulation, which means that the internal state of an object is hidden and can only be accessed or modified through the object's methods. \n",
    "\n",
    "Another key feature of OOP in Python is inheritance, which allows new classes to be created that inherit the properties and methods of an existing class. This allows for code reuse and makes it easy to create new classes that have similar functionality to existing classes.\n",
    "\n",
    "is a concept that allows objects of different classes to be treated as objects of a common base class. It enables a single interface to represent different types of behaviors, promoting code flexibility and reusability.\n",
    "\n",
    "Code Reusability: Same interface can be used for different implementations.\n",
    "Flexibility: Objects can be designed to work interchangeably.\n",
    "Extensibility: Adding new functionalities does not affect existing code.\n",
    "\n",
    "In summary, OOP in Python allows developers to model real-world concepts and entities using classes and objects, encapsulate data, reuse code through inheritance, and write more flexible code through polymorphism."
   ]
  },
  {
   "cell_type": "code",
   "execution_count": 1,
   "metadata": {},
   "outputs": [
    {
     "name": "stdout",
     "output_type": "stream",
     "text": [
      "Shubham is a Accountant\n",
      "Nitika is a HR\n",
      "Harry is a Software Developer\n"
     ]
    }
   ],
   "source": [
    "# self ka matlab wo object jisake liye ye method call kiya ja raha \n",
    "\n",
    "class Person:\n",
    "  name = \"Harry\"\n",
    "  occupation = \"Software Developer\"\n",
    "  networth = 10\n",
    "  def info(self):\n",
    "    print(f\"{self.name} is a {self.occupation}\")\n",
    "\n",
    "# a,b,c are objects\n",
    "a = Person()\n",
    "b = Person()\n",
    "c = Person()\n",
    "\n",
    "a.name = \"Shubham\"\n",
    "a.occupation = \"Accountant\"\n",
    "\n",
    "b.name = \"Nitika\"\n",
    "b.occupation = \"HR\"\n",
    "\n",
    "# print(a.name, a.occupation)\n",
    "a.info()\n",
    "b.info()\n",
    "c.info()\n",
    "# info is method"
   ]
  },
  {
   "cell_type": "code",
   "execution_count": 9,
   "metadata": {},
   "outputs": [
    {
     "name": "stdout",
     "output_type": "stream",
     "text": [
      "best car is having 4 and 3 and red \n",
      "best car is having 6 and 5 and pink \n"
     ]
    }
   ],
   "source": [
    "# class person:\n",
    "#     age=\"15\"\n",
    "#     name=\"vibhu singh\"\n",
    "#     gender=\"male\"\n",
    "#     def info (self):\n",
    "#         print(f\"his name is{self.name} and age is{self.age} and gender is {self.gender}\")\n",
    "    \n",
    "\n",
    "# a=person()    \n",
    "# b=person()\n",
    "# c=person()\n",
    "\n",
    "# a.name=\"himanshu\"\n",
    "# a.age=\"18\"\n",
    "# a.gender=\"female\"\n",
    "\n",
    "# a.info()\n",
    "# b.info()\n",
    "# c.info()\n",
    "\n",
    "\n",
    "\n",
    "class car:\n",
    "    window=\"4\"\n",
    "    wheel=\"3\"\n",
    "    colour=\"red\"\n",
    "    def info(self):\n",
    "        print(f\"best car is having {self.window} and {self.wheel} and {self.colour} \")\n",
    "\n",
    "\n",
    "a=car()\n",
    "b=car()\n",
    "\n",
    "b.window=\"6\"\n",
    "b.colour=\"pink\"\n",
    "b.wheel=\"5\"\n",
    "\n",
    "\n",
    "a.info()\n",
    "b.info()"
   ]
  },
  {
   "cell_type": "code",
   "execution_count": 10,
   "metadata": {},
   "outputs": [
    {
     "name": "stdout",
     "output_type": "stream",
     "text": [
      "Hey I am a person\n",
      "Hey I am a person\n",
      "Harry is a Developer\n",
      "Divya is a HR\n"
     ]
    }
   ],
   "source": [
    "# constructor object banane me madad karte h\n",
    "class Person:\n",
    "\n",
    "  def __init__(self, name, occ):\n",
    "    print(\"Hey I am a person\")\n",
    "    self.name = name\n",
    "    self.occ = occ\n",
    "\n",
    "  def info(self):\n",
    "    print(f\"{self.name} is a {self.occ}\")\n",
    "\n",
    "\n",
    "a = Person(\"Harry\", \"Developer\")# yaha self automatically call hota hai total yaha 3 argument hai\n",
    "b = Person(\"Divya\", \"HR\") \n",
    "a.info()\n",
    "b.info()\n",
    "# print(a.name)\n",
    "# a.name = \"Divya\"\n",
    "# a.occ = \"HR\"\n",
    "# a.info()\n"
   ]
  },
  {
   "cell_type": "code",
   "execution_count": 12,
   "metadata": {},
   "outputs": [
    {
     "name": "stdout",
     "output_type": "stream",
     "text": [
      "Default Name 0\n"
     ]
    }
   ],
   "source": [
    "# default constructor \n",
    "class Person:\n",
    "    def __init__(self):  # Default constructor\n",
    "        self.name = \"Default Name\"\n",
    "        self.age = 0\n",
    "\n",
    "p = Person()\n",
    "print(p.name, p.age)  # Output: Default Name 0\n"
   ]
  },
  {
   "cell_type": "code",
   "execution_count": null,
   "metadata": {},
   "outputs": [],
   "source": [
    "#Parameterized Constructor:\n",
    "class Person:\n",
    "    def __init__(self):  # Default constructor\n",
    "        self.name = \"Default Name\"\n",
    "        self.age = 0\n",
    "\n",
    "p = Person()\n",
    "print(p.name, p.age)  # Output: Default Name 0\n"
   ]
  },
  {
   "cell_type": "code",
   "execution_count": 11,
   "metadata": {},
   "outputs": [
    {
     "name": "stdout",
     "output_type": "stream",
     "text": [
      "Shubham is a Accountant\n",
      "Nitika is a HR\n"
     ]
    }
   ],
   "source": [
    "class Person:\n",
    "    def __init__(self, name, occupation):\n",
    "        self.name = name\n",
    "        self.occupation = occupation\n",
    "\n",
    "    def info(self):\n",
    "        print(f\"{self.name} is a {self.occupation}\")\n",
    "\n",
    "# Creating objects\n",
    "person1 = Person(\"Shubham\", \"Accountant\")\n",
    "person2 = Person(\"Nitika\", \"HR\")\n",
    "\n",
    "# Calling methods\n",
    "person1.info()  # Output: Shubham is a Accountant\n",
    "person2.info()  # Output: Nitika is a HR\n"
   ]
  },
  {
   "cell_type": "markdown",
   "metadata": {},
   "source": [
    "\n",
    "####### Automatic Invocation: The __init__ method is called automatically when an object is created.\n",
    "\n",
    "####### Initialization: Used to set initial values for instance variables.\n",
    "\n",
    "####### One Constructor per Class: A class can have only one __init__ method. To handle multiple use cases, you can use default arguments or conditional logic."
   ]
  },
  {
   "cell_type": "code",
   "execution_count": null,
   "metadata": {},
   "outputs": [],
   "source": [
    "# Constructors\n",
    "# A constructor is a special method in a class used to create and initialize an object of a class.\n",
    "#  There are different types of constructors.\n",
    "\n",
    "#  Constructor is invoked automatically when an object of a class is created.\n",
    "\n",
    "# A constructor is a unique function that gets called automatically when an object is created of a class. The main purpose of\n",
    "#  a constructor is to initialize or assign values to the data members of that class. It cannot return any value other than None.\n",
    "\n",
    "# Syntax of Python Constructor\n",
    "def __init__(self):\n",
    "\t# initializations\n",
    "# init is one of the reserved functions in Python. In Object Oriented Programming, it is known as a constructor.\n",
    "\n",
    "# Types of Constructors in Python\n",
    "# Parameterized Constructor\n",
    "# Default Constructor\n",
    "# Parameterized Constructor in Python\n",
    "# When the constructor accepts arguments along with self, it is known as parameterized constructor.\n",
    "\n",
    "# These arguments can be used inside the class to assign the values to the data members.\n",
    "\n",
    "# Example:\n",
    "class Details:\n",
    "    def __init__(self, animal, group):\n",
    "        self.animal = animal\n",
    "        self.group = group\n",
    "obj1 = Details(\"Crab\", \"Crustaceans\")\n",
    "print(obj1.animal, \"belongs to the\", obj1.group, \"group.\")\n",
    "# Output:\n",
    "# Crab belongs to the Crustaceans group.\n",
    "# Default Constructor in Python\n",
    "# When the constructor doesn't accept any arguments from the object and has only one argument, self, in the constructor, it is known as a Default constructor.\n",
    "\n",
    "# Example:\n",
    "class Details:\n",
    "  def __init__(self):\n",
    "    print(\"animal Crab belongs to Crustaceans group\")\n",
    "obj1=Details()\n",
    "# Output:\n",
    "# animal Crab belongs to Crustaceans group"
   ]
  },
  {
   "cell_type": "code",
   "execution_count": null,
   "metadata": {},
   "outputs": [],
   "source": [
    "# decorators function ko modify karate hain\n",
    "# Python Decorators\n",
    "# Python decorators are a powerful and versatile tool that allow you to modify the behavior of functions and methods. \n",
    "# They are a way to extend the functionality of a function or method without modifying its source code.\n",
    "\n",
    "# A decorator is a function that takes another function as an argument and returns a new function that modifies the \n",
    "# behavior of the original function. The new function is often referred to as a \"decorated\" function. The basic syntax for \n",
    "# using a decorator is the following:\n",
    "\n",
    "@decorator_function\n",
    "def my_function():\n",
    "    pass\n",
    "The @decorator_function notation is just a shorthand for the following code:\n",
    "\n",
    "def my_function():\n",
    "    pass\n",
    "my_function = decorator_function(my_function)\n",
    "# Decorators are often used to add functionality to functions and methods, such as logging, memoization, and access control.\n",
    "\n",
    "# Practical use case\n",
    "# One common use of decorators is to add logging to a function. For example, you could use a decorator to log the arguments and return value of a function each time it is called:\n",
    "\n",
    "import logging\n",
    "def log_function_call(func):\n",
    "    def decorated(*args, **kwargs):\n",
    "        logging.info(f\"Calling {func.__name__} with args={args}, kwargs={kwargs}\")\n",
    "        result = func(*args, **kwargs)\n",
    "        logging.info(f\"{func.__name__} returned {result}\")\n",
    "        return result\n",
    "    return decorated\n",
    "@log_function_call\n",
    "def my_function(a, b):\n",
    "    return a + b\n",
    "# In this example, the log_function_call decorator takes a function as an argument and returns a new function that logs the \n",
    "# function call before and after the original function is called.\n",
    "\n",
    "# Conclusion\n",
    "# Decorators are a powerful and flexible feature in Python that can be used to add functionality to functions and methods \n",
    "# without modifying their source code. They are a great tool for separating concerns, reducing code duplication, and making your\n",
    "#  code more readable and maintainable.\n",
    "\n",
    "# In conclusion, python decorators are a way to extend the functionality of functions and methods, by modifying its behavior\n",
    "#  without modifying the source code. They are used for a variety of purposes, such as logging, memoization, access control, \n",
    "#  and more. They are a powerful tool that can be used to make your code more readable, maintainable, and extendable."
   ]
  },
  {
   "cell_type": "markdown",
   "metadata": {},
   "source": [
    "#### decorators wo function hote hai jo function ko change karke return karate hain\n",
    "### decorators function ko modify kar dete hai\n",
    "####### maan lo aap kisi function ko run karne se pahle aap chahte ho ki aap good morning print hokr aaye aur function execute hone ke baad thank you print ho kr aaye"
   ]
  },
  {
   "cell_type": "code",
   "execution_count": 3,
   "metadata": {},
   "outputs": [
    {
     "name": "stdout",
     "output_type": "stream",
     "text": [
      "Good Morning\n",
      "Hello world\n",
      "Thanks for using this function\n",
      "Good Morning\n",
      "3\n",
      "Thanks for using this function\n"
     ]
    }
   ],
   "source": [
    "\n",
    "def greet(fx):\n",
    "  def mfx(*args, **kwargs):# *args tarika h lene ka jitane bhi argument hai as a tuple and **kwargs tarika h lene ka jitane bhi argument hai as a dictinory\n",
    "    print(\"Good Morning\")\n",
    "    fx(*args, **kwargs)\n",
    "    print(\"Thanks for using this function\")\n",
    "  return mfx\n",
    "\n",
    "@greet\n",
    "def hello():\n",
    "  print(\"Hello world\")\n",
    "\n",
    "@greet\n",
    "def add(a, b):\n",
    "  print(a+b)\n",
    "  \n",
    "# greet(hello)()\n",
    "hello()\n",
    "# greet(add)(1, 2)\n",
    "add(1, 2)\n"
   ]
  },
  {
   "cell_type": "code",
   "execution_count": 14,
   "metadata": {},
   "outputs": [
    {
     "name": "stdout",
     "output_type": "stream",
     "text": [
      "25\n",
      "take sin a number n, returns the square if n \n"
     ]
    },
    {
     "data": {
      "text/plain": [
       "'vibhu ji'"
      ]
     },
     "execution_count": 14,
     "metadata": {},
     "output_type": "execute_result"
    }
   ],
   "source": [
    "def square(n):\n",
    "    '''takes in a number n, returns the square if n '''\n",
    "    print(n**2)\n",
    "square(5)    \n",
    "print(square.__doc__)\n",
    "'''vibhu ji'''\n"
   ]
  },
  {
   "cell_type": "code",
   "execution_count": 20,
   "metadata": {},
   "outputs": [
    {
     "name": "stdout",
     "output_type": "stream",
     "text": [
      "15\n",
      "55\n",
      "64\n",
      "awesome\n",
      "29\n",
      "45\n",
      "48\n",
      "58\n"
     ]
    }
   ],
   "source": [
    "# enumerate function\n",
    "marks=[15,55,64,29,45,48,58]\n",
    "# index=0\n",
    "# for mark in marks:\n",
    "#     print(mark)\n",
    "#     if index==3:\n",
    "#         print(\"u got excellent marks\")\n",
    "#     index +=1 #After processing each element, index is incremented by 1 to keep track of the position in the list.    \n",
    "\n",
    "marks=[15,55,64,29,45,48,58]\n",
    "for index, mark in enumerate(marks,start=1):\n",
    "    print(mark)\n",
    "    if index==3:\n",
    "        print(\"awesome\")\n",
    "\n",
    "\n",
    "# The enumerate() function is used to iterate through the marks list, providing both the index and the value (mark) of each element.\n",
    "# By default, enumerate() starts indexing from 0. Using start=1, you make the indexing start from 1.\n",
    "    "
   ]
  },
  {
   "cell_type": "code",
   "execution_count": 24,
   "metadata": {},
   "outputs": [
    {
     "name": "stdout",
     "output_type": "stream",
     "text": [
      "15\n",
      "55\n",
      "64\n",
      "awesome\n",
      "29\n",
      "45\n",
      "48\n",
      "58\n"
     ]
    }
   ],
   "source": [
    "marks=[15,55,64,29,45,48,58]\n",
    "for index, mark in enumerate(marks,start=1):\n",
    "    print(mark)\n",
    "    if index==3:\n",
    "        print(\"awesome\")\n",
    "\n"
   ]
  },
  {
   "cell_type": "code",
   "execution_count": 31,
   "metadata": {},
   "outputs": [
    {
     "name": "stdout",
     "output_type": "stream",
     "text": [
      "this is index 0 and this is character vibhanshu\n",
      "this is index 1 and this is character singh\n",
      "this is index 2 and this is character gaharwar\n"
     ]
    }
   ],
   "source": [
    "a=[\"vibhanshu\",\"singh\",\"gaharwar\"]\n",
    "for index, name in enumerate(a):\n",
    "    print(f\"this is index {index} and this is character {name}\")\n"
   ]
  },
  {
   "cell_type": "code",
   "execution_count": 34,
   "metadata": {},
   "outputs": [
    {
     "name": "stdout",
     "output_type": "stream",
     "text": [
      "1 geeks\n",
      "2 for\n",
      "3 geeks\n"
     ]
    }
   ],
   "source": [
    "a = [\"geeks\", \"for\", \"geeks\"]\n",
    "\n",
    "#Looping through the list using enumerate\n",
    "# starting the index from 1\n",
    "for index, x in enumerate(a, start=1):\n",
    "    print(index, x)"
   ]
  },
  {
   "cell_type": "code",
   "execution_count": 35,
   "metadata": {},
   "outputs": [
    {
     "name": "stdout",
     "output_type": "stream",
     "text": [
      "(0, 'Geeks')\n",
      "(1, 'for')\n",
      "(2, 'Geeks')\n"
     ]
    }
   ],
   "source": [
    "a = [\"Geeks\", \"for\", \"Geeks\"]\n",
    "\n",
    "# printing the tuples in object directly\n",
    "for ele in enumerate(a):\n",
    "    print (ele)"
   ]
  }
 ],
 "metadata": {
  "kernelspec": {
   "display_name": "Python 3",
   "language": "python",
   "name": "python3"
  },
  "language_info": {
   "codemirror_mode": {
    "name": "ipython",
    "version": 3
   },
   "file_extension": ".py",
   "mimetype": "text/x-python",
   "name": "python",
   "nbconvert_exporter": "python",
   "pygments_lexer": "ipython3",
   "version": "3.12.6"
  }
 },
 "nbformat": 4,
 "nbformat_minor": 2
}

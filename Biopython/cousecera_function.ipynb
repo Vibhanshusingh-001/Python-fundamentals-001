{
 "cells": [
  {
   "cell_type": "code",
   "execution_count": 18,
   "id": "380aa040-87a7-4a44-9a90-8c097ccfccd3",
   "metadata": {},
   "outputs": [
    {
     "name": "stdout",
     "output_type": "stream",
     "text": [
      "GGGCCAATTTtctggcccaatt\n"
     ]
    }
   ],
   "source": [
    "# def reversecomplement(seq):\n",
    "#     \"\"\"This function converts a DNA sequence into its reverse complement.\"\"\"\n",
    "#     # Define the complement mapping\n",
    "#     complement = {\"A\": \"T\", \"T\": \"A\", \"G\": \"C\", \"C\": \"G\", \n",
    "#                   \"a\": \"t\", \"t\": \"a\", \"g\": \"c\", \"c\": \"g\"}\n",
    "    \n",
    "#     # Compute the complement\n",
    "#     complemented_seq = \"\".join(complement[base] for base in seq)\n",
    "    \n",
    "#     # Reverse the complemented sequence\n",
    "#     reversed_complement = complemented_seq[::-1]\n",
    "    \n",
    "#     return reversed_complement\n",
    "\n",
    "# # Example usage\n",
    "# result = reversecomplement(\"aattggccagagtAATTGGCgcggagc\")\n",
    "# print(result)\n",
    "\n",
    "\n",
    "\n",
    "def reversecomplement(seq):\n",
    "    '''this function will help u to make revese complement of dna strings'''\n",
    "    complement={\"a\": \"t\",\"g\":\"c\",\"A\":\"T\",\"G\":\"C\",\"t\":\"a\",\"c\":\"g\",\"T\":\"A\",\"C\":\"G\"}\n",
    "    camplement_base=\"\".join(complement[base] for base in seq)\n",
    "    complement_reverse=camplement_base[::-1]\n",
    "    return complement_reverse \n",
    "dna=reversecomplement(\"aattgggccagaAAATTGGCCC\")\n",
    "print(dna)"
   ]
  },
  {
   "cell_type": "code",
   "execution_count": 11,
   "id": "f0096533",
   "metadata": {},
   "outputs": [
    {
     "name": "stdout",
     "output_type": "stream",
     "text": [
      "ttaaccggtctcacgcctcg\n"
     ]
    }
   ],
   "source": [
    "def reversecomplement(seq):\n",
    "    \"\"\"this function help to get complementry strand \"\"\" \n",
    "    complement={\"A\": \"T\", \"T\": \"A\", \"G\": \"C\", \"C\": \"G\", \n",
    "                  \"a\": \"t\", \"t\": \"a\", \"g\": \"c\", \"c\": \"g\"}\n",
    "    reversed_complement=\"\".join(complement[base] for base in seq)\n",
    "    return reversed_complement\n",
    "result = reversecomplement(\"aattggccagagtgcggagc\")\n",
    "print(result)    \n",
    "\n"
   ]
  },
  {
   "cell_type": "code",
   "execution_count": 20,
   "id": "7e19a10d-9444-4e03-be06-26f10108bca2",
   "metadata": {},
   "outputs": [
    {
     "data": {
      "text/plain": [
       "'aaa'"
      ]
     },
     "execution_count": 20,
     "metadata": {},
     "output_type": "execute_result"
    }
   ],
   "source": [
    "dna=\"aaattccgtgagca\"\n",
    "dna[0:3]"
   ]
  },
  {
   "cell_type": "code",
   "execution_count": 21,
   "id": "12626e9a-a961-412c-8d43-925b593e8ec8",
   "metadata": {},
   "outputs": [
    {
     "data": {
      "text/plain": [
       "'aa'"
      ]
     },
     "execution_count": 21,
     "metadata": {},
     "output_type": "execute_result"
    }
   ],
   "source": [
    "dna[0:3:2]"
   ]
  },
  {
   "cell_type": "code",
   "execution_count": 22,
   "id": "fabfa7c1-b30f-4140-b340-2b21ced5dc37",
   "metadata": {},
   "outputs": [
    {
     "data": {
      "text/plain": [
       "'acgagtgccttaaa'"
      ]
     },
     "execution_count": 22,
     "metadata": {},
     "output_type": "execute_result"
    }
   ],
   "source": [
    "dna[::-1]"
   ]
  },
  {
   "cell_type": "code",
   "execution_count": 19,
   "id": "6a8a1575-9c07-406d-a6e5-1e3e55d285a9",
   "metadata": {},
   "outputs": [],
   "source": [
    "def reverse_string(seq):\n",
    "    return seq[::-1]"
   ]
  },
  {
   "cell_type": "code",
   "execution_count": 24,
   "id": "86a058e9-58c5-401c-b835-432e19f10822",
   "metadata": {},
   "outputs": [
    {
     "data": {
      "text/plain": [
       "'acgagtgccttaaa'"
      ]
     },
     "execution_count": 24,
     "metadata": {},
     "output_type": "execute_result"
    }
   ],
   "source": [
    "reverse_string(dna)"
   ]
  },
  {
   "cell_type": "code",
   "execution_count": 1,
   "id": "94ca1fe7-b2ba-449e-a24a-0cb3b321519d",
   "metadata": {},
   "outputs": [
    {
     "data": {
      "text/plain": [
       "'tttaaggcactcgt'"
      ]
     },
     "execution_count": 1,
     "metadata": {},
     "output_type": "execute_result"
    }
   ],
   "source": [
    "def complement(dna):\n",
    "    \"\"\"this fuction will return the complement bases\"\"\"\n",
    "    basecomplement={'a':'t','g':'c','A':'T','G':'C','n':'n','c':'g','C':'G','T':'A','t':'a'}\n",
    "    letters=list(dna)\n",
    "    letters=[basecomplement[i] for i in letters]\n",
    "    return ''.join(letters)\n",
    "complement(\"aaattccgtgagca\")    "
   ]
  },
  {
   "cell_type": "code",
   "execution_count": 21,
   "id": "3877edd9",
   "metadata": {},
   "outputs": [],
   "source": [
    "def dnacomplement(dna):\n",
    "    '''this function help you to get reversecomplement'''\n",
    "    complement_base=[]"
   ]
  },
  {
   "cell_type": "code",
   "execution_count": 25,
   "id": "60974aaf",
   "metadata": {},
   "outputs": [
    {
     "name": "stdout",
     "output_type": "stream",
     "text": [
      "ttaccggctcctaccggcatccg\n"
     ]
    }
   ],
   "source": [
    "def dnacomplement(dna):\n",
    "    \"\"\"this function will give u complement of dna\"\"\"\n",
    "    complement={'a':'t','g':'c','A':'T','G':'C','n':'n','c':'g','C':'G','T':'A','t':'a'}\n",
    "    letters=list(dna)\n",
    "    letters=\"\".join(complement[base] for base in letters)\n",
    "    return letters\n",
    "result=dnacomplement(\"aatggccgaggatggccgtaggc\")\n",
    "print(result)   "
   ]
  },
  {
   "cell_type": "code",
   "execution_count": 38,
   "id": "a2b33b4b",
   "metadata": {},
   "outputs": [
    {
     "data": {
      "text/plain": [
       "'tttaaggcactcngt'"
      ]
     },
     "execution_count": 38,
     "metadata": {},
     "output_type": "execute_result"
    }
   ],
   "source": [
    "def complement(dna):\n",
    "    '''this function help to get complement bases'''\n",
    "    basecomplement={'a':'t','g':'c','A':'T','G':'C','n':'n','c':'g','C':'G','T':'A','t':'a'}\n",
    "    letters=list(dna)\n",
    "    letters=[basecomplement[base] for base in letters]\n",
    "    return ''.join(letters)\n",
    "complement(\"aaattccgtgagnca\")     "
   ]
  },
  {
   "cell_type": "code",
   "execution_count": 29,
   "id": "90180b52-66d1-4e71-8711-3f16ab3a7310",
   "metadata": {},
   "outputs": [
    {
     "name": "stdout",
     "output_type": "stream",
     "text": [
      "['ELEPHANT', 'MOUSE']\n",
      "['ELEPHANT', 'MOUSE']\n"
     ]
    }
   ],
   "source": [
    "# LIST COMPREHENSION\n",
    "# old_list = [\"cat\", \"elephant\", \"dog\", \"mouse\"]\n",
    "# new_list = [word.upper() for word in old_list if len(word) > 3]\n",
    "# print(new_list)\n",
    "\n",
    "# # LIST COMPREHENSION\n",
    "# old_list = [\"cat\", \"elephant\", \"dog\", \"mouse\"]\n",
    "# new_list = []\n",
    "# for word in old_list:\n",
    "#     if len(word) > 3:  # Check if the word length is greater than 3\n",
    "#         new_list.append(word.upper())  # Convert to uppercase and add to new_list\n",
    "# print(new_list)\n"
   ]
  },
  {
   "cell_type": "code",
   "execution_count": 53,
   "id": "bfd21548",
   "metadata": {},
   "outputs": [
    {
     "name": "stdout",
     "output_type": "stream",
     "text": [
      "gaharwar\n"
     ]
    }
   ],
   "source": [
    "# oldlst=[\"vibhu\",\"mouse\",\"cat\",\"dog\"]\n",
    "# newlst=[word.upper() for word in oldlst if len(word)>4 ]\n",
    "# newlst\n",
    "\n",
    "o_lst=[\"vibhanshu \",\"singh\",\"gahrwar\"]\n",
    "n_lst=[]\n",
    "for i in old_list:\n",
    "    if (len(word))>5:\n",
    "        n_lst.append(o_lst)\n",
    "print(i)        "
   ]
  },
  {
   "cell_type": "code",
   "execution_count": 30,
   "id": "bc5790d1",
   "metadata": {},
   "outputs": [
    {
     "name": "stdout",
     "output_type": "stream",
     "text": [
      "[4, 16, 36]\n"
     ]
    }
   ],
   "source": [
    "old_list = [1, 2, 3, 4, 5, 6]\n",
    "new_list = []\n",
    "for x in old_list:\n",
    "    if x % 2 == 0:  # Check if the number is even\n",
    "        new_list.append(x**2)  # Square the even number and add it to new_list\n",
    "print(new_list)\n",
    "\n"
   ]
  },
  {
   "cell_type": "code",
   "execution_count": 13,
   "id": "fcc77465-4a10-435e-9ed7-72719b53d5d7",
   "metadata": {},
   "outputs": [
    {
     "data": {
      "text/plain": [
       "['a', 'a', 'a', 't', 't', 'c', 'c', 'g', 't', 'g', 'a', 'g', 'c', 'a']"
      ]
     },
     "execution_count": 13,
     "metadata": {},
     "output_type": "execute_result"
    }
   ],
   "source": [
    "letters=list(dna)\n",
    "letters"
   ]
  },
  {
   "cell_type": "code",
   "execution_count": 54,
   "id": "32fe7f6a-9056-4c28-9d3d-8ace5a7d17dc",
   "metadata": {},
   "outputs": [
    {
     "data": {
      "text/plain": [
       "['enzyme', 'and', 'other', 'proteins', 'come', 'in', 'many', 'shapes']"
      ]
     },
     "execution_count": 54,
     "metadata": {},
     "output_type": "execute_result"
    }
   ],
   "source": [
    "sentence=\"enzyme and other proteins come in many shapes\"\n",
    "sentence.split()\n"
   ]
  },
  {
   "cell_type": "code",
   "execution_count": 16,
   "id": "fb197f12-cdf5-43e6-811f-61c61927600f",
   "metadata": {},
   "outputs": [
    {
     "data": {
      "text/plain": [
       "['enzyme ', ' other proteins come in many shapes']"
      ]
     },
     "execution_count": 16,
     "metadata": {},
     "output_type": "execute_result"
    }
   ],
   "source": [
    "sentence.split(\"and\")"
   ]
  },
  {
   "cell_type": "code",
   "execution_count": 56,
   "id": "deb18724-396c-47cc-8fc7-f40d9ab5fe8c",
   "metadata": {},
   "outputs": [
    {
     "name": "stdout",
     "output_type": "stream",
     "text": [
      "first 1\n",
      "second  2\n",
      "third  3\n",
      "and all the rest (4, 5, 6, 7, 8, 9)\n"
     ]
    }
   ],
   "source": [
    "def newfunction(first,second,third,*therest):# * operator allows the function to accept an arbitrary number of additional positional arguments\n",
    "    print(f\"first {first}\")\n",
    "    print(f\"second  {second}\")\n",
    "    print(f\"third  {third}\")\n",
    "    print(f\"and all the rest {therest}\")\n",
    "    return \n",
    "newfunction(1,2,3,4,5,6,7,8,9)"
   ]
  },
  {
   "cell_type": "code",
   "execution_count": 28,
   "id": "cfbece21-2162-44ad-bdca-c2bad0b9e382",
   "metadata": {},
   "outputs": [],
   "source": [
    "import sys"
   ]
  },
  {
   "cell_type": "code",
   "execution_count": 29,
   "id": "5918a617-35e6-4216-983b-4fc9514b7883",
   "metadata": {},
   "outputs": [
    {
     "data": {
      "text/plain": [
       "['C:\\\\Users\\\\vibha\\\\python_5.0\\\\python_2.0\\\\python',\n",
       " 'C:\\\\Users\\\\vibha\\\\anaconda3\\\\python312.zip',\n",
       " 'C:\\\\Users\\\\vibha\\\\anaconda3\\\\DLLs',\n",
       " 'C:\\\\Users\\\\vibha\\\\anaconda3\\\\Lib',\n",
       " 'C:\\\\Users\\\\vibha\\\\anaconda3',\n",
       " '',\n",
       " 'C:\\\\Users\\\\vibha\\\\anaconda3\\\\Lib\\\\site-packages',\n",
       " 'C:\\\\Users\\\\vibha\\\\anaconda3\\\\Lib\\\\site-packages\\\\win32',\n",
       " 'C:\\\\Users\\\\vibha\\\\anaconda3\\\\Lib\\\\site-packages\\\\win32\\\\lib',\n",
       " 'C:\\\\Users\\\\vibha\\\\anaconda3\\\\Lib\\\\site-packages\\\\Pythonwin']"
      ]
     },
     "execution_count": 29,
     "metadata": {},
     "output_type": "execute_result"
    }
   ],
   "source": [
    "sys.path"
   ]
  },
  {
   "cell_type": "code",
   "execution_count": 60,
   "id": "5e5cbdf1-d107-4413-b586-ba219eaa190d",
   "metadata": {},
   "outputs": [],
   "source": [
    "def function1(length):\n",
    "    if length > 0:\n",
    "        print(length)\n",
    "        function1(length - 1)\n",
    "def function2(length):\n",
    "    while length > 0:\n",
    "        print(length)\n",
    "        function2(length - 1)\n",
    "        "
   ]
  },
  {
   "cell_type": "code",
   "execution_count": 31,
   "id": "539a71a2-b783-4a2d-ae03-b4dd02a7c06f",
   "metadata": {},
   "outputs": [
    {
     "name": "stdout",
     "output_type": "stream",
     "text": [
      "3.12.4 | packaged by Anaconda, Inc. | (main, Jun 18 2024, 15:03:56) [MSC v.1929 64 bit (AMD64)]\n"
     ]
    }
   ],
   "source": [
    "import sys\n",
    "print(sys.version)\n"
   ]
  },
  {
   "cell_type": "code",
   "execution_count": null,
   "id": "fddbd566-7917-4677-9f8a-8337b06e4174",
   "metadata": {},
   "outputs": [],
   "source": []
  }
 ],
 "metadata": {
  "kernelspec": {
   "display_name": "virenv",
   "language": "python",
   "name": "python3"
  },
  "language_info": {
   "codemirror_mode": {
    "name": "ipython",
    "version": 3
   },
   "file_extension": ".py",
   "mimetype": "text/x-python",
   "name": "python",
   "nbconvert_exporter": "python",
   "pygments_lexer": "ipython3",
   "version": "3.12.0"
  }
 },
 "nbformat": 4,
 "nbformat_minor": 5
}

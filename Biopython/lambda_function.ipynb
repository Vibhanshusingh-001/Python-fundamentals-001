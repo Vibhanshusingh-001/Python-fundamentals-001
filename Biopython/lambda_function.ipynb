{
 "cells": [
  {
   "cell_type": "markdown",
   "metadata": {},
   "source": [
    "## A lambda function can take any number of arguments, but can only have one expression."
   ]
  },
  {
   "cell_type": "code",
   "execution_count": null,
   "metadata": {},
   "outputs": [],
   "source": [
    "# lambda function expression ki tarah hote h\n",
    "# ek function ka variable bna diya aur usko as a function use kar liya\n",
    "# lambda function ka use tab karna hai jab aapko one liner use karna ho(aapka kaam 1 line me ho jaaye)\n",
    "#ham function ko function pass kar sakte hai\n",
    "# aap function ko as a argument pass kar sakte h\n",
    "# anonymous matlab jisaka naam n ho\n"
   ]
  },
  {
   "cell_type": "code",
   "execution_count": 1,
   "metadata": {},
   "outputs": [
    {
     "name": "stdout",
     "output_type": "stream",
     "text": [
      "15\n"
     ]
    }
   ],
   "source": [
    "x = lambda a : a + 10\n",
    "print(x(5))"
   ]
  },
  {
   "cell_type": "code",
   "execution_count": 2,
   "metadata": {},
   "outputs": [
    {
     "name": "stdout",
     "output_type": "stream",
     "text": [
      "30\n"
     ]
    }
   ],
   "source": [
    "x = lambda a, b : a * b\n",
    "print(x(5, 6))"
   ]
  },
  {
   "cell_type": "code",
   "execution_count": 3,
   "metadata": {},
   "outputs": [
    {
     "name": "stdout",
     "output_type": "stream",
     "text": [
      "13\n"
     ]
    }
   ],
   "source": [
    "x = lambda a, b, c : a + b + c\n",
    "print(x(5, 6, 2))"
   ]
  },
  {
   "cell_type": "code",
   "execution_count": 11,
   "metadata": {},
   "outputs": [
    {
     "name": "stdout",
     "output_type": "stream",
     "text": [
      "22\n"
     ]
    }
   ],
   "source": [
    "def myfunc(n):\n",
    "  return lambda a : a * n\n",
    "\n",
    "mydoubler = myfunc(2)\n",
    "\n",
    "print(mydoubler(11))"
   ]
  },
  {
   "cell_type": "code",
   "execution_count": 8,
   "metadata": {},
   "outputs": [
    {
     "name": "stdout",
     "output_type": "stream",
     "text": [
      "10\n",
      "125\n",
      "6.0\n",
      "10\n"
     ]
    }
   ],
   "source": [
    "def appl(fx, value):\n",
    "  return 6 + fx(value)\n",
    "\n",
    "\n",
    "double = lambda x: x * 2\n",
    "cube = lambda x: x * x * x\n",
    "avg = lambda x, y, z: (x + y + z) / 3\n",
    "\n",
    "print(double(5))\n",
    "print(cube(5))\n",
    "print(avg(3, 5, 10))\n",
    "\n",
    "\n",
    "print(appl(lambda x: x * x , 2))\n",
    "\n"
   ]
  },
  {
   "cell_type": "code",
   "execution_count": 10,
   "metadata": {},
   "outputs": [
    {
     "name": "stdout",
     "output_type": "stream",
     "text": [
      "10\n",
      "125\n",
      "11.0\n"
     ]
    }
   ],
   "source": [
    "# lambda function \n",
    "square= lambda x: x*2\n",
    "cube= lambda x: x*x*x\n",
    "average=lambda x,y,z: x+y+z/3\n",
    "print(square(5))\n",
    "print(cube(5))\n",
    "print(average(5,4,6))\n"
   ]
  },
  {
   "cell_type": "code",
   "execution_count": 3,
   "metadata": {},
   "outputs": [
    {
     "name": "stdout",
     "output_type": "stream",
     "text": [
      "120\n"
     ]
    }
   ],
   "source": [
    "# recursion\n",
    "def factorial(n):\n",
    "    if n==0 or n==1:\n",
    "        return 1\n",
    "    else:\n",
    "        return n*factorial(n-1)  \n",
    "\n",
    "res=factorial(5)\n",
    "print(res)        "
   ]
  }
 ],
 "metadata": {
  "kernelspec": {
   "display_name": "Python 3",
   "language": "python",
   "name": "python3"
  },
  "language_info": {
   "codemirror_mode": {
    "name": "ipython",
    "version": 3
   },
   "file_extension": ".py",
   "mimetype": "text/x-python",
   "name": "python",
   "nbconvert_exporter": "python",
   "pygments_lexer": "ipython3",
   "version": "3.12.6"
  }
 },
 "nbformat": 4,
 "nbformat_minor": 2
}

{
 "cells": [
  {
   "cell_type": "raw",
   "id": "dc67c8bd-41ed-4d2d-a881-5b8dce886ced",
   "metadata": {},
   "source": [
    "# lambda function expression ki tarah hote h\n",
    "# ek function ka variable bna diya aur usko as a function use kar liya\n",
    "# lambda function ka use tab karna hai jab aapko one liner use karna ho(aapka kaam 1 line me ho jaaye)\n",
    "#ham function ko function pass kar sakte hai\n",
    "\n",
    "# aap function ko as a argument pass kar sakte h\n",
    "\n",
    "# anonymous matlab jisaka naam n ho\n"
   ]
  },
  {
   "cell_type": "code",
   "execution_count": 44,
   "id": "789f03e5-a369-4451-8982-68a160a6b398",
   "metadata": {},
   "outputs": [
    {
     "name": "stdout",
     "output_type": "stream",
     "text": [
      "8\n",
      "8\n"
     ]
    }
   ],
   "source": [
    "# Regular function to add two numbers\n",
    "def add(x, y):\n",
    "    return x + y\n",
    "\n",
    "# Lambda function to add two numbers\n",
    "add_lambda = lambda x, y: x + y\n",
    "\n",
    "# Both produce the same result\n",
    "print(add(3, 5))         # Output: 8\n",
    "print(add_lambda(3, 5))  # Output: 8\n"
   ]
  },
  {
   "cell_type": "raw",
   "id": "183d0646-4d5f-4347-a151-8f65d3e26b29",
   "metadata": {},
   "source": [
    "Anonymous: Lambda functions do not have a name (unless assigned to a variable).\n",
    "Single Expression: They are limited to a single expression; you cannot include multiple statements or assignments.\n",
    "Used Inline: Often used where small functions are required temporarily, such as in higher-order functions like map, filter, and reduce.\n"
   ]
  },
  {
   "cell_type": "code",
   "execution_count": 45,
   "id": "02028606-807a-4312-986d-4d1d2cb24a01",
   "metadata": {},
   "outputs": [
    {
     "name": "stdout",
     "output_type": "stream",
     "text": [
      "8\n",
      "8\n"
     ]
    }
   ],
   "source": [
    "def add(x,y):\n",
    "    return x+y\n",
    "\n",
    "add_lambda=lambda x,y:x+y\n",
    "print(add_lambda(3,5))\n",
    "print(add(3,5))"
   ]
  },
  {
   "cell_type": "code",
   "execution_count": null,
   "id": "3589b75f-2989-49e9-8734-ea2107ef8428",
   "metadata": {},
   "outputs": [],
   "source": []
  }
 ],
 "metadata": {
  "kernelspec": {
   "display_name": "Python 3 (ipykernel)",
   "language": "python",
   "name": "python3"
  },
  "language_info": {
   "codemirror_mode": {
    "name": "ipython",
    "version": 3
   },
   "file_extension": ".py",
   "mimetype": "text/x-python",
   "name": "python",
   "nbconvert_exporter": "python",
   "pygments_lexer": "ipython3",
   "version": "3.12.4"
  }
 },
 "nbformat": 4,
 "nbformat_minor": 5
}

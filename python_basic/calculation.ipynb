{
 "cells": [
  {
   "cell_type": "code",
   "execution_count": 1,
   "id": "00fa30f1-be77-4a17-9d5d-2dab8b80f39e",
   "metadata": {},
   "outputs": [
    {
     "data": {
      "text/plain": [
       "20"
      ]
     },
     "execution_count": 1,
     "metadata": {},
     "output_type": "execute_result"
    }
   ],
   "source": [
    "15+5"
   ]
  },
  {
   "cell_type": "code",
   "execution_count": 2,
   "id": "afa2c013-3815-411b-8fe4-6546dc37dc80",
   "metadata": {},
   "outputs": [
    {
     "data": {
      "text/plain": [
       "4.5"
      ]
     },
     "execution_count": 2,
     "metadata": {},
     "output_type": "execute_result"
    }
   ],
   "source": [
    "10.5-2*3"
   ]
  },
  {
   "cell_type": "code",
   "execution_count": 3,
   "id": "9273a644-ce52-4f1c-bcc5-aaeb4a35b543",
   "metadata": {},
   "outputs": [
    {
     "data": {
      "text/plain": [
       "100"
      ]
     },
     "execution_count": 3,
     "metadata": {},
     "output_type": "execute_result"
    }
   ],
   "source": [
    "10**2"
   ]
  },
  {
   "cell_type": "code",
   "execution_count": 4,
   "id": "52d4852c-615b-4fa9-b38b-abb81e04b918",
   "metadata": {},
   "outputs": [
    {
     "data": {
      "text/plain": [
       "5.0"
      ]
     },
     "execution_count": 4,
     "metadata": {},
     "output_type": "execute_result"
    }
   ],
   "source": [
    "17.0//3"
   ]
  },
  {
   "cell_type": "code",
   "execution_count": 5,
   "id": "83a414a6-0084-417a-91e3-4cbbef0315bf",
   "metadata": {},
   "outputs": [
    {
     "data": {
      "text/plain": [
       "2"
      ]
     },
     "execution_count": 5,
     "metadata": {},
     "output_type": "execute_result"
    }
   ],
   "source": [
    "17%3"
   ]
  },
  {
   "cell_type": "code",
   "execution_count": 7,
   "id": "ffce3893-4494-402f-a53b-eee6912b83b2",
   "metadata": {},
   "outputs": [
    {
     "data": {
      "text/plain": [
       "2.4"
      ]
     },
     "execution_count": 7,
     "metadata": {},
     "output_type": "execute_result"
    }
   ],
   "source": [
    "12.0/5\n"
   ]
  },
  {
   "cell_type": "code",
   "execution_count": 8,
   "id": "449fadae-2ad8-43d0-90d0-ffbe99db28cf",
   "metadata": {},
   "outputs": [
    {
     "data": {
      "text/plain": [
       "2.4"
      ]
     },
     "execution_count": 8,
     "metadata": {},
     "output_type": "execute_result"
    }
   ],
   "source": [
    "float(12)/5"
   ]
  },
  {
   "cell_type": "code",
   "execution_count": 9,
   "id": "bdc62b63-3652-4b01-b7cf-005ef9c637e4",
   "metadata": {},
   "outputs": [
    {
     "data": {
      "text/plain": [
       "(3+4j)"
      ]
     },
     "execution_count": 9,
     "metadata": {},
     "output_type": "execute_result"
    }
   ],
   "source": [
    "(2+1j)**2"
   ]
  },
  {
   "cell_type": "code",
   "execution_count": 52,
   "id": "90c19c2e-aaa4-4b6a-a415-3c1c652a7418",
   "metadata": {},
   "outputs": [
    {
     "ename": "TypeError",
     "evalue": "'str' object is not callable",
     "output_type": "error",
     "traceback": [
      "\u001b[1;31m---------------------------------------------------------------------------\u001b[0m",
      "\u001b[1;31mTypeError\u001b[0m                                 Traceback (most recent call last)",
      "Cell \u001b[1;32mIn[52], line 1\u001b[0m\n\u001b[1;32m----> 1\u001b[0m \u001b[38;5;28mprint\u001b[39m(\u001b[38;5;124m\"\"\"\u001b[39m\u001b[38;5;130;01m\\\u001b[39;00m\n\u001b[0;32m      2\u001b[0m \u001b[38;5;124m>dna1 \u001b[39m\n\u001b[0;32m      3\u001b[0m \u001b[38;5;124matgcgctaatgccatgcaatgctagctagctagctagctgcagtcgacgtacgt\u001b[39m\n\u001b[0;32m      4\u001b[0m \u001b[38;5;124macgtagctagctacgaccgtagccgtagctacggccgtagctagctgct\u001b[39m\n\u001b[0;32m      5\u001b[0m \u001b[38;5;124m>dna2\u001b[39m\n\u001b[0;32m      6\u001b[0m \u001b[38;5;124mactgcgatgctagctgatcgcgcgtagcgctagtcgtaccgtagcg\u001b[39m\u001b[38;5;124m\"\"\"\u001b[39m)\n",
      "\u001b[1;31mTypeError\u001b[0m: 'str' object is not callable"
     ]
    }
   ],
   "source": [
    "print(\"\"\"\\\n",
    ">dna1 \n",
    "atgcgctaatgccatgcaatgctagctagctagctagctgcagtcgacgtacgt\n",
    "acgtagctagctacgaccgtagccgtagctacggccgtagctagctgct\n",
    ">dna2\n",
    "actgcgatgctagctgatcgcgcgtagcgctagtcgtaccgtagcg\"\"\")\n"
   ]
  },
  {
   "cell_type": "code",
   "execution_count": 34,
   "id": "bc473aa3-ec80-43bb-99c2-a58ea6e7ad1c",
   "metadata": {},
   "outputs": [
    {
     "data": {
      "text/plain": [
       "'atgatgatg'"
      ]
     },
     "execution_count": 34,
     "metadata": {},
     "output_type": "execute_result"
    }
   ],
   "source": [
    "'atg'*3"
   ]
  },
  {
   "cell_type": "code",
   "execution_count": 39,
   "id": "5b4c2117-c9d8-4a6e-91d3-d9153d56367a",
   "metadata": {},
   "outputs": [
    {
     "data": {
      "text/plain": [
       "7"
      ]
     },
     "execution_count": 39,
     "metadata": {},
     "output_type": "execute_result"
    }
   ],
   "source": [
    "a=4\n",
    "\n",
    "b=a\n",
    "\n",
    "b=b+3\n",
    "b"
   ]
  },
  {
   "cell_type": "code",
   "execution_count": 46,
   "id": "a64a5e5b-763f-440b-8e15-2e7d9635ca24",
   "metadata": {},
   "outputs": [
    {
     "data": {
      "text/plain": [
       "'AtgcggActgAcgtAgcccgtAggcttAggccctgggAccctg'"
      ]
     },
     "execution_count": 46,
     "metadata": {},
     "output_type": "execute_result"
    }
   ],
   "source": [
    "dna=\"atgcggactgacgtagcccgtaggcttaggccctgggaccctg\"\n",
    "len(dna)\n",
    "dna.count(\"c\")\n",
    "dna.find(\"agc\")\n",
    "dna.rfind(\"ag\")\n",
    "dna.islower()\n",
    "dna.isupper()\n",
    "dna.replace('a','A')"
   ]
  },
  {
   "cell_type": "code",
   "execution_count": 54,
   "id": "3415df4f-3fed-4abc-b512-388e346776c3",
   "metadata": {},
   "outputs": [
    {
     "ename": "TypeError",
     "evalue": "'str' object is not callable",
     "output_type": "error",
     "traceback": [
      "\u001b[1;31m---------------------------------------------------------------------------\u001b[0m",
      "\u001b[1;31mTypeError\u001b[0m                                 Traceback (most recent call last)",
      "Cell \u001b[1;32mIn[54], line 6\u001b[0m\n\u001b[0;32m      4\u001b[0m total \u001b[38;5;241m=\u001b[39m \u001b[38;5;28mlen\u001b[39m(dna)       \u001b[38;5;66;03m# Total length of the DNA sequence\u001b[39;00m\n\u001b[0;32m      5\u001b[0m gc_percent \u001b[38;5;241m=\u001b[39m (no_c \u001b[38;5;241m+\u001b[39m no_g) \u001b[38;5;241m*\u001b[39m \u001b[38;5;241m100\u001b[39m \u001b[38;5;241m/\u001b[39m total  \u001b[38;5;66;03m# GC percentage calculation\u001b[39;00m\n\u001b[1;32m----> 6\u001b[0m \u001b[38;5;28mprint\u001b[39m(gc_percent)\n",
      "\u001b[1;31mTypeError\u001b[0m: 'str' object is not callable"
     ]
    }
   ],
   "source": [
    "dna = 'aatttcccggtggacccgtgggcccgttaaggcgcgctgggatggcctgagctggtagtcgatgcgtcgaccgta'\n",
    "no_c = dna.count('c')  # Counts occurrences of 'c'\n",
    "no_g = dna.count('g')  # Counts occurrences of 'g'\n",
    "total = len(dna)       # Total length of the DNA sequence\n",
    "gc_percent = (no_c + no_g) * 100 / total  # GC percentage calculation\n",
    "print(gc_percent)      # Prints the GC content percentage\n"
   ]
  }
 ],
 "metadata": {
  "kernelspec": {
   "display_name": "Python 3 (ipykernel)",
   "language": "python",
   "name": "python3"
  },
  "language_info": {
   "codemirror_mode": {
    "name": "ipython",
    "version": 3
   },
   "file_extension": ".py",
   "mimetype": "text/x-python",
   "name": "python",
   "nbconvert_exporter": "python",
   "pygments_lexer": "ipython3",
   "version": "3.12.4"
  }
 },
 "nbformat": 4,
 "nbformat_minor": 5
}

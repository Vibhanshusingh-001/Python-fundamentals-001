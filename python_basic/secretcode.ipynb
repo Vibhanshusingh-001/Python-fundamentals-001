{
 "cells": [
  {
   "cell_type": "code",
   "execution_count": 2,
   "id": "eab3e83e-f3ee-4802-91eb-241cb1b0fede",
   "metadata": {},
   "outputs": [
    {
     "ename": "SyntaxError",
     "evalue": "invalid syntax (1253171916.py, line 4)",
     "output_type": "error",
     "traceback": [
      "\u001b[1;36m  Cell \u001b[1;32mIn[2], line 4\u001b[1;36m\u001b[0m\n\u001b[1;33m    if the word contains atleast 3 characters, remove the first letter and append it at the end\u001b[0m\n\u001b[1;37m           ^\u001b[0m\n\u001b[1;31mSyntaxError\u001b[0m\u001b[1;31m:\u001b[0m invalid syntax\n"
     ]
    }
   ],
   "source": [
    "# Write a python program to translate a message into secret code language. Use the rules below to translate normal English into secret code language\n",
    "\n",
    "Coding:\n",
    "if the word contains atleast 3 characters, remove the first letter and append it at the end\n",
    "  now append three random characters at the starting and the end\n",
    "else:\n",
    "  simply reverse the string\n",
    "\n",
    "Decoding:\n",
    "if the word contains less than 3 characters, reverse it\n",
    "else:\n",
    "  remove 3 random characters from start and end. Now remove the last letter and append it to the beginning\n",
    "\n",
    "Your program should ask whether you want to code or decode\n"
   ]
  },
  {
   "cell_type": "code",
   "execution_count": null,
   "id": "b041a11d-4b5a-41f8-a773-ac9d0865cb4a",
   "metadata": {},
   "outputs": [],
   "source": []
  }
 ],
 "metadata": {
  "kernelspec": {
   "display_name": "Python 3 (ipykernel)",
   "language": "python",
   "name": "python3"
  },
  "language_info": {
   "codemirror_mode": {
    "name": "ipython",
    "version": 3
   },
   "file_extension": ".py",
   "mimetype": "text/x-python",
   "name": "python",
   "nbconvert_exporter": "python",
   "pygments_lexer": "ipython3",
   "version": "3.12.4"
  }
 },
 "nbformat": 4,
 "nbformat_minor": 5
}

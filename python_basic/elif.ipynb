{
 "cells": [
  {
   "cell_type": "code",
   "execution_count": 3,
   "id": "f46b370a-4cae-4a57-bc6a-8990fac0b9b9",
   "metadata": {},
   "outputs": [
    {
     "name": "stdin",
     "output_type": "stream",
     "text": [
      "enter your age 18\n"
     ]
    },
    {
     "name": "stdout",
     "output_type": "stream",
     "text": [
      "u are at border line please wait\n"
     ]
    }
   ],
   "source": [
    "a=int(input(\"enter your age\"))\n",
    "if (a>18):\n",
    "    print(\"u are eligible\")\n",
    "elif(a<18):\n",
    "    \n",
    "    print(\"u are nor eligible\")\n",
    "elif(a==18):\n",
    "    print(\"u are at border line please wait\")\n",
    "else:\n",
    "    print(a)"
   ]
  },
  {
   "cell_type": "code",
   "execution_count": 16,
   "id": "70d8cabf-164f-43a8-90db-853a4748ea9f",
   "metadata": {},
   "outputs": [
    {
     "name": "stdin",
     "output_type": "stream",
     "text": [
      "enter the hour 19\n"
     ]
    },
    {
     "name": "stdout",
     "output_type": "stream",
     "text": [
      "19\n"
     ]
    }
   ],
   "source": [
    "import time \n",
    "t=time.strftime('%H:%M:%S')\n",
    "hour=time.strftime('%H')\n",
    "hour=int(input(\"enter the hour\"))\n",
    "if(hour>=0 and hour<12):\n",
    "  print(\"Good Morning Sir!\")\n",
    "elif(hour>=12 and hour<17):\n",
    "  print(\"Good Afternoon Sir!\")\n",
    "elif(hour>=17 and hour<0):\n",
    "  print(\"Good Night Sir!\")\n",
    "else:\n",
    "    print(hour)"
   ]
  },
  {
   "cell_type": "code",
   "execution_count": null,
   "id": "7197baef-22e8-456e-bd2c-bca707babc6d",
   "metadata": {},
   "outputs": [],
   "source": []
  }
 ],
 "metadata": {
  "kernelspec": {
   "display_name": "Python 3 (ipykernel)",
   "language": "python",
   "name": "python3"
  },
  "language_info": {
   "codemirror_mode": {
    "name": "ipython",
    "version": 3
   },
   "file_extension": ".py",
   "mimetype": "text/x-python",
   "name": "python",
   "nbconvert_exporter": "python",
   "pygments_lexer": "ipython3",
   "version": "3.12.4"
  }
 },
 "nbformat": 4,
 "nbformat_minor": 5
}

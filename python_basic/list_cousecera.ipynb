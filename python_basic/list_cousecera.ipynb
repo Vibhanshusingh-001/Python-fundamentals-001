{
 "cells": [
  {
   "cell_type": "code",
   "execution_count": 3,
   "id": "af712ebb-20c8-420f-8e4c-c3e5b02f4958",
   "metadata": {},
   "outputs": [
    {
     "name": "stdout",
     "output_type": "stream",
     "text": [
      "0.000138511\n"
     ]
    },
    {
     "data": {
      "text/plain": [
       "['lif', 516000000.0, 0.000138511, 7.33e-08]"
      ]
     },
     "execution_count": 3,
     "metadata": {},
     "output_type": "execute_result"
    }
   ],
   "source": [
    "gene_expression=['gene',5.16e08,0.000138511,7.33e-08]\n",
    "print(gene_expression[2])\n",
    "gene_expression[0]='lif'\n",
    "gene_expression"
   ]
  },
  {
   "cell_type": "code",
   "execution_count": 5,
   "id": "5a89b155-d1bb-4552-a8de-41a1e7b5b504",
   "metadata": {},
   "outputs": [
    {
     "data": {
      "text/plain": [
       "[]"
      ]
     },
     "execution_count": 5,
     "metadata": {},
     "output_type": "execute_result"
    }
   ],
   "source": [
    "gene_expression[:]=[]#this clears the list \n",
    "gene_expression"
   ]
  },
  {
   "cell_type": "code",
   "execution_count": 6,
   "id": "77663018-5904-4495-a5f7-0c15c60349c4",
   "metadata": {},
   "outputs": [
    {
     "data": {
      "text/plain": [
       "['gene', 516000000.0, 0.000138511, 7.33e-08, 5.16e-08, 0.000138511]"
      ]
     },
     "execution_count": 6,
     "metadata": {},
     "output_type": "execute_result"
    }
   ],
   "source": [
    "gene_expression=['gene',5.16e08,0.000138511,7.33e-08]\n",
    "gene_expression+[5.16e-08,0.000138511]\n",
    "gene_expression"
   ]
  },
  {
   "cell_type": "code",
   "execution_count": 7,
   "id": "d04d1ab7-3ff2-422f-8eab-4613a1b9a9d0",
   "metadata": {},
   "outputs": [
    {
     "data": {
      "text/plain": [
       "4"
      ]
     },
     "execution_count": 7,
     "metadata": {},
     "output_type": "execute_result"
    }
   ],
   "source": [
    "len(gene_expression)"
   ]
  },
  {
   "cell_type": "code",
   "execution_count": 8,
   "id": "276def8f-c8df-4c2c-900c-e255873e57c3",
   "metadata": {},
   "outputs": [
    {
     "data": {
      "text/plain": [
       "['gene', 0.000138511, 7.33e-08]"
      ]
     },
     "execution_count": 8,
     "metadata": {},
     "output_type": "execute_result"
    }
   ],
   "source": [
    "del gene_expression[1]\n",
    "gene_expression"
   ]
  },
  {
   "cell_type": "code",
   "execution_count": 10,
   "id": "fb146993-8ece-4280-a136-fa71247993f8",
   "metadata": {},
   "outputs": [
    {
     "data": {
      "text/plain": [
       "['gene', 516000000.0, 0.000138511, 7.33e-08, 3.46515, 0.39546169, 4.4e-07]"
      ]
     },
     "execution_count": 10,
     "metadata": {},
     "output_type": "execute_result"
    }
   ],
   "source": [
    "gene_expression=['gene',5.16e08,0.000138511,7.33e-08]\n",
    "gene_expression.extend([3.46515,0.39546169,44e-08])\n",
    "gene_expression"
   ]
  },
  {
   "cell_type": "code",
   "execution_count": 14,
   "id": "400252c5-4733-4731-8db1-fc90a14a7e9f",
   "metadata": {},
   "outputs": [
    {
     "name": "stdout",
     "output_type": "stream",
     "text": [
      "1 1\n"
     ]
    }
   ],
   "source": [
    "gene_expression=['gene',5.16e08,0.000138511,7.33e-08,'Lif']\n",
    "print(gene_expression.count('Lif'),gene_expression.count('gene'))"
   ]
  },
  {
   "cell_type": "code",
   "execution_count": 15,
   "id": "8a332d31-3afc-4024-918b-664dfe8d7cd3",
   "metadata": {},
   "outputs": [
    {
     "data": {
      "text/plain": [
       "['Lif', 7.33e-08, 0.000138511, 516000000.0, 'gene']"
      ]
     },
     "execution_count": 15,
     "metadata": {},
     "output_type": "execute_result"
    }
   ],
   "source": [
    "gene_expression=['gene',5.16e08,0.000138511,7.33e-08,'Lif']\n",
    "gene_expression.reverse()\n",
    "gene_expression"
   ]
  },
  {
   "cell_type": "code",
   "execution_count": 18,
   "id": "4c4d3160-e919-40bd-91d8-6c154e2113f5",
   "metadata": {},
   "outputs": [
    {
     "data": {
      "text/plain": [
       "['a', 'b', 'c']"
      ]
     },
     "execution_count": 18,
     "metadata": {},
     "output_type": "execute_result"
    }
   ],
   "source": [
    "stack=['a','b','c','d']\n",
    "#stack.append('e')# to add an item to the top of the stack,use append()\n",
    "elem=stack.pop()# to retrive an item from the top of th e stack,use pop()\n",
    "stack"
   ]
  },
  {
   "cell_type": "code",
   "execution_count": 21,
   "id": "56291c15-047d-479b-b7e1-2800483ab098",
   "metadata": {},
   "outputs": [
    {
     "data": {
      "text/plain": [
       "[3, 31, 123, 1, 5]"
      ]
     },
     "execution_count": 21,
     "metadata": {},
     "output_type": "execute_result"
    }
   ],
   "source": [
    "mylist=[3,31,123,1,5]\n",
    "sorted(mylist)\n",
    "mylist"
   ]
  },
  {
   "cell_type": "code",
   "execution_count": 20,
   "id": "76317056-3e73-4c3a-8834-9b42a664d57a",
   "metadata": {},
   "outputs": [
    {
     "data": {
      "text/plain": [
       "[1, 3, 5, 31, 123]"
      ]
     },
     "execution_count": 20,
     "metadata": {},
     "output_type": "execute_result"
    }
   ],
   "source": [
    "mylist=[3,31,123,1,5]\n",
    "mylist.sort()# this method modifies the list\n",
    "mylist"
   ]
  },
  {
   "cell_type": "code",
   "execution_count": 24,
   "id": "721078e5-f182-43ef-9359-9fd9415b1bee",
   "metadata": {},
   "outputs": [
    {
     "name": "stdout",
     "output_type": "stream",
     "text": [
      "['A', 'F', 'T', 'a', 'c', 'f', 'g']\n"
     ]
    }
   ],
   "source": [
    "mylist=['c','g','a','A','T',\"f\",\"F\"]\n",
    "print(sorted(mylist))"
   ]
  },
  {
   "cell_type": "code",
   "execution_count": null,
   "id": "fc19596d-8542-470f-b19a-567faae6aac3",
   "metadata": {},
   "outputs": [],
   "source": []
  }
 ],
 "metadata": {
  "kernelspec": {
   "display_name": "Python 3 (ipykernel)",
   "language": "python",
   "name": "python3"
  },
  "language_info": {
   "codemirror_mode": {
    "name": "ipython",
    "version": 3
   },
   "file_extension": ".py",
   "mimetype": "text/x-python",
   "name": "python",
   "nbconvert_exporter": "python",
   "pygments_lexer": "ipython3",
   "version": "3.12.4"
  }
 },
 "nbformat": 4,
 "nbformat_minor": 5
}

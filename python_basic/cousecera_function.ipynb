{
 "cells": [
  {
   "cell_type": "code",
   "execution_count": 1,
   "id": "380aa040-87a7-4a44-9a90-8c097ccfccd3",
   "metadata": {},
   "outputs": [],
   "source": [
    "def reversecomplement(seq):\n",
    "    \"\"\"this function help in convrt dna seq into reversecomolement\"\"\"\n",
    "    seq=revese_string(seq)\n",
    "    seq=vomplement(seq)\n",
    "    return seq"
   ]
  },
  {
   "cell_type": "code",
   "execution_count": 8,
   "id": "76b8cc85-56ef-4f04-a5b7-e5e420c4f6fb",
   "metadata": {},
   "outputs": [
    {
     "ename": "NameError",
     "evalue": "name 'revese_string' is not defined",
     "output_type": "error",
     "traceback": [
      "\u001b[1;31m---------------------------------------------------------------------------\u001b[0m",
      "\u001b[1;31mNameError\u001b[0m                                 Traceback (most recent call last)",
      "Cell \u001b[1;32mIn[8], line 1\u001b[0m\n\u001b[1;32m----> 1\u001b[0m reversecomplement(\u001b[38;5;124m\"\u001b[39m\u001b[38;5;124maattggccagagtgcggagc\u001b[39m\u001b[38;5;124m\"\u001b[39m)\n",
      "Cell \u001b[1;32mIn[1], line 3\u001b[0m, in \u001b[0;36mreversecomplement\u001b[1;34m(seq)\u001b[0m\n\u001b[0;32m      1\u001b[0m \u001b[38;5;28;01mdef\u001b[39;00m \u001b[38;5;21mreversecomplement\u001b[39m(seq):\n\u001b[0;32m      2\u001b[0m \u001b[38;5;250m    \u001b[39m\u001b[38;5;124;03m\"\"\"this function help in convrt dna seq into reversecomolement\"\"\"\u001b[39;00m\n\u001b[1;32m----> 3\u001b[0m     seq\u001b[38;5;241m=\u001b[39mrevese_string(seq)\n\u001b[0;32m      4\u001b[0m     seq\u001b[38;5;241m=\u001b[39mvomplement(seq)\n\u001b[0;32m      5\u001b[0m     \u001b[38;5;28;01mreturn\u001b[39;00m seq\n",
      "\u001b[1;31mNameError\u001b[0m: name 'revese_string' is not defined"
     ]
    }
   ],
   "source": [
    "reversecomplement(\"aattggccagagtgcggagc\")"
   ]
  },
  {
   "cell_type": "code",
   "execution_count": 3,
   "id": "7e19a10d-9444-4e03-be06-26f10108bca2",
   "metadata": {},
   "outputs": [
    {
     "data": {
      "text/plain": [
       "'aaa'"
      ]
     },
     "execution_count": 3,
     "metadata": {},
     "output_type": "execute_result"
    }
   ],
   "source": [
    "dna=\"aaattccgtgagca\"\n",
    "dna[0:3]"
   ]
  },
  {
   "cell_type": "code",
   "execution_count": 4,
   "id": "12626e9a-a961-412c-8d43-925b593e8ec8",
   "metadata": {},
   "outputs": [
    {
     "data": {
      "text/plain": [
       "'aa'"
      ]
     },
     "execution_count": 4,
     "metadata": {},
     "output_type": "execute_result"
    }
   ],
   "source": [
    "dna[0:3:2]"
   ]
  },
  {
   "cell_type": "code",
   "execution_count": 5,
   "id": "fabfa7c1-b30f-4140-b340-2b21ced5dc37",
   "metadata": {},
   "outputs": [
    {
     "data": {
      "text/plain": [
       "'acgagtgccttaaa'"
      ]
     },
     "execution_count": 5,
     "metadata": {},
     "output_type": "execute_result"
    }
   ],
   "source": [
    "dna[::-1]"
   ]
  },
  {
   "cell_type": "code",
   "execution_count": 6,
   "id": "6a8a1575-9c07-406d-a6e5-1e3e55d285a9",
   "metadata": {},
   "outputs": [],
   "source": [
    "def reverse_string(seq):\n",
    "    return seq[::-1]"
   ]
  },
  {
   "cell_type": "code",
   "execution_count": 7,
   "id": "86a058e9-58c5-401c-b835-432e19f10822",
   "metadata": {},
   "outputs": [
    {
     "data": {
      "text/plain": [
       "'acgagtgccttaaa'"
      ]
     },
     "execution_count": 7,
     "metadata": {},
     "output_type": "execute_result"
    }
   ],
   "source": [
    "reverse_string(dna)"
   ]
  },
  {
   "cell_type": "code",
   "execution_count": 9,
   "id": "94ca1fe7-b2ba-449e-a24a-0cb3b321519d",
   "metadata": {},
   "outputs": [],
   "source": [
    "def complement(dna):\n",
    "    \"\"\"this fuction will return the complement bases\"\"\"\n",
    "    basecomplement={'a':'t','g':'c','A':'T','G':'C','n':'n','c':'g','C':'G','T':'A','t':'a'}\n",
    "    letters=list(dna)\n",
    "    letters=[basecomplement[base] for base in letters]\n",
    "    return ''.join(letters)"
   ]
  },
  {
   "cell_type": "code",
   "execution_count": 10,
   "id": "1e56f764-f6e6-4892-a284-f20887ebf7e1",
   "metadata": {},
   "outputs": [
    {
     "data": {
      "text/plain": [
       "'tttaaggcactcgt'"
      ]
     },
     "execution_count": 10,
     "metadata": {},
     "output_type": "execute_result"
    }
   ],
   "source": [
    "complement(\"aaattccgtgagca\")"
   ]
  },
  {
   "cell_type": "code",
   "execution_count": 12,
   "id": "a04ea49c-de4d-4f92-a32f-6bf90df28c08",
   "metadata": {},
   "outputs": [],
   "source": [
    "#LIST COMPREHENSION\n",
    "#NEW_LIST=[operation(i) for i in range old_list if filter(i)]"
   ]
  },
  {
   "cell_type": "code",
   "execution_count": null,
   "id": "90180b52-66d1-4e71-8711-3f16ab3a7310",
   "metadata": {},
   "outputs": [],
   "source": [
    "#LIST COMPREHENSION\n",
    "# new_list=[]\n",
    "# for i in old_list:\n",
    "#     if filter(i):\n",
    "#         new_list.append(operation(i))"
   ]
  },
  {
   "cell_type": "code",
   "execution_count": 13,
   "id": "fcc77465-4a10-435e-9ed7-72719b53d5d7",
   "metadata": {},
   "outputs": [
    {
     "data": {
      "text/plain": [
       "['a', 'a', 'a', 't', 't', 'c', 'c', 'g', 't', 'g', 'a', 'g', 'c', 'a']"
      ]
     },
     "execution_count": 13,
     "metadata": {},
     "output_type": "execute_result"
    }
   ],
   "source": [
    "letters=list(dna)\n",
    "letters"
   ]
  },
  {
   "cell_type": "code",
   "execution_count": 14,
   "id": "e7cc7186-ea9c-40d8-845f-1d9dbb7a5fa9",
   "metadata": {},
   "outputs": [
    {
     "ename": "NameError",
     "evalue": "name 'basecomplement' is not defined",
     "output_type": "error",
     "traceback": [
      "\u001b[1;31m---------------------------------------------------------------------------\u001b[0m",
      "\u001b[1;31mNameError\u001b[0m                                 Traceback (most recent call last)",
      "Cell \u001b[1;32mIn[14], line 1\u001b[0m\n\u001b[1;32m----> 1\u001b[0m letters\u001b[38;5;241m=\u001b[39m[basecomplement[base] \u001b[38;5;28;01mfor\u001b[39;00m base \u001b[38;5;129;01min\u001b[39;00m letters]\n\u001b[0;32m      2\u001b[0m letters\n",
      "\u001b[1;31mNameError\u001b[0m: name 'basecomplement' is not defined"
     ]
    }
   ],
   "source": [
    " letters=[basecomplement[base] for base in letters]\n",
    "letters"
   ]
  },
  {
   "cell_type": "code",
   "execution_count": 15,
   "id": "32fe7f6a-9056-4c28-9d3d-8ace5a7d17dc",
   "metadata": {},
   "outputs": [
    {
     "data": {
      "text/plain": [
       "['enzyme', 'and', 'other', 'proteins', 'come', 'in', 'many', 'shapes']"
      ]
     },
     "execution_count": 15,
     "metadata": {},
     "output_type": "execute_result"
    }
   ],
   "source": [
    "sentence=\"enzyme and other proteins come in many shapes\"\n",
    "sentence.split()"
   ]
  },
  {
   "cell_type": "code",
   "execution_count": 16,
   "id": "fb197f12-cdf5-43e6-811f-61c61927600f",
   "metadata": {},
   "outputs": [
    {
     "data": {
      "text/plain": [
       "['enzyme ', ' other proteins come in many shapes']"
      ]
     },
     "execution_count": 16,
     "metadata": {},
     "output_type": "execute_result"
    }
   ],
   "source": [
    "sentence.split(\"and\")"
   ]
  },
  {
   "cell_type": "code",
   "execution_count": 24,
   "id": "deb18724-396c-47cc-8fc7-f40d9ab5fe8c",
   "metadata": {},
   "outputs": [],
   "source": [
    "def newfunction(first,second,third,*therest):\n",
    "    print(\"first : %s\" %first)\n",
    "    print(\"second : % s\" %second)\n",
    "    print(\"third : % s\" %third)\n",
    "    print(\"and all the rest : % s\" ,therest)\n",
    "    return "
   ]
  },
  {
   "cell_type": "code",
   "execution_count": 25,
   "id": "ab987ad4-9342-40aa-bcea-3ac4c84fa3e2",
   "metadata": {},
   "outputs": [
    {
     "name": "stdout",
     "output_type": "stream",
     "text": [
      "first : 1\n",
      "second : 2\n",
      "third : 3\n",
      "and all the rest : % s (4, 5, 6, 7, 8, 9)\n"
     ]
    }
   ],
   "source": [
    "newfunction(1,2,3,4,5,6,7,8,9)"
   ]
  },
  {
   "cell_type": "code",
   "execution_count": 26,
   "id": "8e1c05c6-7d68-440b-be86-fe32fc127f36",
   "metadata": {},
   "outputs": [
    {
     "ename": "NameError",
     "evalue": "name 'dnautil' is not defined",
     "output_type": "error",
     "traceback": [
      "\u001b[1;31m---------------------------------------------------------------------------\u001b[0m",
      "\u001b[1;31mNameError\u001b[0m                                 Traceback (most recent call last)",
      "Cell \u001b[1;32mIn[26], line 1\u001b[0m\n\u001b[1;32m----> 1\u001b[0m help(dnautil)\n",
      "\u001b[1;31mNameError\u001b[0m: name 'dnautil' is not defined"
     ]
    }
   ],
   "source": [
    "help(dnautil)"
   ]
  },
  {
   "cell_type": "code",
   "execution_count": 27,
   "id": "df526c2b-7310-4c84-a0f9-55f5d168da01",
   "metadata": {},
   "outputs": [
    {
     "ename": "ModuleNotFoundError",
     "evalue": "No module named 'dnautil'",
     "output_type": "error",
     "traceback": [
      "\u001b[1;31m---------------------------------------------------------------------------\u001b[0m",
      "\u001b[1;31mModuleNotFoundError\u001b[0m                       Traceback (most recent call last)",
      "Cell \u001b[1;32mIn[27], line 1\u001b[0m\n\u001b[1;32m----> 1\u001b[0m \u001b[38;5;28;01mimport\u001b[39;00m \u001b[38;5;21;01mdnautil\u001b[39;00m\n",
      "\u001b[1;31mModuleNotFoundError\u001b[0m: No module named 'dnautil'"
     ]
    }
   ],
   "source": [
    "import dnautil"
   ]
  },
  {
   "cell_type": "code",
   "execution_count": 28,
   "id": "cfbece21-2162-44ad-bdca-c2bad0b9e382",
   "metadata": {},
   "outputs": [],
   "source": [
    "import sys"
   ]
  },
  {
   "cell_type": "code",
   "execution_count": 29,
   "id": "5918a617-35e6-4216-983b-4fc9514b7883",
   "metadata": {},
   "outputs": [
    {
     "data": {
      "text/plain": [
       "['C:\\\\Users\\\\vibha\\\\python_5.0\\\\python_2.0\\\\python',\n",
       " 'C:\\\\Users\\\\vibha\\\\anaconda3\\\\python312.zip',\n",
       " 'C:\\\\Users\\\\vibha\\\\anaconda3\\\\DLLs',\n",
       " 'C:\\\\Users\\\\vibha\\\\anaconda3\\\\Lib',\n",
       " 'C:\\\\Users\\\\vibha\\\\anaconda3',\n",
       " '',\n",
       " 'C:\\\\Users\\\\vibha\\\\anaconda3\\\\Lib\\\\site-packages',\n",
       " 'C:\\\\Users\\\\vibha\\\\anaconda3\\\\Lib\\\\site-packages\\\\win32',\n",
       " 'C:\\\\Users\\\\vibha\\\\anaconda3\\\\Lib\\\\site-packages\\\\win32\\\\lib',\n",
       " 'C:\\\\Users\\\\vibha\\\\anaconda3\\\\Lib\\\\site-packages\\\\Pythonwin']"
      ]
     },
     "execution_count": 29,
     "metadata": {},
     "output_type": "execute_result"
    }
   ],
   "source": [
    "sys.path"
   ]
  },
  {
   "cell_type": "code",
   "execution_count": 30,
   "id": "5e5cbdf1-d107-4413-b586-ba219eaa190d",
   "metadata": {},
   "outputs": [],
   "source": [
    "def function1(length):\n",
    "    if length > 0:\n",
    "        print(length)\n",
    "        function1(length - 1)\n",
    "def function2(length):\n",
    "    while length > 0:\n",
    "        print(length)\n",
    "        function2(length - 1)"
   ]
  },
  {
   "cell_type": "code",
   "execution_count": 31,
   "id": "539a71a2-b783-4a2d-ae03-b4dd02a7c06f",
   "metadata": {},
   "outputs": [
    {
     "name": "stdout",
     "output_type": "stream",
     "text": [
      "3.12.4 | packaged by Anaconda, Inc. | (main, Jun 18 2024, 15:03:56) [MSC v.1929 64 bit (AMD64)]\n"
     ]
    }
   ],
   "source": [
    "import sys\n",
    "print(sys.version)\n"
   ]
  },
  {
   "cell_type": "code",
   "execution_count": null,
   "id": "fddbd566-7917-4677-9f8a-8337b06e4174",
   "metadata": {},
   "outputs": [],
   "source": []
  }
 ],
 "metadata": {
  "kernelspec": {
   "display_name": "Python 3 (ipykernel)",
   "language": "python",
   "name": "python3"
  },
  "language_info": {
   "codemirror_mode": {
    "name": "ipython",
    "version": 3
   },
   "file_extension": ".py",
   "mimetype": "text/x-python",
   "name": "python",
   "nbconvert_exporter": "python",
   "pygments_lexer": "ipython3",
   "version": "3.12.4"
  }
 },
 "nbformat": 4,
 "nbformat_minor": 5
}

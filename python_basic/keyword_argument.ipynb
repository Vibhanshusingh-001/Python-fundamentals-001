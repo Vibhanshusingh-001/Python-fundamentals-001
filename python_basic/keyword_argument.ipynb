{
 "cells": [
  {
   "cell_type": "code",
   "execution_count": 7,
   "id": "604ec27a-0806-42ac-9807-cb74c5336bf5",
   "metadata": {},
   "outputs": [
    {
     "name": "stdout",
     "output_type": "stream",
     "text": [
      "hello vibhu singh gaharwar\n"
     ]
    }
   ],
   "source": [
    "def name(fname,mname,lname):\n",
    "    print(\"hello\",fname,mname,lname,)\n",
    "name(lname=\"gaharwar\",fname=\"vibhu\",mname=\"singh\")\n",
    "\n",
    "#order change kar sakte ho arguments ke\n",
    "\n",
    "#We can provide arguments with key = value, this way the interpreter recognizes the arguments by the parameter name.\n",
    "# Hence, the the order in which the arguments are passed does not matter.\n"
   ]
  },
  {
   "cell_type": "code",
   "execution_count": 8,
   "id": "5ffd9e19-57a8-486a-8f47-c90f8338b889",
   "metadata": {},
   "outputs": [
    {
     "name": "stdout",
     "output_type": "stream",
     "text": [
      "hello vibhu singh gaharwar\n"
     ]
    }
   ],
   "source": [
    "def vibhu(fname,lname,mname):\n",
    "    print(\"hello\",fname,lname,mname)\n",
    "name(lname=\"gaharwar\",fname=\"vibhu\",mname=\"singh\")\n",
    " "
   ]
  }
 ],
 "metadata": {
  "kernelspec": {
   "display_name": "Python 3 (ipykernel)",
   "language": "python",
   "name": "python3"
  },
  "language_info": {
   "codemirror_mode": {
    "name": "ipython",
    "version": 3
   },
   "file_extension": ".py",
   "mimetype": "text/x-python",
   "name": "python",
   "nbconvert_exporter": "python",
   "pygments_lexer": "ipython3",
   "version": "3.12.4"
  }
 },
 "nbformat": 4,
 "nbformat_minor": 5
}

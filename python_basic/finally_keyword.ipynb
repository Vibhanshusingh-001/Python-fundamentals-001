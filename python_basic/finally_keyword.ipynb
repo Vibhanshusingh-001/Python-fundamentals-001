{
 "cells": [
  {
   "cell_type": "markdown",
   "id": "fd916ca8-3174-485f-a4d4-802bd0effbcf",
   "metadata": {},
   "source": [
    "\n",
    "\n",
    "### what is the difference betwwen finaaly keyword and print statement---->\n",
    "jab ham cheejo ko function me wrap karte h aur tab agar error aata h to print statement\n",
    "nhi excute hoga magr ham agr finally keyword ka use karenge to function me error aane ke baad bhi finaaly wala statement\n",
    "print hoga"
   ]
  },
  {
   "cell_type": "code",
   "execution_count": 5,
   "id": "e2584e07-36a3-44e0-83ef-51d44a6c2a1c",
   "metadata": {},
   "outputs": [
    {
     "name": "stdin",
     "output_type": "stream",
     "text": [
      "Enter the index:  m\n"
     ]
    },
    {
     "name": "stdout",
     "output_type": "stream",
     "text": [
      "Invalid input. Please enter an integer.\n",
      "I am always executed\n",
      "0\n"
     ]
    }
   ],
   "source": [
    "\n",
    "def func1():\n",
    "    try:\n",
    "        l = [1, 5, 6, 7]\n",
    "        i = int(input(\"Enter the index: \"))\n",
    "        print(l[i])\n",
    "        return 1\n",
    "    except IndexError:\n",
    "        print(\"Index out of range. Please enter a valid index.\")\n",
    "        return 0\n",
    "    except ValueError:\n",
    "        print(\"Invalid input. Please enter an integer.\")\n",
    "        return 0\n",
    "    finally:\n",
    "        print(\"I am always executed\")\n",
    "\n",
    "# Call the function\n",
    "x = func1()\n",
    "print(x)\n"
   ]
  },
  {
   "cell_type": "code",
   "execution_count": 10,
   "id": "bc50288f-d3b1-426b-8157-5e23a5ddaa20",
   "metadata": {},
   "outputs": [
    {
     "name": "stdin",
     "output_type": "stream",
     "text": [
      "enter index value .\n"
     ]
    },
    {
     "name": "stdout",
     "output_type": "stream",
     "text": [
      "value error\n",
      "i am always excuted\n",
      "0\n"
     ]
    }
   ],
   "source": [
    "def func2():\n",
    "    try:\n",
    "        a=[2,5,8,7]\n",
    "        i=int(input(\"enter index value\"))\n",
    "        print(a[i])\n",
    "        return 1\n",
    "    except ValueError:\n",
    "        print(\"value error\")\n",
    "        return 0\n",
    "    except IndexError:\n",
    "        print(\"index errror\")\n",
    "        return 0\n",
    "    finally :\n",
    "        print(\"i am always excuted\")\n",
    "x=func2()\n",
    "print(x)\n",
    "    "
   ]
  },
  {
   "cell_type": "markdown",
   "id": "d95e2f6e-9232-4fc4-9058-3eb8e6247bd4",
   "metadata": {},
   "source": [
    "[] --> list\n"
   ]
  },
  {
   "cell_type": "code",
   "execution_count": 20,
   "id": "e37548a0-6a7f-4c50-b03e-c082b3d3ad7f",
   "metadata": {},
   "outputs": [
    {
     "name": "stdin",
     "output_type": "stream",
     "text": [
      "enter your endex value 20\n"
     ]
    },
    {
     "name": "stdout",
     "output_type": "stream",
     "text": [
      "there is index error\n",
      "i am always executed\n",
      "None\n"
     ]
    }
   ],
   "source": [
    "def function1():\n",
    "    try:\n",
    "        l=[5,3,9,7,4,8,6]\n",
    "        i=int(input(\"enter your endex value\"))\n",
    "        print(l[i])\n",
    "    except ValueError:\n",
    "        print(\"there is value error \")\n",
    "    except IndexError:\n",
    "        print(\"there is index error\")\n",
    "    finally:\n",
    "        print(\"i am always executed\")\n",
    "x=function1()\n",
    "print(x)\n",
    "        \n",
    "        \n",
    "    "
   ]
  }
 ],
 "metadata": {
  "kernelspec": {
   "display_name": "Python 3 (ipykernel)",
   "language": "python",
   "name": "python3"
  },
  "language_info": {
   "codemirror_mode": {
    "name": "ipython",
    "version": 3
   },
   "file_extension": ".py",
   "mimetype": "text/x-python",
   "name": "python",
   "nbconvert_exporter": "python",
   "pygments_lexer": "ipython3",
   "version": "3.12.4"
  }
 },
 "nbformat": 4,
 "nbformat_minor": 5
}

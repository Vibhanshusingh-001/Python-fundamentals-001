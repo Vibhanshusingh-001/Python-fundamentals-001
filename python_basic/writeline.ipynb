{
 "cells": [
  {
   "cell_type": "code",
   "execution_count": 1,
   "id": "d695ea3c-ef85-4598-bff3-f1b7e51b6e16",
   "metadata": {},
   "outputs": [],
   "source": [
    "f = open('myfile2.txt', 'w')\n",
    "lines = ['line 1\\n', 'line 2\\n', 'line 3\\n']\n",
    "f.writelines(lines)\n",
    "f.close()\n",
    "# lines jo iterable object hai iske saare elements ko 1 by one\n",
    "# 1-1 karke us file me chipka dega\n",
    "\n",
    "#Keep in mind that the writelines() method does not add newline characters between the strings in the sequence.\n",
    "# If you want to add newlines between the strings, you can use a loop to write each string separa"
   ]
  },
  {
   "cell_type": "code",
   "execution_count": 2,
   "id": "de4329ae-0fa6-48a1-b2d5-6d3e66575c15",
   "metadata": {},
   "outputs": [],
   "source": [
    "f=open(\"myvibhu.txt\",\"w\")\n",
    "lines=[\"line1\\n\",\"line2\\n\",\"line3\\n\"]\n",
    "f.writelines(lines)\n",
    "f.close()"
   ]
  }
 ],
 "metadata": {
  "kernelspec": {
   "display_name": "Python 3 (ipykernel)",
   "language": "python",
   "name": "python3"
  },
  "language_info": {
   "codemirror_mode": {
    "name": "ipython",
    "version": 3
   },
   "file_extension": ".py",
   "mimetype": "text/x-python",
   "name": "python",
   "nbconvert_exporter": "python",
   "pygments_lexer": "ipython3",
   "version": "3.12.4"
  }
 },
 "nbformat": 4,
 "nbformat_minor": 5
}

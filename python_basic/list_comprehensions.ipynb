{
 "cells": [
  {
   "cell_type": "code",
   "execution_count": 2,
   "id": "62fe57b8-4f4b-4766-9393-6bedc06acd7a",
   "metadata": {},
   "outputs": [
    {
     "name": "stdout",
     "output_type": "stream",
     "text": [
      "['Milo', 'Bruno', 'Rosa']\n"
     ]
    }
   ],
   "source": [
    "# List comprehensions are used for creating new lists from other\n",
    "# iterables like lists, tuples, dictionaries, sets, and even in arrays and strings.\n",
    "# list are mutable\n",
    "\n",
    "#Expression: It is the item which is being iterated.\n",
    "#Iterable: It can be list, tuples, dictionaries, sets, and even in arrays and strings.\n",
    "#Condition: Condition checks if the item should be added to the new list or not.\n",
    "#Accepts items with the small letter “o” in the new list\n",
    "\n",
    "names = [\"Milo\", \"Sarah\", \"Bruno\", \"Anastasia\", \"Rosa\"]\n",
    "namesWith_O = [item for item in names if \"o\" in item]\n",
    "print(namesWith_O)\n"
   ]
  },
  {
   "cell_type": "code",
   "execution_count": 6,
   "id": "c8f1eff0-3679-4b5a-b01f-9e60d4db1f48",
   "metadata": {},
   "outputs": [
    {
     "name": "stdout",
     "output_type": "stream",
     "text": [
      "['vibhu', 'akku', 'bikku', 'ramu']\n"
     ]
    }
   ],
   "source": [
    "names=[\"vibhu\",\"akku\",\"bikku\",\"ramu\"]\n",
    "nameswith_o=[item for item in names if \"u\" in item ]\n",
    "print(nameswith_o)"
   ]
  },
  {
   "cell_type": "code",
   "execution_count": 8,
   "id": "3637f51e-6d8f-4eba-ba4f-4d0c470cdbbf",
   "metadata": {},
   "outputs": [
    {
     "name": "stdout",
     "output_type": "stream",
     "text": [
      "[2, 4, 6]\n"
     ]
    }
   ],
   "source": [
    "numbers = [1, 2, 3, 4, 5, 6]\n",
    "even_numbers = [num for num in numbers if num % 2 == 0]\n",
    "print(even_numbers)  # Output: [2, 4, 6]\n"
   ]
  },
  {
   "cell_type": "code",
   "execution_count": 10,
   "id": "60913daa-20ec-4bee-9ac0-b66a1202d755",
   "metadata": {},
   "outputs": [
    {
     "name": "stdout",
     "output_type": "stream",
     "text": [
      "[2, 4, 6, 8]\n"
     ]
    }
   ],
   "source": [
    "numbers=[2,3,4,5,6,7,8,9]\n",
    "even_numbers =[num for num in numbers if num %2==0]\n",
    "print(even_numbers)"
   ]
  },
  {
   "cell_type": "code",
   "execution_count": 11,
   "id": "0ad6ecb0-f1f6-4985-aeef-2a565bf55c01",
   "metadata": {},
   "outputs": [
    {
     "name": "stdout",
     "output_type": "stream",
     "text": [
      "[45, 87, 45]\n"
     ]
    }
   ],
   "source": [
    "numbers=[45,65,98,25,35,421,87,45]\n",
    "odd_numbers=[num for num in numbers if num %3==0]\n",
    "print(odd_numbers)"
   ]
  }
 ],
 "metadata": {
  "kernelspec": {
   "display_name": "Python 3 (ipykernel)",
   "language": "python",
   "name": "python3"
  },
  "language_info": {
   "codemirror_mode": {
    "name": "ipython",
    "version": 3
   },
   "file_extension": ".py",
   "mimetype": "text/x-python",
   "name": "python",
   "nbconvert_exporter": "python",
   "pygments_lexer": "ipython3",
   "version": "3.12.4"
  }
 },
 "nbformat": 4,
 "nbformat_minor": 5
}

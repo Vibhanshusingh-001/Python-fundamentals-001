{
 "cells": [
  {
   "cell_type": "code",
   "execution_count": 3,
   "id": "7a6f82c5-34c1-4585-9c18-0f65cd220a6a",
   "metadata": {},
   "outputs": [
    {
     "name": "stdin",
     "output_type": "stream",
     "text": [
      "enter the value of N: 15\n",
      "enter the value of n: 15\n"
     ]
    },
    {
     "name": "stdout",
     "output_type": "stream",
     "text": [
      "<function percentilecalculator at 0x0000026816C614E0> (15, 15)\n"
     ]
    }
   ],
   "source": [
    "def percentilecalculator(n,N):\n",
    "    parcentile=(n/N*100)\n",
    "    print(parcentile)\n",
    "N=int(input(\"enter the value of N:\"))\n",
    "n=int(input((\"enter the value of n:\")))\n",
    "print(percentilecalculator,(n, N))\n"
   ]
  },
  {
   "cell_type": "code",
   "execution_count": 8,
   "id": "bb2ae71a-4b66-4118-b1b8-46794872094b",
   "metadata": {},
   "outputs": [
    {
     "name": "stdout",
     "output_type": "stream",
     "text": [
      "72.0\n",
      "None\n"
     ]
    }
   ],
   "source": [
    "def calculategmean(a,b):\n",
    "    mean=a*b/a+b\n",
    "    print(mean)\n",
    "print(calculategmean(45,36))"
   ]
  },
  {
   "cell_type": "code",
   "execution_count": 6,
   "id": "2320520b-0efa-4dd0-b33b-6b78dd6b9596",
   "metadata": {},
   "outputs": [
    {
     "name": "stdin",
     "output_type": "stream",
     "text": [
      "enter the value of a: 5\n",
      "enter the value of b: 5\n"
     ]
    },
    {
     "name": "stdout",
     "output_type": "stream",
     "text": [
      "first number is lesser\n",
      "None\n"
     ]
    }
   ],
   "source": [
    "\n",
    "def greaterlesser(a,b):\n",
    "    if(a>b):\n",
    "        print(\"first number is greater\")\n",
    "    else:\n",
    "        print(\"first number is lesser\")\n",
    "\n",
    "a=int(input(\"enter the value of a:\"))\n",
    "b=int(input(\"enter the value of b:\"))\n",
    "print(greaterlesser(a,b))"
   ]
  },
  {
   "cell_type": "code",
   "execution_count": 5,
   "id": "1734d84e-860e-4d68-a8c8-06b7040aae8d",
   "metadata": {},
   "outputs": [
    {
     "name": "stdin",
     "output_type": "stream",
     "text": [
      "enter the value of n 45\n",
      "the the value of N 45\n"
     ]
    },
    {
     "name": "stdout",
     "output_type": "stream",
     "text": [
      "4500.0\n"
     ]
    },
    {
     "data": {
      "text/plain": [
       "0"
      ]
     },
     "execution_count": 5,
     "metadata": {},
     "output_type": "execute_result"
    }
   ],
   "source": [
    "def percentilecalci(n,N):\n",
    "    percent=((n+n)/2*100)\n",
    "    print(percent)\n",
    "    return 0\n",
    "n=int(input(\"enter the value of n\"))\n",
    "N=int(input(\"the the value of N\"))\n",
    "percentilecalci(n,N)"
   ]
  },
  {
   "cell_type": "code",
   "execution_count": 10,
   "id": "b970a398-0a30-4c40-bf55-9b0e796b90c9",
   "metadata": {},
   "outputs": [
    {
     "name": "stdin",
     "output_type": "stream",
     "text": [
      "enter the value of a 45\n",
      "enter the the value of b 36\n"
     ]
    },
    {
     "name": "stdout",
     "output_type": "stream",
     "text": [
      "a is greater than b\n"
     ]
    }
   ],
   "source": [
    "def moreless(a,b):\n",
    "    if a>b:\n",
    "        print(\"a is greater than b\")\n",
    "    if a<b:\n",
    "        print(\"a is less than b\")\n",
    "    if a==b:\n",
    "        print(\"a is qual to b\")\n",
    "a=int(input(\"enter the value of a\"))\n",
    "b=int(input(\"enter the the value of b\"))\n",
    "moreless(a,b)"
   ]
  },
  {
   "cell_type": "code",
   "execution_count": null,
   "id": "0d314bcf-e7b5-4384-8b40-e85d1b18b399",
   "metadata": {},
   "outputs": [],
   "source": []
  }
 ],
 "metadata": {
  "kernelspec": {
   "display_name": "Python 3 (ipykernel)",
   "language": "python",
   "name": "python3"
  },
  "language_info": {
   "codemirror_mode": {
    "name": "ipython",
    "version": 3
   },
   "file_extension": ".py",
   "mimetype": "text/x-python",
   "name": "python",
   "nbconvert_exporter": "python",
   "pygments_lexer": "ipython3",
   "version": "3.12.4"
  }
 },
 "nbformat": 4,
 "nbformat_minor": 5
}

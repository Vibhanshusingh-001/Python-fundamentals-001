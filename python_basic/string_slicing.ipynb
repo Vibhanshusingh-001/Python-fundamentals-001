{
 "cells": [
  {
   "cell_type": "code",
   "execution_count": 2,
   "id": "627281b8-bcc5-438e-982d-c1b6fae1bb4d",
   "metadata": {},
   "outputs": [
    {
     "name": "stdout",
     "output_type": "stream",
     "text": [
      "5\n",
      "go\n",
      "a\n",
      "\n"
     ]
    }
   ],
   "source": [
    "# name=\"vibhanshu\"\n",
    "# print(len(name))\n",
    "#string slicing------>obtaining a sub-string from the given string by slicing it respectively from start to end....\n",
    "#2 methods of string slicing, one using the in-build slice() method and another using the [:] array slice.....\n",
    "fruit=\"mango\"\n",
    "print(len(fruit))\n",
    "print(fruit[-2:5])# -2 corresponds to 'g', and 5 is out of range but valid (the slice stops at the string's end).\n",
    "print(fruit[-4:-3])\n",
    "print(fruit[-1:4])#Since the start index (-1) is greater than the stop index (4), the slice is empty."
   ]
  },
  {
   "cell_type": "code",
   "execution_count": null,
   "id": "60bb00ac-dcb4-45c4-b675-ae4f8c2aefe3",
   "metadata": {},
   "outputs": [],
   "source": []
  }
 ],
 "metadata": {
  "kernelspec": {
   "display_name": "Python 3 (ipykernel)",
   "language": "python",
   "name": "python3"
  },
  "language_info": {
   "codemirror_mode": {
    "name": "ipython",
    "version": 3
   },
   "file_extension": ".py",
   "mimetype": "text/x-python",
   "name": "python",
   "nbconvert_exporter": "python",
   "pygments_lexer": "ipython3",
   "version": "3.12.4"
  }
 },
 "nbformat": 4,
 "nbformat_minor": 5
}

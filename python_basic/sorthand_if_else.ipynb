{
 "cells": [
  {
   "cell_type": "code",
   "execution_count": 1,
   "id": "54bb52e5-e3d4-4354-9494-acdf75c4f163",
   "metadata": {},
   "outputs": [
    {
     "name": "stdout",
     "output_type": "stream",
     "text": [
      "B\n",
      "4596\n",
      "2564879\n"
     ]
    },
    {
     "data": {
      "text/plain": [
       "(None, None)"
      ]
     },
     "execution_count": 1,
     "metadata": {},
     "output_type": "execute_result"
    }
   ],
   "source": [
    "a=4596\n",
    "b=2564879\n",
    "print(\"B\") if b>a else print(\"A\") if a==b else print(\"=\")\n",
    "print(a),print(b)"
   ]
  },
  {
   "cell_type": "code",
   "execution_count": 4,
   "id": "8ef3b4a6-84b9-44c2-ae03-6251ec0ee710",
   "metadata": {},
   "outputs": [
    {
     "name": "stdout",
     "output_type": "stream",
     "text": [
      "b\n"
     ]
    }
   ],
   "source": [
    "a=216\n",
    "b=216\n",
    "print(\"a\")if a>b else print(\"b\") if a==b else print(\"=\")"
   ]
  },
  {
   "cell_type": "code",
   "execution_count": null,
   "id": "6ca52f51-7e06-4ed0-86da-c70f57487887",
   "metadata": {},
   "outputs": [],
   "source": []
  }
 ],
 "metadata": {
  "kernelspec": {
   "display_name": "Python 3 (ipykernel)",
   "language": "python",
   "name": "python3"
  },
  "language_info": {
   "codemirror_mode": {
    "name": "ipython",
    "version": 3
   },
   "file_extension": ".py",
   "mimetype": "text/x-python",
   "name": "python",
   "nbconvert_exporter": "python",
   "pygments_lexer": "ipython3",
   "version": "3.12.4"
  }
 },
 "nbformat": 4,
 "nbformat_minor": 5
}

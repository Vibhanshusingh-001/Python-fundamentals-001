{
 "cells": [
  {
   "cell_type": "code",
   "execution_count": 10,
   "id": "70a254fc-c799-40bc-a622-03f99afcef23",
   "metadata": {},
   "outputs": [
    {
     "name": "stdout",
     "output_type": "stream",
     "text": [
      "25\n",
      "Takes in a number n, returns the square of n\n"
     ]
    },
    {
     "data": {
      "text/plain": [
       "'vibhu singh'"
      ]
     },
     "execution_count": 10,
     "metadata": {},
     "output_type": "execute_result"
    }
   ],
   "source": [
    "def square(n):\n",
    "  '''Takes in a number n, returns the square of n'''\n",
    "  print(n**2)\n",
    "square(5)\n",
    "print(square.__doc__)\n",
    "'''vibhu singh'''\n",
    "\n",
    "#doubt----->what is deffrence between docstring and comments\n",
    "# Docstrings act as documentation for the class, module, and packages.\n",
    "# Comments are mainly used to explain non-obvious portions of the code and can be useful\n",
    "# for comments on Fixing bugs and tasks that are needed to be done.\n",
    "\n"
   ]
  },
  {
   "cell_type": "code",
   "execution_count": 17,
   "id": "eca4ca7b-afe8-47dd-a84f-e24ae91eabfa",
   "metadata": {},
   "outputs": [
    {
     "name": "stdout",
     "output_type": "stream",
     "text": [
      "25\n",
      "Takes in a number n, returns the square of n\n"
     ]
    },
    {
     "data": {
      "text/plain": [
       "'vibhu singh'"
      ]
     },
     "execution_count": 17,
     "metadata": {},
     "output_type": "execute_result"
    }
   ],
   "source": [
    "def square(n):\n",
    "  '''Takes in a number n, returns the square of n'''\n",
    "  print(n**2)\n",
    "square(5)\n",
    "print(square.__doc__)\n",
    "'''vibhu singh'''"
   ]
  },
  {
   "cell_type": "code",
   "execution_count": 20,
   "id": "6dd90a37-e7cf-4d21-9352-7c3617130155",
   "metadata": {},
   "outputs": [
    {
     "name": "stdout",
     "output_type": "stream",
     "text": [
      "Using __doc__:\n",
      "Demonstrates triple double quotes\n",
      "    docstrings and does nothing really.\n"
     ]
    }
   ],
   "source": [
    "def my_function():\n",
    "    '''Demonstrates triple double quotes\n",
    "    docstrings and does nothing really.'''\n",
    " \n",
    "    return None\n",
    "\n",
    "print(\"Using __doc__:\")\n",
    "print(my_function.__doc__)\n"
   ]
  },
  {
   "cell_type": "code",
   "execution_count": 22,
   "id": "c87fe15e-35d5-4e23-8128-233ebbb2d822",
   "metadata": {},
   "outputs": [
    {
     "name": "stdout",
     "output_type": "stream",
     "text": [
      "7\n",
      "hello vibhu\n"
     ]
    }
   ],
   "source": [
    "def sum(n):\n",
    "    '''hello vibhu'''\n",
    "    print(n+2)\n",
    "sum(5)\n",
    "print(sum.__doc__)\n",
    "    "
   ]
  }
 ],
 "metadata": {
  "kernelspec": {
   "display_name": "Python 3 (ipykernel)",
   "language": "python",
   "name": "python3"
  },
  "language_info": {
   "codemirror_mode": {
    "name": "ipython",
    "version": 3
   },
   "file_extension": ".py",
   "mimetype": "text/x-python",
   "name": "python",
   "nbconvert_exporter": "python",
   "pygments_lexer": "ipython3",
   "version": "3.12.4"
  }
 },
 "nbformat": 4,
 "nbformat_minor": 5
}

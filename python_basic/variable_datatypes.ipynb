{
 "cells": [
  {
   "cell_type": "code",
   "execution_count": 1,
   "id": "e05e5bb3-857e-4394-9dda-57e29acec8c3",
   "metadata": {},
   "outputs": [
    {
     "name": "stdout",
     "output_type": "stream",
     "text": [
      "<class 'str'>\n",
      "<class 'NoneType'>\n",
      "<class 'bool'>\n",
      "<class 'float'>\n",
      "<class 'tuple'>\n"
     ]
    }
   ],
   "source": [
    "a=\"vibhu\"\n",
    "b=None\n",
    "c=True\n",
    "d=55.236\n",
    "e=(complex,5,4)\n",
    "print(type (a))\n",
    "print(type (b))\n",
    "print(type (c))\n",
    "print(type (d))\n",
    "print(type (e))"
   ]
  },
  {
   "cell_type": "code",
   "execution_count": null,
   "id": "c5d38f63-4d85-488c-8405-6f5e6e58d170",
   "metadata": {},
   "outputs": [],
   "source": []
  }
 ],
 "metadata": {
  "kernelspec": {
   "display_name": "Python 3 (ipykernel)",
   "language": "python",
   "name": "python3"
  },
  "language_info": {
   "codemirror_mode": {
    "name": "ipython",
    "version": 3
   },
   "file_extension": ".py",
   "mimetype": "text/x-python",
   "name": "python",
   "nbconvert_exporter": "python",
   "pygments_lexer": "ipython3",
   "version": "3.12.4"
  }
 },
 "nbformat": 4,
 "nbformat_minor": 5
}

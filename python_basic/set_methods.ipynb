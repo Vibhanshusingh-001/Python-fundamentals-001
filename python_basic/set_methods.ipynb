{
 "cells": [
  {
   "cell_type": "code",
   "execution_count": 1,
   "id": "087c7780-e11b-4733-834f-a360eaf3845d",
   "metadata": {},
   "outputs": [
    {
     "name": "stdout",
     "output_type": "stream",
     "text": [
      "45 is present\n",
      "{'mirzapur', 'sidhi', 'pondicherry', 'matiyari', 'indore', 'dhanha', 'meerut'}\n",
      "{'mirzapur', 'sidhi', 'pondicherry', 'matiyari', 'indore', 'dhanha', 'meerut'}\n",
      "{'dhanha'}\n",
      "{'dhanha'}\n",
      "{'Berlin', 'Seoul', 'Kabul', 'Delhi'}\n",
      "{'Berlin', 'Seoul', 'Kabul', 'Delhi'}\n",
      "{'sidhi', 'meerut', 'mirzapur', 'pondicherry', 'indore'}\n",
      "{'mirzapur', 'sidhi', 'pondicherry', 'indore', 'meerut'}\n"
     ]
    }
   ],
   "source": [
    "s={\"vibhu\",45,58,123,True,False}\n",
    "if 45 in s:\n",
    "    print(\"45 is present\")\n",
    "else:\n",
    "    print(\"45 is not present\")\n",
    "\n",
    "# UNION ------> to unite sets\n",
    "city={\"sidhi\",\"indore\",\"mirzapur\",\"meerut\",\"pondicherry\"}\n",
    "city2= {\"matiyari\",\"dhanha\"}\n",
    "city3=city.union(city2)\n",
    "print(city3)\n",
    "\n",
    "#UPDATE------->\n",
    "city={\"sidhi\",\"indore\",\"mirzapur\",\"meerut\",\"pondicherry\"}\n",
    "city2= {\"matiyari\",\"dhanha\"}\n",
    "City3=city.update(city2)\n",
    "print(city3)\n",
    "#intersection and intersection update----->(matlab jo common hai)\n",
    "\n",
    "# The intersection() and intersection_update() methods prints only items that are similar to both the sets.\n",
    "# The intersection() method returns a new set whereas intersection_update() method updates into the existing set from another set.\n",
    "city={\"sidhi\",\"indore\",\"mirzapur\",\"dhanha\",\"meerut\",\"pondicherry\"}\n",
    "city2= {\"matiyari\",\"dhanha\"}\n",
    "city3=city.intersection(city2)\n",
    "print(city3)\n",
    "\n",
    "#intersection update----->\n",
    "city={\"sidhi\",\"indore\",\"mirzapur\",\"dhanha\",\"meerut\",\"pondicherry\"}\n",
    "city2= {\"matiyari\",\"dhanha\"}\n",
    "city.intersection_update(city2)\n",
    "print(city)\n",
    "#symmetric_difference and symmetric_difference_update():---->(jo common nhi h)\n",
    "\n",
    "#The symmetric_difference() and symmetric_difference_update() methods prints only items that are not similar to both the sets.\n",
    "#The symmetric_difference() method returns a new set whereas symmetric_difference_update() method updates into the existing set from another set\n",
    "\n",
    "#symmetric_difference :\n",
    "cities = {\"Tokyo\", \"Madrid\", \"Berlin\", \"Delhi\"}\n",
    "cities2 = {\"Tokyo\", \"Seoul\", \"Kabul\", \"Madrid\"}\n",
    "cities3 = cities.symmetric_difference(cities2)\n",
    "print(cities3)\n",
    "#symmetric_difference_update()\n",
    "cities = {\"Tokyo\", \"Madrid\", \"Berlin\", \"Delhi\"}\n",
    "cities2 = {\"Tokyo\", \"Seoul\", \"Kabul\", \"Madrid\"}\n",
    "cities.symmetric_difference_update(cities2)\n",
    "print(cities)\n",
    "# difference() and difference_update():------>\n",
    "\n",
    "# The difference() and difference_update() methods prints only items that are only present in the original set and not in both the sets.\n",
    "# The difference() method returns a new set whereas difference_update() method updates into the existing set from another set.\n",
    "\n",
    "# difference()---->\n",
    "cities = {\"sidhi\",\"indore\",\"mirzapur\",\"meerut\",\"pondicherry\"}\n",
    "cities2 = {\"Seoul\", \"Kabul\", \"Delhi\"}\n",
    "cities3 = cities.difference(cities2)\n",
    "print(cities3)\n",
    "\n",
    "# difference_update()------>\n",
    "cities = {\"sidhi\",\"indore\",\"mirzapur\",\"meerut\",\"pondicherry\"}\n",
    "cities2 = {\"Seoul\", \"Kabul\", \"Delhi\"}\n",
    "cities.difference_update(cities2)\n",
    "print(cities)\n",
    "\n"
   ]
  }
 ],
 "metadata": {
  "kernelspec": {
   "display_name": "Python 3 (ipykernel)",
   "language": "python",
   "name": "python3"
  },
  "language_info": {
   "codemirror_mode": {
    "name": "ipython",
    "version": 3
   },
   "file_extension": ".py",
   "mimetype": "text/x-python",
   "name": "python",
   "nbconvert_exporter": "python",
   "pygments_lexer": "ipython3",
   "version": "3.12.4"
  }
 },
 "nbformat": 4,
 "nbformat_minor": 5
}

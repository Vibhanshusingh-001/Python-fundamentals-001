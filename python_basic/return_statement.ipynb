{
 "cells": [
  {
   "cell_type": "code",
   "execution_count": 6,
   "id": "fd68f84f-a067-4945-88aa-79512246ef6b",
   "metadata": {},
   "outputs": [
    {
     "name": "stdout",
     "output_type": "stream",
     "text": [
      "8.428571428571429\n"
     ]
    }
   ],
   "source": [
    "def average(*number):\n",
    "    sum = 0\n",
    "    for i in number:\n",
    "        sum += i  # Accumulate the sum\n",
    "    return sum / len(number)  # Return the average after the loop\n",
    "\n",
    "c = average(5, 3, 6, 5, 4, 32, 4)\n",
    "print(c)\n"
   ]
  },
  {
   "cell_type": "code",
   "execution_count": 8,
   "id": "d15b3cec-7c9b-4250-a2e2-fd5f85701eb0",
   "metadata": {},
   "outputs": [
    {
     "name": "stdout",
     "output_type": "stream",
     "text": [
      "4341031.615384615\n"
     ]
    }
   ],
   "source": [
    "def avg(*numbers):\n",
    "    sum=0\n",
    "    for i in numbers:\n",
    "        sum += i\n",
    "    return sum/len(numbers)\n",
    "print(avg(26,32615,33153,31451,1654165,1515,541544,545,55,54121845,15415,541,541))"
   ]
  },
  {
   "cell_type": "code",
   "execution_count": null,
   "id": "37efbfd2-14d5-4574-a52c-7036effa5f54",
   "metadata": {},
   "outputs": [],
   "source": []
  }
 ],
 "metadata": {
  "kernelspec": {
   "display_name": "Python 3 (ipykernel)",
   "language": "python",
   "name": "python3"
  },
  "language_info": {
   "codemirror_mode": {
    "name": "ipython",
    "version": 3
   },
   "file_extension": ".py",
   "mimetype": "text/x-python",
   "name": "python",
   "nbconvert_exporter": "python",
   "pygments_lexer": "ipython3",
   "version": "3.12.4"
  }
 },
 "nbformat": 4,
 "nbformat_minor": 5
}

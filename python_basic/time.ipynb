{
 "cells": [
  {
   "cell_type": "code",
   "execution_count": 11,
   "id": "b1d43a5a-cdea-4171-b2e6-08100fe4804f",
   "metadata": {},
   "outputs": [
    {
     "name": "stdin",
     "output_type": "stream",
     "text": [
      "enter hour 16\n"
     ]
    },
    {
     "name": "stdout",
     "output_type": "stream",
     "text": [
      "16\n",
      "good afternoon\n"
     ]
    }
   ],
   "source": [
    "import time\n",
    "currenttime=time.strftime('%H:%M:%S')\n",
    "hour=int(time.strftime(\"%H\"))\n",
    "hour=int(input(\"enter hour\"))\n",
    "print(hour)\n",
    "\n",
    "if (hour>=0 and hour<=12):\n",
    "    print(\"good morning\")\n",
    "elif(hour>=12 and hour<17):\n",
    "    print(\"good afternoon\")\n",
    "    \n",
    "elif(hour>=17 and hour<24):\n",
    "    print(\"good afternoon\")    \n",
    "\n",
    "\n",
    "                     \n",
    "                   \n",
    "                   "
   ]
  },
  {
   "cell_type": "code",
   "execution_count": 21,
   "id": "b5861726-2e8f-4e86-9034-8c299c17582b",
   "metadata": {},
   "outputs": [
    {
     "name": "stdin",
     "output_type": "stream",
     "text": [
      "Enter hour:  p4\n"
     ]
    },
    {
     "ename": "ValueError",
     "evalue": "invalid literal for int() with base 10: 'p4'",
     "output_type": "error",
     "traceback": [
      "\u001b[1;31m---------------------------------------------------------------------------\u001b[0m",
      "\u001b[1;31mValueError\u001b[0m                                Traceback (most recent call last)",
      "Cell \u001b[1;32mIn[21], line 4\u001b[0m\n\u001b[0;32m      2\u001b[0m t \u001b[38;5;241m=\u001b[39m time\u001b[38;5;241m.\u001b[39mstrftime(\u001b[38;5;124m'\u001b[39m\u001b[38;5;124m%\u001b[39m\u001b[38;5;124mH:\u001b[39m\u001b[38;5;124m%\u001b[39m\u001b[38;5;124mM:\u001b[39m\u001b[38;5;124m%\u001b[39m\u001b[38;5;124mS\u001b[39m\u001b[38;5;124m'\u001b[39m)\n\u001b[0;32m      3\u001b[0m hour \u001b[38;5;241m=\u001b[39m \u001b[38;5;28mint\u001b[39m(time\u001b[38;5;241m.\u001b[39mstrftime(\u001b[38;5;124m'\u001b[39m\u001b[38;5;124m%\u001b[39m\u001b[38;5;124mH\u001b[39m\u001b[38;5;124m'\u001b[39m))\n\u001b[1;32m----> 4\u001b[0m hour \u001b[38;5;241m=\u001b[39m \u001b[38;5;28mint\u001b[39m(\u001b[38;5;28minput\u001b[39m(\u001b[38;5;124m\"\u001b[39m\u001b[38;5;124mEnter hour: \u001b[39m\u001b[38;5;124m\"\u001b[39m))\n\u001b[0;32m      5\u001b[0m \u001b[38;5;28mprint\u001b[39m(hour)\n\u001b[0;32m      7\u001b[0m \u001b[38;5;28;01mif\u001b[39;00m(hour\u001b[38;5;241m>\u001b[39m\u001b[38;5;241m=\u001b[39m\u001b[38;5;241m0\u001b[39m \u001b[38;5;129;01mand\u001b[39;00m hour\u001b[38;5;241m<\u001b[39m\u001b[38;5;241m12\u001b[39m):\n",
      "\u001b[1;31mValueError\u001b[0m: invalid literal for int() with base 10: 'p4'"
     ]
    }
   ],
   "source": [
    "import time\n",
    "t = time.strftime('%H:%M:%S')\n",
    "hour = int(time.strftime('%H'))\n",
    "hour = int(input(\"Enter hour: \"))\n",
    "print(hour)\n",
    "\n",
    "if(hour>=0 and hour<12):\n",
    "  print(\"Good Morning Sir!\")\n",
    "elif(hour>=12 and hour<17):\n",
    "  print(\"Good Afternoon Sir!\")\n",
    "elif(hour>=17 and hour<0):\n",
    "  print(\"Good Night Sir!\")"
   ]
  },
  {
   "cell_type": "code",
   "execution_count": 26,
   "id": "a226b8d9-bae4-48a6-8272-7ebe33946d76",
   "metadata": {},
   "outputs": [
    {
     "name": "stdin",
     "output_type": "stream",
     "text": [
      "enter hour: o\n"
     ]
    },
    {
     "ename": "ValueError",
     "evalue": "invalid literal for int() with base 10: 'o'",
     "output_type": "error",
     "traceback": [
      "\u001b[1;31m---------------------------------------------------------------------------\u001b[0m",
      "\u001b[1;31mValueError\u001b[0m                                Traceback (most recent call last)",
      "Cell \u001b[1;32mIn[26], line 4\u001b[0m\n\u001b[0;32m      2\u001b[0m t\u001b[38;5;241m=\u001b[39m time\u001b[38;5;241m.\u001b[39mstrftime(\u001b[38;5;124m'\u001b[39m\u001b[38;5;124m%\u001b[39m\u001b[38;5;124mH:\u001b[39m\u001b[38;5;124m%\u001b[39m\u001b[38;5;124mM:\u001b[39m\u001b[38;5;124m%\u001b[39m\u001b[38;5;124mS\u001b[39m\u001b[38;5;124m'\u001b[39m)\n\u001b[0;32m      3\u001b[0m hour\u001b[38;5;241m=\u001b[39m \u001b[38;5;28mint\u001b[39m(time\u001b[38;5;241m.\u001b[39mstrftime(\u001b[38;5;124m'\u001b[39m\u001b[38;5;124m%\u001b[39m\u001b[38;5;124mH\u001b[39m\u001b[38;5;124m'\u001b[39m))\n\u001b[1;32m----> 4\u001b[0m hour\u001b[38;5;241m=\u001b[39m \u001b[38;5;28mint\u001b[39m(\u001b[38;5;28minput\u001b[39m(\u001b[38;5;124m\"\u001b[39m\u001b[38;5;124menter hour:\u001b[39m\u001b[38;5;124m\"\u001b[39m))\n\u001b[0;32m      5\u001b[0m \u001b[38;5;28mprint\u001b[39m(hour)\n\u001b[0;32m      7\u001b[0m \u001b[38;5;28;01mif\u001b[39;00m (hour\u001b[38;5;241m>\u001b[39m\u001b[38;5;241m=\u001b[39m\u001b[38;5;241m0\u001b[39m \u001b[38;5;129;01mand\u001b[39;00m hour\u001b[38;5;241m<\u001b[39m\u001b[38;5;241m=\u001b[39m\u001b[38;5;241m12\u001b[39m):\n",
      "\u001b[1;31mValueError\u001b[0m: invalid literal for int() with base 10: 'o'"
     ]
    }
   ],
   "source": [
    "import time\n",
    "t= time.strftime('%H:%M:%S')\n",
    "hour= int(time.strftime('%H'))\n",
    "hour= int(input(\"enter hour:\"))\n",
    "print(hour)\n",
    "\n",
    "if (hour>=0 and hour<=12):\n",
    "    print(\"good morning sir\")\n",
    "elif(hour>=12 and hour<=17):\n",
    "    print(\"good afternoon\")\n",
    "elif(hour>=17 and hour<=24):\n",
    "    print(\"goood night\")"
   ]
  },
  {
   "cell_type": "code",
   "execution_count": 28,
   "id": "701e0edd-2017-4554-be98-a361634cae19",
   "metadata": {},
   "outputs": [
    {
     "name": "stdin",
     "output_type": "stream",
     "text": [
      "enter hour 23\n"
     ]
    },
    {
     "name": "stdout",
     "output_type": "stream",
     "text": [
      "23\n",
      "goood night\n"
     ]
    }
   ],
   "source": [
    "import time \n",
    "t=time.strftime('%H:%M:%S')\n",
    "hour=int(time.strftime('%H'))\n",
    "hour=int(input(\"enter hour\"))\n",
    "print(hour)\n",
    "if (hour>=0 and hour<=12):\n",
    "    print(\"good morning sir\")\n",
    "elif(hour>=12 and hour<=17):\n",
    "    print(\"good afternoon\")\n",
    "elif(hour>=17 and hour<=24):\n",
    "    print(\"goood night\")"
   ]
  }
 ],
 "metadata": {
  "kernelspec": {
   "display_name": "Python 3 (ipykernel)",
   "language": "python",
   "name": "python3"
  },
  "language_info": {
   "codemirror_mode": {
    "name": "ipython",
    "version": 3
   },
   "file_extension": ".py",
   "mimetype": "text/x-python",
   "name": "python",
   "nbconvert_exporter": "python",
   "pygments_lexer": "ipython3",
   "version": "3.12.4"
  }
 },
 "nbformat": 4,
 "nbformat_minor": 5
}

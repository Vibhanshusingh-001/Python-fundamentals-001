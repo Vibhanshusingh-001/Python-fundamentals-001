{
 "cells": [
  {
   "cell_type": "code",
   "execution_count": 16,
   "id": "75bc0190-20c0-44ff-8bf4-e5e33fcfe418",
   "metadata": {},
   "outputs": [
    {
     "name": "stdout",
     "output_type": "stream",
     "text": [
      "Marks of student 1in maths is:12\n",
      "Marks of student 1in english is:55\n",
      "Marks of student 1in SST is:12\n",
      "\n",
      "12,55,12\n",
      " <class 'str'>\n",
      "Marks of student 2in maths is:25\n",
      "Marks of student 2in english is:45\n",
      "Marks of student 2in SST is:45\n",
      "\n",
      "25,45,45\n",
      " <class 'str'>\n",
      "Marks of student 3in maths is:84\n",
      "Marks of student 3in english is:64\n",
      "Marks of student 3in SST is:20\n",
      "84,64,20 <class 'str'>\n"
     ]
    }
   ],
   "source": [
    "#line by line read karne ke liye ham ise use karte h\n",
    "f=open('vibhu.txt','r')\n",
    "i=0\n",
    "while True:\n",
    "    i=i+1\n",
    "    line=f.readline()\n",
    "    if not line:\n",
    "         break\n",
    "    \n",
    "    m1=line.split(\",\")[0]\n",
    "    m2=line.split(\",\")[1]\n",
    "    m3=line.split(\",\")[2]\n",
    "    print(f\"Marks of student {i}in maths is:{m1}\")\n",
    "    print(f\"Marks of student {i}in english is:{m2}\")\n",
    "    print(f\"Marks of student {i}in SST is:{m3}\")\n",
    "    \n",
    "    \n",
    "    print(line,type(line))\n",
    "        \n",
    "    \n",
    "   \n",
    "       \n"
   ]
  },
  {
   "cell_type": "code",
   "execution_count": 17,
   "id": "ea20d3ee-8711-4bef-a68a-80331650538e",
   "metadata": {},
   "outputs": [
    {
     "name": "stdout",
     "output_type": "stream",
     "text": [
      "atul singh gahrwarbe careful with your frequencybe careful with your frequency be careful with your frequency\n"
     ]
    }
   ],
   "source": [
    "f= open('my.txt','r')\n",
    "while True:\n",
    "    line=f.readline()\n",
    "    if not line:\n",
    "        break\n",
    "    print(line)    "
   ]
  },
  {
   "cell_type": "code",
   "execution_count": 21,
   "id": "460fe086-8022-4d34-bc54-6ab2cc3f7175",
   "metadata": {},
   "outputs": [
    {
     "name": "stdout",
     "output_type": "stream",
     "text": [
      "atul singh gahrwarbe careful with your frequencybe careful with your frequency be careful with your frequency\n"
     ]
    }
   ],
   "source": [
    "f=open('my.txt','r')\n",
    "while True:\n",
    "    line=f.readline()\n",
    "    if not line :\n",
    "        break \n",
    "    print(line)"
   ]
  }
 ],
 "metadata": {
  "kernelspec": {
   "display_name": "Python 3 (ipykernel)",
   "language": "python",
   "name": "python3"
  },
  "language_info": {
   "codemirror_mode": {
    "name": "ipython",
    "version": 3
   },
   "file_extension": ".py",
   "mimetype": "text/x-python",
   "name": "python",
   "nbconvert_exporter": "python",
   "pygments_lexer": "ipython3",
   "version": "3.12.4"
  }
 },
 "nbformat": 4,
 "nbformat_minor": 5
}

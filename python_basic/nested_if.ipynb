{
 "cells": [
  {
   "cell_type": "code",
   "execution_count": null,
   "id": "22ca3c2a-c79f-4496-9d5a-a2a2c5146858",
   "metadata": {},
   "outputs": [],
   "source": [
    "num=int(input(\"enter your number:\"))\n",
    "print(num)\n",
    "if(num<0):\n",
    "    print(\"your number is negative\")\n",
    "    if(num>0):\n",
    "        print(\"your number is positive\")\n",
    "    elif(num<10):\n",
    "        print(\"your number is less than 10\")\n",
    "    elif(num<20):\n",
    "        print(\"your number is less than 20\")\n",
    "    else:\n",
    "        print(\"your number is grater than 20\")\n",
    "else:\n",
    "    print(\"your number is positive \")\n",
    "\n",
    "\n",
    "\n"
   ]
  }
 ],
 "metadata": {
  "kernelspec": {
   "display_name": "Python 3 (ipykernel)",
   "language": "python",
   "name": "python3"
  },
  "language_info": {
   "codemirror_mode": {
    "name": "ipython",
    "version": 3
   },
   "file_extension": ".py",
   "mimetype": "text/x-python",
   "name": "python",
   "nbconvert_exporter": "python",
   "pygments_lexer": "ipython3",
   "version": "3.12.4"
  }
 },
 "nbformat": 4,
 "nbformat_minor": 5
}

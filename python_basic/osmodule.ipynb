{
 "cells": [
  {
   "cell_type": "code",
   "execution_count": 1,
   "id": "9be25fc0-0224-4011-964e-7ddc942fa38b",
   "metadata": {},
   "outputs": [],
   "source": [
    "# os me jo cheej manually karte hai use automate kar sakte h\n",
    "# operating system ke bahut saare opration perform karne me madad karta h\n",
    "# koi bhi cheej automate karni ho to os module ka use karte h\n",
    "# bulk  operations kar sakte ho like folder rename kar sakte ho , folder create kar sakte ho, read kr sakte ho\n",
    "import os\n",
    "if(not os.path.exists(\"data\")): #ye isliye bana rahe hai kyuki data file already exist kar rhi h\n",
    " os.mkdir(\"data\")\n",
    "for i in range(0,10):\n",
    "    os.mkdir(f\"data/day{i+1}\")#data ke andar har day ka folder ban jaaye"
   ]
  },
  {
   "cell_type": "code",
   "execution_count": 2,
   "id": "da0a5d20-6eb4-45e6-b94b-60a81cc235c5",
   "metadata": {},
   "outputs": [
    {
     "name": "stdout",
     "output_type": "stream",
     "text": [
      "Folders in 'data': ['day1', 'day10', 'day2', 'day3', 'day4', 'day5', 'day6', 'day7', 'day8', 'day9']\n",
      "Folder: day1\n",
      "  Empty\n",
      "Folder: day10\n",
      "  Empty\n",
      "Folder: day2\n",
      "  Empty\n",
      "Folder: day3\n",
      "  Empty\n",
      "Folder: day4\n",
      "  Empty\n",
      "Folder: day5\n",
      "  Empty\n",
      "Folder: day6\n",
      "  Empty\n",
      "Folder: day7\n",
      "  Empty\n",
      "Folder: day8\n",
      "  Empty\n",
      "Folder: day9\n",
      "  Empty\n",
      "Current working directory: C:\\Users\\vibha\n"
     ]
    }
   ],
   "source": [
    "import os\n",
    "\n",
    "# Check if 'data' directory exists\n",
    "data_dir = \"data\"\n",
    "if os.path.exists(data_dir):\n",
    "    folders = os.listdir(data_dir)\n",
    "    print(\"Folders in 'data':\", folders)\n",
    "\n",
    "    # Print each folder's name and its contents\n",
    "    for folder in folders:\n",
    "        print(f\"Folder: {folder}\")\n",
    "        folder_path = os.path.join(data_dir, folder)\n",
    "        contents = os.listdir(folder_path)\n",
    "        if contents:\n",
    "            print(f\"  Contains: {contents}\")\n",
    "        else:\n",
    "            print(\"  Empty\")\n",
    "else:\n",
    "    print(\"The 'data' directory does not exist.\")\n",
    "\n",
    "# Change to the user's home directory and print current working directory\n",
    "home_dir = os.path.expanduser(\"~\")\n",
    "os.chdir(home_dir)\n",
    "print(\"Current working directory:\", os.getcwd())"
   ]
  },
  {
   "cell_type": "code",
   "execution_count": null,
   "id": "35f64572-d8f7-4621-9c4a-f3efe312349d",
   "metadata": {},
   "outputs": [],
   "source": []
  }
 ],
 "metadata": {
  "kernelspec": {
   "display_name": "Python 3 (ipykernel)",
   "language": "python",
   "name": "python3"
  },
  "language_info": {
   "codemirror_mode": {
    "name": "ipython",
    "version": 3
   },
   "file_extension": ".py",
   "mimetype": "text/x-python",
   "name": "python",
   "nbconvert_exporter": "python",
   "pygments_lexer": "ipython3",
   "version": "3.12.4"
  }
 },
 "nbformat": 4,
 "nbformat_minor": 5
}

{
 "cells": [
  {
   "cell_type": "code",
   "execution_count": 36,
   "id": "3e34f40a-a67d-4197-82ea-ce6f44b830b7",
   "metadata": {},
   "outputs": [],
   "source": [
    "\n",
    "def gc(dna):\n",
    "    \"\"\"to cmpute gc percent\"\"\"\n",
    "    nbases=dna.count('n')+dna.count('N')\n",
    "    gcpercent=float(dna.count('g')+dna.count('c')+dna.count('G')+dna.count('C'))*100/(len(dna)-nbases)\n",
    "    return gcpercent \n",
    "\n",
    "          \n",
    "# def gc(dna):\n",
    "#     \"\"\"Compute GC percent.\"\"\"\n",
    "#     nbases = dna.count('n') + dna.count('N')\n",
    "#     gcpercent = float(dna.count('g') + dna.count('c') + dna.count('G') + dna.count('C')) * 100 / (len(dna) - nbases)\n",
    "#     return gcpercent\n",
    "            \n",
    "            \n",
    "    "
   ]
  },
  {
   "cell_type": "code",
   "execution_count": 37,
   "id": "c030ce03-04aa-4cac-a968-e4870f37f2bd",
   "metadata": {},
   "outputs": [
    {
     "data": {
      "text/plain": [
       "57.89473684210526"
      ]
     },
     "execution_count": 37,
     "metadata": {},
     "output_type": "execute_result"
    }
   ],
   "source": [
    "gc('GGAGGCccttaaggCTATC')"
   ]
  },
  {
   "cell_type": "code",
   "execution_count": 13,
   "id": "99a6229d-d928-4745-9c3a-ffe9a5e3f7c5",
   "metadata": {},
   "outputs": [
    {
     "name": "stdout",
     "output_type": "stream",
     "text": [
      "Help on function gc in module __main__:\n",
      "\n",
      "gc(dna)\n",
      "    to cmpute gc percent\n",
      "\n"
     ]
    }
   ],
   "source": [
    "help(gc)"
   ]
  },
  {
   "cell_type": "code",
   "execution_count": 38,
   "id": "b614174a-ec26-43c1-bd07-0c00ed8bdf8e",
   "metadata": {},
   "outputs": [
    {
     "data": {
      "text/plain": [
       "56.52173913043478"
      ]
     },
     "execution_count": 38,
     "metadata": {},
     "output_type": "execute_result"
    }
   ],
   "source": [
    "gc(dna)"
   ]
  },
  {
   "cell_type": "code",
   "execution_count": 43,
   "id": "abdd31fd-e380-499c-b88b-7ac9c7517c22",
   "metadata": {},
   "outputs": [
    {
     "name": "stdin",
     "output_type": "stream",
     "text": [
      "enter dna seq aaaatttgggccc\n"
     ]
    },
    {
     "name": "stdout",
     "output_type": "stream",
     "text": [
      "there isno stop codon\n"
     ]
    }
   ],
   "source": [
    "dna=input(\"enter dna seq\")\n",
    "if (has_stop_codon(dna)):\n",
    "    print(\"the seqence contains stop codon\")\n",
    "else:\n",
    "    print(\"there is no stop codon\")"
   ]
  },
  {
   "cell_type": "code",
   "execution_count": 42,
   "id": "060da08b-1260-468e-b17d-402a98ba350a",
   "metadata": {},
   "outputs": [],
   "source": [
    "def has_stop_codon(dna):\n",
    "    \"\"\" this function checks if dna sequence contains stop codon or not\"\"\"\n",
    "    stop_codon_found=False\n",
    "    stop_codons=['tga','tag','taa']\n",
    "    for i in range(0,len(dna),3):\n",
    "        codon=dna[i:i+3].lower()\n",
    "        if codon in stop_codons:\n",
    "            stop_codon_found=True\n",
    "            break\n",
    "    return stop_codon_found         "
   ]
  },
  {
   "cell_type": "code",
   "execution_count": 49,
   "id": "9946aa0f-ffb8-4d4e-88cb-97844b065b99",
   "metadata": {},
   "outputs": [],
   "source": [
    "def has_stop_codon(dna,frame):\n",
    "    \"\"\"this function will hwlp to find stop codon in sequence\"\"\"\n",
    "    found_stop_codon=False\n",
    "    stop_codon=[\"atg\",\"tga\",\"tgc\"]\n",
    "    for i in range(frame,len(dna),3):\n",
    "        codon=dna[i:i+3]\n",
    "        if codon in stop_codon:\n",
    "             found_stop_codon=True\n",
    "             break\n",
    "             return found_stop_codon\n",
    "        \n",
    "         \n",
    "    "
   ]
  },
  {
   "cell_type": "code",
   "execution_count": 55,
   "id": "250bf6ed-1eb6-4db1-a833-ef94b2a2a147",
   "metadata": {},
   "outputs": [],
   "source": [
    "dna=\"aattgggccggtagtcgatcgctacgtgaaatcgatgc\"\n",
    "has_stop_codon(dna,0)\n",
    "has_stop_codon(dna,1)"
   ]
  },
  {
   "cell_type": "code",
   "execution_count": 57,
   "id": "32b703d6-a602-4c97-80a1-6e12e25f5e1f",
   "metadata": {},
   "outputs": [],
   "source": [
    "def has_stop_codon(dna,frame=0):\n",
    "    \"\"\"this function will hwlp to find stop codon in sequence\"\"\"\n",
    "    found_stop_codon=False\n",
    "    stop_codon=[\"atg\",\"tga\",\"tgc\"]\n",
    "    for i in range(frame,len(dna),3):\n",
    "        codon=dna[i:i+3]\n",
    "        if codon in stop_codon:\n",
    "             found_stop_codon=True\n",
    "             break\n",
    "             return found_stop_codon\n",
    "        \n",
    "         "
   ]
  },
  {
   "cell_type": "code",
   "execution_count": 64,
   "id": "f9e9e598-fff7-4717-81d5-f16e35049f4c",
   "metadata": {},
   "outputs": [],
   "source": [
    "dna=\"aattgggccggtagtcgatcgctacgtgaaatcgatgc\"\n",
    "has_stop_codon(dna)\n",
    "has_stop_codon(dna,1)"
   ]
  },
  {
   "cell_type": "code",
   "execution_count": 65,
   "id": "980809fc-07e2-4507-a33e-57b1dd5bca6a",
   "metadata": {},
   "outputs": [],
   "source": [
    "seq=\"ggattatcgcgtaggcgctagcg\"\n",
    "has_stop_codon(seq,1)"
   ]
  },
  {
   "cell_type": "code",
   "execution_count": 68,
   "id": "c3f41733-e85f-4ea6-97fc-57173db7ae6d",
   "metadata": {},
   "outputs": [],
   "source": [
    "has_stop_codon(seq,frame=2)\n",
    "has_stop_codon(frame=0,dna=seq)# the order of auguments no longer reqired"
   ]
  },
  {
   "cell_type": "code",
   "execution_count": 63,
   "id": "97aef4d3-0d5d-4f65-b701-3ab5b33c9aba",
   "metadata": {},
   "outputs": [],
   "source": [
    "def has_stop_codon(dna,frame=0):\n",
    "    \"\"\"this function will hwlp to find stop codon in sequence\"\"\"\n",
    "    found_stop_codon=False\n",
    "    stop_codon=[\"atg\",\"tga\",\"tgc\"]\n",
    "    for i in range(frame,len(dna),3):\n",
    "        codon=dna[i:i+3]\n",
    "        if codon in stop_codon:\n",
    "             found_stop_codon=True\n",
    "             break\n",
    "             return found_stop_codon\n",
    "        \n",
    "         "
   ]
  },
  {
   "cell_type": "code",
   "execution_count": null,
   "id": "a2102fc5-417e-4f58-8cd4-479d1b4f708c",
   "metadata": {},
   "outputs": [],
   "source": []
  }
 ],
 "metadata": {
  "kernelspec": {
   "display_name": "Python 3 (ipykernel)",
   "language": "python",
   "name": "python3"
  },
  "language_info": {
   "codemirror_mode": {
    "name": "ipython",
    "version": 3
   },
   "file_extension": ".py",
   "mimetype": "text/x-python",
   "name": "python",
   "nbconvert_exporter": "python",
   "pygments_lexer": "ipython3",
   "version": "3.12.4"
  }
 },
 "nbformat": 4,
 "nbformat_minor": 5
}

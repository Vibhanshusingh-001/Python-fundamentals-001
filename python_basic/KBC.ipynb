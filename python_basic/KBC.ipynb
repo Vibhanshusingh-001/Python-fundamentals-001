{
 "cells": [
  {
   "cell_type": "code",
   "execution_count": 7,
   "id": "4a5deb82-4ca0-4adc-95e0-8b40ef78bc17",
   "metadata": {},
   "outputs": [
    {
     "name": "stdout",
     "output_type": "stream",
     "text": [
      "\n",
      "\n",
      " question for rupees  :1000\n",
      "who is the king of forest\n",
      "a.lion               b.tiger\n",
      "c.dog               d.cat\n"
     ]
    },
    {
     "name": "stdin",
     "output_type": "stream",
     "text": [
      "enter your answer between 1-4 or 0 to quit\n",
      " 1\n"
     ]
    },
    {
     "name": "stdout",
     "output_type": "stream",
     "text": [
      "correct answer you won1000 \n",
      "\n",
      "\n",
      " question for rupees  :2000\n",
      "who is the king of forest\n",
      "a.lion               b.tiger\n",
      "c.dog               d.cat\n"
     ]
    },
    {
     "name": "stdin",
     "output_type": "stream",
     "text": [
      "enter your answer between 1-4 or 0 to quit\n",
      " 1\n"
     ]
    },
    {
     "name": "stdout",
     "output_type": "stream",
     "text": [
      "correct answer you won2000 \n",
      "\n",
      "\n",
      " question for rupees  :6000\n",
      "who is the king of forest\n",
      "a.lion               b.tiger\n",
      "c.dog               d.cat\n"
     ]
    },
    {
     "name": "stdin",
     "output_type": "stream",
     "text": [
      "enter your answer between 1-4 or 0 to quit\n",
      " 1\n"
     ]
    },
    {
     "name": "stdout",
     "output_type": "stream",
     "text": [
      "correct answer you won6000 \n",
      "\n",
      "\n",
      " question for rupees  :10000\n",
      "who is the king of forest\n",
      "a.lion               b.tiger\n",
      "c.dog               d.cat\n"
     ]
    },
    {
     "name": "stdin",
     "output_type": "stream",
     "text": [
      "enter your answer between 1-4 or 0 to quit\n",
      " 9\n"
     ]
    },
    {
     "name": "stdout",
     "output_type": "stream",
     "text": [
      "wrong answer\n",
      "your money take home is 0\n"
     ]
    }
   ],
   "source": [
    "questions=[[\"who is the king of forest\",\"lion\",\"tiger\",\"dog\",\"cat\",1],[\"who is the king of forest\",\"lion\",\"tiger\",\"dog\",\"cat\",1],\n",
    "           [\"who is the king of forest\",\"lion\",\"tiger\",\"dog\",\"cat\",1],[\"who is the king of forest\",\"lion\",\"tiger\",\"dog\",\"cat\",1]\n",
    "           ,[\"who is the king of forest\",\"lion\",\"tiger\",\"dog\",\"cat\",1],[\"who is the king of forest\",\"lion\",\"tiger\",\"dog\",\"cat\",1],\n",
    "           [\"who is the king of forest\",\"lion\",\"tiger\",\"dog\",\"cat\",1],[\"who is the king of forest\",\"lion\",\"tiger\",\"dog\",\"cat\",1],\n",
    "           [\"who is the king of forest\",\"lion\",\"tiger\",\"dog\",\"cat\",1]]\n",
    "levels=[1000,2000,6000,10000,50000,80000]\n",
    "money=0\n",
    "for i in range (0,len(questions)):\n",
    "    question=questions[i]\n",
    "    print(f\"\\n\\n question for rupees  :{levels[i]}\")\n",
    "    print(f\"{question[0]}\")\n",
    "    print(f\"a.{question [1]}               b.{question [2]}\")\n",
    "    print(f\"c.{question [3]}               d.{question [4 ]}\")\n",
    "    reply=int (input(\"enter your answer between 1-4 or 0 to quit\\n\"))\n",
    "    if reply==0:\n",
    "        money=levels[i-1]\n",
    "        break\n",
    "    if reply==question[-1]:\n",
    "        print(f\"correct answer you won{levels[i]} \")\n",
    "        if i==4:\n",
    "            money=50000\n",
    "        elif i==5:\n",
    "            money=80000\n",
    "    else:\n",
    "            print(\"wrong answer\")\n",
    "            break\n",
    "print(f\"your money take home is {money}\")\n"
   ]
  },
  {
   "cell_type": "code",
   "execution_count": 15,
   "id": "d5abcecb-77c8-4b16-8856-f1d6a7232880",
   "metadata": {},
   "outputs": [
    {
     "name": "stdout",
     "output_type": "stream",
     "text": [
      "\n",
      "\n",
      "Question for ₹1000:\n",
      "Who is the king of the forest?\n",
      "a. Lion     b. Tiger\n",
      "c. Dog     d. Cat\n"
     ]
    },
    {
     "name": "stdin",
     "output_type": "stream",
     "text": [
      "Enter your answer (1-4) or 0 to quit:  1\n"
     ]
    },
    {
     "name": "stdout",
     "output_type": "stream",
     "text": [
      "Correct answer! You won ₹1000.\n",
      "\n",
      "\n",
      "Question for ₹2000:\n",
      "What is the capital of France?\n",
      "a. Berlin     b. Madrid\n",
      "c. Paris     d. Rome\n"
     ]
    },
    {
     "name": "stdin",
     "output_type": "stream",
     "text": [
      "Enter your answer (1-4) or 0 to quit:  3\n"
     ]
    },
    {
     "name": "stdout",
     "output_type": "stream",
     "text": [
      "Correct answer! You won ₹2000.\n",
      "\n",
      "\n",
      "Question for ₹6000:\n",
      "Which planet is known as the Red Planet?\n",
      "a. Earth     b. Mars\n",
      "c. Jupiter     d. Saturn\n"
     ]
    },
    {
     "name": "stdin",
     "output_type": "stream",
     "text": [
      "Enter your answer (1-4) or 0 to quit:  2\n"
     ]
    },
    {
     "name": "stdout",
     "output_type": "stream",
     "text": [
      "Correct answer! You won ₹6000.\n",
      "\n",
      "\n",
      "Question for ₹10000:\n",
      "What is the largest mammal?\n",
      "a. Elephant     b. Whale\n",
      "c. Shark     d. Giraffe\n"
     ]
    },
    {
     "name": "stdin",
     "output_type": "stream",
     "text": [
      "Enter your answer (1-4) or 0 to quit:  4\n"
     ]
    },
    {
     "name": "stdout",
     "output_type": "stream",
     "text": [
      "Wrong answer! Game over.\n",
      "\n",
      "Your total winnings: ₹6000.\n"
     ]
    }
   ],
   "source": [
    "questions = [\n",
    "    [\"Who is the king of the forest?\", \"Lion\", \"Tiger\", \"Dog\", \"Cat\", 1],\n",
    "    [\"What is the capital of France?\", \"Berlin\", \"Madrid\", \"Paris\", \"Rome\", 3],\n",
    "    [\"Which planet is known as the Red Planet?\", \"Earth\", \"Mars\", \"Jupiter\", \"Saturn\", 2],\n",
    "    [\"What is the largest mammal?\", \"Elephant\", \"Whale\", \"Shark\", \"Giraffe\", 2],\n",
    "    [\"Which language is used for web development?\", \"Python\", \"JavaScript\", \"C++\", \"Ruby\", 2],\n",
    "    [\"What is the boiling point of water?\", \"90°C\", \"100°C\", \"110°C\", \"120°C\", 2],\n",
    "]\n",
    "\n",
    "levels = [1000, 2000, 6000, 10000, 50000, 80000]\n",
    "money = 0\n",
    "\n",
    "for i in range(len(questions)):\n",
    "    question = questions[i]\n",
    "    print(f\"\\n\\nQuestion for ₹{levels[i]}:\")\n",
    "    print(f\"{question[0]}\")\n",
    "    print(f\"a. {question[1]}     b. {question[2]}\")\n",
    "    print(f\"c. {question[3]}     d. {question[4]}\")\n",
    "\n",
    "    try:\n",
    "        reply = int(input(\"Enter your answer (1-4) or 0 to quit: \"))\n",
    "        if reply == 0:\n",
    "            money = levels[i-1] if i > 0 else 0\n",
    "            break\n",
    "        if reply == question[-1]:\n",
    "            print(f\"Correct answer! You won ₹{levels[i]}.\")\n",
    "            money = levels[i]\n",
    "        else:\n",
    "            print(\"Wrong answer! Game over.\")\n",
    "            money = levels[i-1] if i > 0 else 0\n",
    "            break\n",
    "    except ValueError:\n",
    "        print(\"Invalid input! Please enter a number between 0 and 4.\")\n",
    "        break\n",
    "\n",
    "print(f\"\\nYour total winnings: ₹{money}.\")\n"
   ]
  },
  {
   "cell_type": "code",
   "execution_count": null,
   "id": "c1765409-9083-4b9a-a440-1239e759b96d",
   "metadata": {},
   "outputs": [],
   "source": []
  }
 ],
 "metadata": {
  "kernelspec": {
   "display_name": "Python 3 (ipykernel)",
   "language": "python",
   "name": "python3"
  },
  "language_info": {
   "codemirror_mode": {
    "name": "ipython",
    "version": 3
   },
   "file_extension": ".py",
   "mimetype": "text/x-python",
   "name": "python",
   "nbconvert_exporter": "python",
   "pygments_lexer": "ipython3",
   "version": "3.12.4"
  }
 },
 "nbformat": 4,
 "nbformat_minor": 5
}

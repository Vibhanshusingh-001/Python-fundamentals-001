{
 "cells": [
  {
   "cell_type": "code",
   "execution_count": 5,
   "id": "08a1e153-1b27-4154-8933-85aa876e4adb",
   "metadata": {},
   "outputs": [
    {
     "name": "stdin",
     "output_type": "stream",
     "text": [
      "enter dna sequence aaatttcccgggaaan\n"
     ]
    },
    {
     "name": "stdout",
     "output_type": "stream",
     "text": [
      "dna sequence has 1 undefined bases\n"
     ]
    }
   ],
   "source": [
    "dna=input('enter dna sequence')\n",
    "if 'n' in dna:\n",
    "    nbases=dna.count(\"n\")\n",
    "    print(\"dna sequence has %d undefined bases\" % nbases)\n",
    "else:\n",
    "    print(\"dna sequence has no undefined bases\")\n",
    "    "
   ]
  },
  {
   "cell_type": "code",
   "execution_count": 2,
   "id": "dbb951e3-9a90-4f14-921d-78eed26d007f",
   "metadata": {},
   "outputs": [
    {
     "data": {
      "text/plain": [
       "False"
      ]
     },
     "execution_count": 2,
     "metadata": {},
     "output_type": "execute_result"
    }
   ],
   "source": [
    "motif='ggttccaa'\n",
    "dna='aataaggccaa'\n",
    "motif in dna"
   ]
  },
  {
   "cell_type": "code",
   "execution_count": 3,
   "id": "84d0fa2e-ca7b-4b03-8026-3f6c41a858d6",
   "metadata": {},
   "outputs": [
    {
     "data": {
      "text/plain": [
       "True"
      ]
     },
     "execution_count": 3,
     "metadata": {},
     "output_type": "execute_result"
    }
   ],
   "source": [
    "alphabet=['a','c','g','t']\n",
    "newalphabet=alphabet[:]\n",
    "alphabet==newalphabet"
   ]
  },
  {
   "cell_type": "code",
   "execution_count": 4,
   "id": "6aea29a6-3e01-4a95-9922-f3c67f5b8327",
   "metadata": {},
   "outputs": [
    {
     "data": {
      "text/plain": [
       "False"
      ]
     },
     "execution_count": 4,
     "metadata": {},
     "output_type": "execute_result"
    }
   ],
   "source": [
    "alphabet is newalphabet"
   ]
  },
  {
   "cell_type": "code",
   "execution_count": 6,
   "id": "f1e2fe63-37f4-42ea-9360-8f641a70eb04",
   "metadata": {},
   "outputs": [
    {
     "name": "stdin",
     "output_type": "stream",
     "text": [
      "enter the dna sequence aaatccggaagccaa\n"
     ]
    },
    {
     "name": "stdout",
     "output_type": "stream",
     "text": [
      "dna do not have undefined bases\n"
     ]
    }
   ],
   "source": [
    "dna=input(\"enter the dna sequence\")\n",
    "if \"n\" in dna:\n",
    "    print(\"dna have undefined bases\")\n",
    "elif \"N\" in dna:\n",
    "    print(\"dna have undefined bases\")\n",
    "else:\n",
    "    print(\"dna do not have undefined bases\")\n",
    "    "
   ]
  },
  {
   "cell_type": "code",
   "execution_count": 8,
   "id": "4fd177db-c299-4023-acc4-f2bca9871a91",
   "metadata": {},
   "outputs": [
    {
     "name": "stdin",
     "output_type": "stream",
     "text": [
      "enter the dna sequence aaatttccgggaan\n"
     ]
    },
    {
     "name": "stdout",
     "output_type": "stream",
     "text": [
      "the number of  1 undefined bases\n"
     ]
    }
   ],
   "source": [
    "dna= input(\"enter the dna sequence\")\n",
    "if \"n\" in dna or 'N' in dna :\n",
    "    nbases=dna.count(\"n\")+dna.count('N')\n",
    "    print(\"the number of  %d undefined bases\"% nbases)\n",
    "else:\n",
    "     print(\"thre is no undefined bases\")\n",
    "    "
   ]
  },
  {
   "cell_type": "code",
   "execution_count": 11,
   "id": "270df52f-847d-4130-aa90-ade6121e47df",
   "metadata": {},
   "outputs": [
    {
     "name": "stdin",
     "output_type": "stream",
     "text": [
      "enter the dna sequence gfbdfbgf\n"
     ]
    }
   ],
   "source": [
    "# WHILE LOOP \n",
    "dna=input(\"enter the dna sequence\")\n",
    "#The find method searches for the substring \"gt\" starting from index 0\n",
    "pos=dna.find(\"gt\",0)# position of donor splice site\n",
    "while pos>-1:#The while loop continues as long as pos is not -1. Inside the loop\n",
    "    print(\"donor splice site candidate at position %d \" %pos)\n",
    "    pos=dna.find('gt',pos+1)"
   ]
  },
  {
   "cell_type": "code",
   "execution_count": 12,
   "id": "93258415-5bf1-47c7-a8cd-a2e233e00dd0",
   "metadata": {},
   "outputs": [
    {
     "name": "stdout",
     "output_type": "stream",
     "text": [
      "aatttcccgggacc 14\n",
      "taacccgggttgggccaaagtcgatgcatgca 32\n",
      "aatggcccgtagagttc 17\n"
     ]
    }
   ],
   "source": [
    "motifs=[\"aatttcccgggacc\",\"taacccgggttgggccaaagtcgatgcatgca\",\"aatggcccgtagagttc\"]\n",
    "for m in motifs:\n",
    "    print(m,len(m))"
   ]
  },
  {
   "cell_type": "code",
   "execution_count": 13,
   "id": "da0887f1-e9ba-4686-9252-6abf5f08f5e1",
   "metadata": {},
   "outputs": [
    {
     "name": "stdout",
     "output_type": "stream",
     "text": [
      "0\n",
      "1\n",
      "2\n",
      "3\n",
      "4\n",
      "5\n",
      "6\n",
      "7\n",
      "8\n",
      "9\n"
     ]
    }
   ],
   "source": [
    "for i in range(10):\n",
    "    print(i)\n",
    "    "
   ]
  },
  {
   "cell_type": "code",
   "execution_count": 14,
   "id": "21a19ae1-d513-4143-baca-e2353ded543d",
   "metadata": {},
   "outputs": [
    {
     "name": "stdout",
     "output_type": "stream",
     "text": [
      "1\n",
      "6\n"
     ]
    }
   ],
   "source": [
    "for i in range(1,10,5):\n",
    "    print(i)"
   ]
  },
  {
   "cell_type": "code",
   "execution_count": 22,
   "id": "577c678c-4e7f-4903-b702-9e2910fdbad1",
   "metadata": {},
   "outputs": [],
   "source": [
    "protein = \"KNGIHENVIJDFNVIDFNVIDFSCVJNSDIVNDFSIUVNVEIDF\"\n",
    "for i, amino_acid in enumerate(protein):\n",
    "    if amino_acid not in \"ABCDEFGHIJKLMNOPQRSTUVWXYZ\":\n",
    "        print(f\"Protein contains invalid amino acid '{amino_acid}' at position {i}\")\n"
   ]
  },
  {
   "cell_type": "code",
   "execution_count": null,
   "id": "cafdc9bb-bc6f-4656-a3f0-c411c77abb0f",
   "metadata": {},
   "outputs": [],
   "source": [
    "protein = \"KNGIHENVIJDFNVIDFNVIDFSCVJNSDIVNDFSIUVNVEIDF\"\n",
    "for i in range(len(protein)):\n",
    "    if protein[i] not in \"ABCDEFGHIJKLMNOPQRSTUVWXYZ\":\n",
    "        print(\"Protein contains invalid amino acid '%s' at position %d\" % (protein[i], i))\n"
   ]
  },
  {
   "cell_type": "code",
   "execution_count": 23,
   "id": "e5c69f74-e4bd-4761-92bc-67e078e1b724",
   "metadata": {},
   "outputs": [],
   "source": [
    "protein = \"KNGIHENVIJDFNVIDFNVIDFSCVJNSDIVNDFSIUVNVEIDF\"\n",
    "for i in range(len(protein)):\n",
    "    if protein[i] not in \"ABCDEFGHIJKLMNOPQRSTUVWXYZ\":\n",
    "        print(\"this is not a valid protein sequence\")\n",
    "        break\n"
   ]
  },
  {
   "cell_type": "code",
   "execution_count": 24,
   "id": "6c57112b-8bc7-4853-a706-8d3b69992f98",
   "metadata": {},
   "outputs": [],
   "source": [
    "protein = \"KNGIHENVIJDFNVIDFNVIDFSCVJNSDIVNDFSIUVNVEIDF\"\n",
    "corrected_protein=''\n",
    "for i in range(len(protein)):\n",
    "    if protein[i] not in \"ABCDEFGHIJKLMNOPQRSTUVWXYZ\":\n",
    "        print(\"this is not a valid protein sequence\")\n",
    "        continue\n",
    "    corrected_protein=corrected_protein+protein[i]    "
   ]
  },
  {
   "cell_type": "code",
   "execution_count": null,
   "id": "9b719d95-f0b1-400b-8841-9cfb1d9ff7a7",
   "metadata": {},
   "outputs": [],
   "source": [
    "print('corrected protein sequence is : %s'% corrected_protein)"
   ]
  }
 ],
 "metadata": {
  "kernelspec": {
   "display_name": "Python 3 (ipykernel)",
   "language": "python",
   "name": "python3"
  },
  "language_info": {
   "codemirror_mode": {
    "name": "ipython",
    "version": 3
   },
   "file_extension": ".py",
   "mimetype": "text/x-python",
   "name": "python",
   "nbconvert_exporter": "python",
   "pygments_lexer": "ipython3",
   "version": "3.12.4"
  }
 },
 "nbformat": 4,
 "nbformat_minor": 5
}

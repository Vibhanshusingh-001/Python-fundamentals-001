{
 "cells": [
  {
   "cell_type": "code",
   "execution_count": 20,
   "id": "6bec88b9-4332-44fe-ab95-1c5d8d128fc8",
   "metadata": {},
   "outputs": [
    {
     "name": "stdout",
     "output_type": "stream",
     "text": [
      "12\n",
      "56\n",
      "32\n",
      "98\n",
      "u got excellent marks\n",
      "12\n",
      "45\n",
      "1\n",
      "4\n"
     ]
    }
   ],
   "source": [
    "marks = [12, 56, 32, 98, 12,  45, 1, 4]\n",
    "\n",
    "index=0\n",
    "for mark in marks:\n",
    "  print(mark)\n",
    "  if index==3:\n",
    "    print(\"u got excellent marks\")\n",
    "  index+=1\n",
    "\n",
    "\n",
    "# for index, mark in enumerate(marks, start=1):\n",
    "#   print(mark)\n",
    "#   if(index == 3):\n",
    "#     print(\"Harry, awesome!\")\n",
    "# loop over sequence\n",
    "# give index and key value of each element  at same time"
   ]
  },
  {
   "cell_type": "code",
   "execution_count": 28,
   "id": "f5eee8a0-702e-40f7-a7bd-86b28bca17ca",
   "metadata": {},
   "outputs": [
    {
     "name": "stdout",
     "output_type": "stream",
     "text": [
      "15\n",
      "16\n",
      "hello vibhu\n",
      "17\n",
      "18\n",
      "19\n",
      "20\n"
     ]
    }
   ],
   "source": [
    "marks=[15,16,17,18,19,20]\n",
    "for index, mark in enumerate(marks,start=1):\n",
    "    print(mark)\n",
    "    if(index==2):\n",
    "        print(\"hello vibhu\")\n",
    "    \n"
   ]
  },
  {
   "cell_type": "code",
   "execution_count": 26,
   "id": "1e11fee2-3179-43d8-a5e4-7fd9e22d4203",
   "metadata": {},
   "outputs": [
    {
     "name": "stdout",
     "output_type": "stream",
     "text": [
      "15\n",
      "16\n",
      "17\n",
      "good ra\n",
      "18\n",
      "19\n",
      "20\n"
     ]
    }
   ],
   "source": [
    "marks=[15,16,17,18,19,20]\n",
    "index=0\n",
    "for mark in marks:\n",
    "    print(mark)\n",
    "    if(index==2):\n",
    "        print(\"good ra\")\n",
    "    index+=1    "
   ]
  }
 ],
 "metadata": {
  "kernelspec": {
   "display_name": "Python 3 (ipykernel)",
   "language": "python",
   "name": "python3"
  },
  "language_info": {
   "codemirror_mode": {
    "name": "ipython",
    "version": 3
   },
   "file_extension": ".py",
   "mimetype": "text/x-python",
   "name": "python",
   "nbconvert_exporter": "python",
   "pygments_lexer": "ipython3",
   "version": "3.12.4"
  }
 },
 "nbformat": 4,
 "nbformat_minor": 5
}

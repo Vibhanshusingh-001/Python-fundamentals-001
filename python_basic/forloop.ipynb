{
 "cells": [
  {
   "cell_type": "code",
   "execution_count": 2,
   "id": "2d67a61b-1ab1-4369-8559-5c9655f0fd3c",
   "metadata": {},
   "outputs": [
    {
     "name": "stdout",
     "output_type": "stream",
     "text": [
      "green\n",
      "pink\n",
      "y\n",
      "yellow is good colour\n",
      "red\n"
     ]
    }
   ],
   "source": [
    "colours={\"green\",\"y\",\"red\",\"pink\"}# {} this is set in python Unordered: The elements do not have a specific order.\n",
    "                                  # Unique: Duplicates are automatically removed\n",
    "for colour in colours:\n",
    "    print(colour)\n",
    "    if(colour==\"y\"):\n",
    "        print(\"yellow is good colour\")"
   ]
  },
  {
   "cell_type": "code",
   "execution_count": 5,
   "id": "d0571123-b27a-49e6-9543-b361fda31a60",
   "metadata": {},
   "outputs": [
    {
     "name": "stdout",
     "output_type": "stream",
     "text": [
      "pink\n",
      "pink is beutiful colour\n",
      "yellow\n",
      "lavender\n",
      "red\n"
     ]
    }
   ],
   "source": [
    "colours={\"red\",\"pink\",\"yellow\",\"lavender\"}\n",
    "for colour in colours:\n",
    "    print(colour)\n",
    "    if (colour==\"pink\"):\n",
    "        print(\"pink is beutiful colour\")"
   ]
  },
  {
   "cell_type": "raw",
   "id": "a18dc71f-d650-49fc-8d1e-52477423711b",
   "metadata": {},
   "source": [
    "for variable in iterable:\n",
    "    # Code to execute for each element\n",
    "variable: A temporary variable that takes the value of each element in the iterable one at a time.\n",
    "iterable: A collection or sequence you want to iterate over (e.g., list, tuple, set, range, etc.)."
   ]
  },
  {
   "cell_type": "code",
   "execution_count": 7,
   "id": "18368f84-658e-4b07-8c53-8603a672dc17",
   "metadata": {},
   "outputs": [
    {
     "name": "stdout",
     "output_type": "stream",
     "text": [
      "0\n",
      "1\n",
      "2\n",
      "3\n",
      "4\n",
      "5\n",
      "6\n",
      "7\n",
      "8\n",
      "9\n"
     ]
    }
   ],
   "source": [
    "for i in range(10):\n",
    "    print(i)"
   ]
  },
  {
   "cell_type": "code",
   "execution_count": 11,
   "id": "81d3e9ff-3a10-44fd-a892-416cca1ccba4",
   "metadata": {},
   "outputs": [
    {
     "name": "stdout",
     "output_type": "stream",
     "text": [
      "h\n",
      "e\n",
      "l\n",
      "l\n",
      "o\n"
     ]
    }
   ],
   "source": [
    "for char in \"hello\":\n",
    "    print(char)\n",
    "\n",
    "    "
   ]
  },
  {
   "cell_type": "code",
   "execution_count": 16,
   "id": "f50ffcd3-f49a-467d-85e5-7222c39f0d8f",
   "metadata": {},
   "outputs": [
    {
     "name": "stdout",
     "output_type": "stream",
     "text": [
      "name: Alice\n",
      "age: 21\n",
      "grade: A\n"
     ]
    }
   ],
   "source": [
    "student = {\"name\": \"Alice\", \"age\": 21, \"grade\": \"A\"}\n",
    "for key, value in student.items():\n",
    "    print(f\"{key}: {value}\")\n"
   ]
  },
  {
   "cell_type": "code",
   "execution_count": 17,
   "id": "f5da7199-4acc-4c16-b805-8ae3519cf0e8",
   "metadata": {},
   "outputs": [
    {
     "name": "stdout",
     "output_type": "stream",
     "text": [
      "name:vibhu\n",
      "age:25\n",
      "grade:z\n"
     ]
    }
   ],
   "source": [
    "student={\"name\":\"vibhu\",\"age\":25,\"grade\":\"z\"}\n",
    "for key, value in student.items():\n",
    "    print(f\"{key}:{value}\")"
   ]
  },
  {
   "cell_type": "code",
   "execution_count": 15,
   "id": "0894f946-a926-40ed-a3a8-7d3fb93955f1",
   "metadata": {},
   "outputs": [
    {
     "name": "stdout",
     "output_type": "stream",
     "text": [
      "1 is odd\n",
      "2 is even\n",
      "3 is odd\n",
      "4 is even\n",
      "5 is odd\n"
     ]
    }
   ],
   "source": [
    "numbers = [1, 2, 3, 4, 5]\n",
    "for number in numbers:\n",
    "    if number % 2 == 0:\n",
    "        print(f\"{number} is even\")\n",
    "    else:\n",
    "        print(f\"{number} is odd\")\n"
   ]
  },
  {
   "cell_type": "code",
   "execution_count": 20,
   "id": "c70fbc8f-1d98-4bb8-a0bd-e48ccc1fa67f",
   "metadata": {},
   "outputs": [
    {
     "name": "stdout",
     "output_type": "stream",
     "text": [
      "the 1 is odd \n",
      "the 8 is even\n",
      "the 7 is odd \n",
      "the 5 is odd \n",
      "the 9 is odd \n",
      "the 4 is even\n"
     ]
    }
   ],
   "source": [
    "numbers=[1,8,7,5,9,4]\n",
    "for number in numbers:\n",
    "    if number %2 ==0:# Check if the number is divisible by 2 (even)\n",
    "        print(f\"the {number} is even\")\n",
    "    else:\n",
    "        print(f\"the {number} is odd \")"
   ]
  },
  {
   "cell_type": "code",
   "execution_count": 21,
   "id": "753ab849-ebad-429d-8194-b38eca6e0c02",
   "metadata": {},
   "outputs": [
    {
     "name": "stdout",
     "output_type": "stream",
     "text": [
      "i = 0, j = 0\n",
      "i = 0, j = 1\n",
      "i = 1, j = 0\n",
      "i = 1, j = 1\n",
      "i = 2, j = 0\n",
      "i = 2, j = 1\n"
     ]
    }
   ],
   "source": [
    "for i in range(3):\n",
    "    for j in range(2):\n",
    "        print(f\"i = {i}, j = {j}\")\n"
   ]
  },
  {
   "cell_type": "code",
   "execution_count": 23,
   "id": "b1395008-4c51-4ae3-896d-e55dc755aaa3",
   "metadata": {},
   "outputs": [
    {
     "name": "stdout",
     "output_type": "stream",
     "text": [
      "i=0,j=0\n",
      "i=0,j=1\n",
      "i=0,j=2\n",
      "i=0,j=3\n",
      "i=1,j=0\n",
      "i=1,j=1\n",
      "i=1,j=2\n",
      "i=1,j=3\n",
      "i=2,j=0\n",
      "i=2,j=1\n",
      "i=2,j=2\n",
      "i=2,j=3\n"
     ]
    }
   ],
   "source": [
    "for i in range(3):            # Outer loop iterates over range(3)\n",
    "    for j in range(4):        # Inner loop iterates over range(4)\n",
    "        print(f\"i={i},j={j}\")  # Prints the values of i and j\n",
    "\n"
   ]
  },
  {
   "cell_type": "code",
   "execution_count": null,
   "id": "9cd80f2a-e32c-4a84-a26b-d4b22ae8bd0a",
   "metadata": {},
   "outputs": [],
   "source": []
  }
 ],
 "metadata": {
  "kernelspec": {
   "display_name": "Python 3 (ipykernel)",
   "language": "python",
   "name": "python3"
  },
  "language_info": {
   "codemirror_mode": {
    "name": "ipython",
    "version": 3
   },
   "file_extension": ".py",
   "mimetype": "text/x-python",
   "name": "python",
   "nbconvert_exporter": "python",
   "pygments_lexer": "ipython3",
   "version": "3.12.4"
  }
 },
 "nbformat": 4,
 "nbformat_minor": 5
}

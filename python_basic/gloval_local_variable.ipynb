{
 "cells": [
  {
   "cell_type": "code",
   "execution_count": 2,
   "id": "963778fd-8164-414b-bcf7-bb126abe27e6",
   "metadata": {},
   "outputs": [
    {
     "name": "stdout",
     "output_type": "stream",
     "text": [
      "45\n",
      "45\n"
     ]
    }
   ],
   "source": [
    "gvar=45\n",
    "def examplefunction():\n",
    "    lvar=35\n",
    "    print(gvar)\n",
    "    #print(lvar)\n",
    "print(gvar)\n",
    "examplefunction()\n"
   ]
  },
  {
   "cell_type": "code",
   "execution_count": 10,
   "id": "b9d8950a-7e27-42ba-9e7f-fbecd35a4c21",
   "metadata": {},
   "outputs": [
    {
     "name": "stdout",
     "output_type": "stream",
     "text": [
      "65\n",
      "65\n",
      "85\n"
     ]
    }
   ],
   "source": [
    "gvar=65\n",
    "def examplefunc1():\n",
    "    lvar=85\n",
    "    print(gvar)\n",
    "    print(lvar)\n",
    "\n",
    "print(gvar)\n",
    "examplefunc1()\n",
    "\n",
    "    "
   ]
  },
  {
   "cell_type": "code",
   "execution_count": null,
   "id": "5232b115-eba8-4e0b-9b57-8a70ac77fab4",
   "metadata": {},
   "outputs": [],
   "source": []
  }
 ],
 "metadata": {
  "kernelspec": {
   "display_name": "Python 3 (ipykernel)",
   "language": "python",
   "name": "python3"
  },
  "language_info": {
   "codemirror_mode": {
    "name": "ipython",
    "version": 3
   },
   "file_extension": ".py",
   "mimetype": "text/x-python",
   "name": "python",
   "nbconvert_exporter": "python",
   "pygments_lexer": "ipython3",
   "version": "3.12.4"
  }
 },
 "nbformat": 4,
 "nbformat_minor": 5
}

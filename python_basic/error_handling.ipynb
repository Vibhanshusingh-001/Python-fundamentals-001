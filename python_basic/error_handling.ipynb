{
 "cells": [
  {
   "cell_type": "code",
   "execution_count": 13,
   "id": "c6eb4b79-608c-48e8-a568-dac95e0af253",
   "metadata": {},
   "outputs": [
    {
     "name": "stdin",
     "output_type": "stream",
     "text": [
      "entr your entry 5\n"
     ]
    },
    {
     "name": "stdout",
     "output_type": "stream",
     "text": [
      "5x1=5\n",
      "5x2=10\n",
      "5x3=15\n",
      "5x4=20\n",
      "5x5=25\n",
      "5x6=30\n",
      "5x7=35\n",
      "5x8=40\n",
      "5x9=45\n",
      "5x10=50\n",
      "5x11=55\n",
      "5x12=60\n",
      "5x13=65\n",
      "5x14=70\n"
     ]
    }
   ],
   "source": [
    "\n",
    "a=input(\"entr your entry\")\n",
    "# print(f\"{a}\")\n",
    "try:\n",
    "   for i in range(1,15):\n",
    "    print(f\"{int(a)}x{i}={int(a)*i}\")\n",
    "except ValueError:\n",
    "    print(\"your entry is wrong\")\n"
   ]
  },
  {
   "cell_type": "code",
   "execution_count": 10,
   "id": "1280ba60-fff8-4652-aa43-527ba99c8760",
   "metadata": {},
   "outputs": [
    {
     "name": "stdin",
     "output_type": "stream",
     "text": [
      "make your entry 5\n"
     ]
    },
    {
     "name": "stdout",
     "output_type": "stream",
     "text": [
      "5\n",
      "5x1=5\n",
      "5x2=10\n",
      "5x3=15\n",
      "5x4=20\n",
      "5x5=25\n",
      "5x6=30\n",
      "5x7=35\n",
      "5x8=40\n",
      "5x9=45\n",
      "5x10=50\n"
     ]
    }
   ],
   "source": [
    "a=input(\"make your entry\")\n",
    "print(f\"{a}\")\n",
    "try:\n",
    "    for i in range(1,11):\n",
    "        print(f\"{(a)}x{i}={int(a)*i}\")\n",
    "except:\n",
    "        print(\"your entry is wrong\")"
   ]
  },
  {
   "cell_type": "code",
   "execution_count": 17,
   "id": "7c6523c4-15e6-46c5-aa91-41a590bd98e5",
   "metadata": {},
   "outputs": [
    {
     "name": "stdin",
     "output_type": "stream",
     "text": [
      "enter your number l\n"
     ]
    },
    {
     "name": "stdout",
     "output_type": "stream",
     "text": [
      "ur entry is wrong\n"
     ]
    }
   ],
   "source": [
    "a=input(\"enter your number\")\n",
    "try:\n",
    "    for i in range(1,10):\n",
    "        print(f\"{int(a)}x{i}={int(a)*i}\")\n",
    "    \n",
    "except:\n",
    "    print(\"ur entry is wrong\")\n",
    "      "
   ]
  },
  {
   "cell_type": "code",
   "execution_count": 20,
   "id": "11f3f3e1-49b8-4673-b4f0-d4c335f27748",
   "metadata": {},
   "outputs": [
    {
     "name": "stdin",
     "output_type": "stream",
     "text": [
      "enter your number l\n"
     ]
    },
    {
     "name": "stdout",
     "output_type": "stream",
     "text": [
      "wrong entry\n"
     ]
    }
   ],
   "source": [
    "a=input(\"enter your number\")\n",
    "try:\n",
    "    for i in range(1,11):\n",
    "        print(f\"{int(a)}x{i}={int(a)*i}\")\n",
    "except:\n",
    "    print(\"wrong entry\")"
   ]
  },
  {
   "cell_type": "code",
   "execution_count": 28,
   "id": "6cd5e3b6-565b-4b91-9e51-eb1ce3e87d9b",
   "metadata": {},
   "outputs": [
    {
     "name": "stdin",
     "output_type": "stream",
     "text": [
      "enter your number p\n"
     ]
    },
    {
     "name": "stdout",
     "output_type": "stream",
     "text": [
      "entry is wrong\n"
     ]
    }
   ],
   "source": [
    "a=input(\"enter your number\")\n",
    "try:\n",
    "    for i in range(1,15):\n",
    "        print(f\"{int(a)}x{i}={int(a)*i}\")\n",
    "except ValueError:\n",
    "    print(\"entry is wrong\")\n",
    "        \n",
    "    \n",
    "\n",
    "\n",
    "    "
   ]
  },
  {
   "cell_type": "code",
   "execution_count": 31,
   "id": "ad1b6db3-edfd-4197-a776-cc4e56864d47",
   "metadata": {},
   "outputs": [
    {
     "name": "stdin",
     "output_type": "stream",
     "text": [
      "Enter an integer:  l\n"
     ]
    },
    {
     "name": "stdout",
     "output_type": "stream",
     "text": [
      "Number entered is not an integer.\n"
     ]
    }
   ],
   "source": [
    "try:\n",
    "    num = int(input(\"Enter an integer: \"))\n",
    "    a = [6, 3,5]\n",
    "    print(a[num])\n",
    "except ValueError:# to handle value error\n",
    "    print(\"Number entered is not an integer.\")\n",
    "\n",
    "except IndexError:\n",
    "    print(\"index error\")"
   ]
  },
  {
   "cell_type": "code",
   "execution_count": 35,
   "id": "bf2cb782-1e53-4889-b84f-d8bb3616feb5",
   "metadata": {},
   "outputs": [
    {
     "name": "stdin",
     "output_type": "stream",
     "text": [
      "enter ur entry 9\n"
     ]
    },
    {
     "name": "stdout",
     "output_type": "stream",
     "text": [
      "[8, 5, 2, 4]\n"
     ]
    }
   ],
   "source": [
    "try:\n",
    "    num=int(input(\"enter ur entry\"))\n",
    "    a=[8,5,2,4]\n",
    "    print(a[num])\n",
    "except ValueError:\n",
    "    print(\"there is value error\")\n",
    "except IndexError:\n",
    "    print(\"there is index error\")"
   ]
  }
 ],
 "metadata": {
  "kernelspec": {
   "display_name": "Python 3 (ipykernel)",
   "language": "python",
   "name": "python3"
  },
  "language_info": {
   "codemirror_mode": {
    "name": "ipython",
    "version": 3
   },
   "file_extension": ".py",
   "mimetype": "text/x-python",
   "name": "python",
   "nbconvert_exporter": "python",
   "pygments_lexer": "ipython3",
   "version": "3.12.4"
  }
 },
 "nbformat": 4,
 "nbformat_minor": 5
}

{
 "cells": [
  {
   "cell_type": "code",
   "execution_count": 14,
   "id": "81b026f3-0ca5-411b-8bf8-fc0af100aeac",
   "metadata": {},
   "outputs": [
    {
     "name": "stdout",
     "output_type": "stream",
     "text": [
      "62.5\n"
     ]
    }
   ],
   "source": [
    "def myaverage(a=45,b=35):\n",
    "    sum=a+b/2\n",
    "    print(sum)\n",
    "myaverage()    "
   ]
  },
  {
   "cell_type": "code",
   "execution_count": 18,
   "id": "d7b01dfc-e891-4186-95a4-470cf4798e14",
   "metadata": {},
   "outputs": [
    {
     "name": "stdout",
     "output_type": "stream",
     "text": [
      "37.5\n"
     ]
    }
   ],
   "source": [
    "def myaverage(a=64,b=36):\n",
    "    sum=a+b/2\n",
    "    print(sum)\n",
    "myaverage(a=25,b=25)    "
   ]
  }
 ],
 "metadata": {
  "kernelspec": {
   "display_name": "Python 3 (ipykernel)",
   "language": "python",
   "name": "python3"
  },
  "language_info": {
   "codemirror_mode": {
    "name": "ipython",
    "version": 3
   },
   "file_extension": ".py",
   "mimetype": "text/x-python",
   "name": "python",
   "nbconvert_exporter": "python",
   "pygments_lexer": "ipython3",
   "version": "3.12.4"
  }
 },
 "nbformat": 4,
 "nbformat_minor": 5
}

{
 "cells": [
  {
   "cell_type": "markdown",
   "id": "5cf8cb19-2023-47eb-9aa5-fce5d8291f08",
   "metadata": {},
   "source": [
    "##Type Casting is the method to convert the Python variable datatype into a certain data type in order to perform the required operation by users\n",
    "## #Implicit type casting means conversion of data types without losing its original meaning"
   ]
  },
  {
   "cell_type": "code",
   "execution_count": 3,
   "id": "84712c11-a8e8-444b-a396-8607c234e10b",
   "metadata": {},
   "outputs": [
    {
     "name": "stdout",
     "output_type": "stream",
     "text": [
      "<class 'int'>\n",
      "<class 'float'>\n",
      "10.0\n",
      "<class 'float'>\n",
      "<class 'int'>\n",
      "4625.5854\n"
     ]
    }
   ],
   "source": [
    "#implicit typecasting Python automatically converts  a to int\n",
    "a = 7\n",
    "print(type(a))\n",
    "\n",
    "# Python automatically converts b to float\n",
    "b = 3.0\n",
    "print(type(b))\n",
    "\n",
    "# Python automatically converts c to float as it is a float addition\n",
    "c = a + b\n",
    "print(c)\n",
    "print(type(c))\n",
    "a=45\n",
    "b=4580.5854\n",
    "print(type (a))\n",
    "sum=a+b\n",
    "print(sum)"
   ]
  },
  {
   "cell_type": "code",
   "execution_count": 1,
   "id": "06abb22e-1fb0-4d12-9157-8d1e5abe861d",
   "metadata": {},
   "outputs": [
    {
     "name": "stdout",
     "output_type": "stream",
     "text": [
      "<class 'int'>\n",
      "<class 'int'>\n",
      "<class 'float'>\n",
      "<class 'float'>\n",
      "<class 'str'>\n"
     ]
    }
   ],
   "source": [
    "a=45\n",
    "b=45\n",
    "c=48.00\n",
    "d=45879.264\n",
    "e=\"jkl\"\n",
    "print(type(a))\n",
    "print(type(b))\n",
    "print(type(c))\n",
    "print(type(d))\n",
    "print(type(e))"
   ]
  },
  {
   "cell_type": "code",
   "execution_count": 2,
   "id": "b4c2325e-9ace-45c6-b17b-0a3387aaeba5",
   "metadata": {},
   "outputs": [
    {
     "name": "stdout",
     "output_type": "stream",
     "text": [
      "The Sum of both the numbers is:  22\n"
     ]
    }
   ],
   "source": [
    "#explicit typecasting\n",
    "string = \"15\"\n",
    "number = 7\n",
    "string_number = int(string) #throws an error if the string is not a valid integer\n",
    "sum= number + string_number\n",
    "print(\"The Sum of both the numbers is: \", sum)\n"
   ]
  },
  {
   "cell_type": "code",
   "execution_count": 1,
   "id": "06b4b73a-1775-4b4b-90c7-2d92f362d013",
   "metadata": {},
   "outputs": [
    {
     "name": "stdout",
     "output_type": "stream",
     "text": [
      "7566718312\n"
     ]
    }
   ],
   "source": [
    "a=\"7566718311\"\n",
    "b=1\n",
    "print(int(a)+b)"
   ]
  },
  {
   "cell_type": "raw",
   "id": "fbb52bb9-a56d-4c6c-84ed-f8ba8985ccd6",
   "metadata": {},
   "source": [
    "Implicit Type Casting\t           Explicit Type Casting\n",
    "Done automatically by Python.\t   Done manually by the programmer."
   ]
  }
 ],
 "metadata": {
  "kernelspec": {
   "display_name": "Python 3 (ipykernel)",
   "language": "python",
   "name": "python3"
  },
  "language_info": {
   "codemirror_mode": {
    "name": "ipython",
    "version": 3
   },
   "file_extension": ".py",
   "mimetype": "text/x-python",
   "name": "python",
   "nbconvert_exporter": "python",
   "pygments_lexer": "ipython3",
   "version": "3.12.4"
  }
 },
 "nbformat": 4,
 "nbformat_minor": 5
}

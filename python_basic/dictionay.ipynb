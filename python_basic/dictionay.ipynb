{
 "cells": [
  {
   "cell_type": "code",
   "execution_count": 24,
   "id": "fc199e45-4a81-4278-8619-c6433349e1c7",
   "metadata": {},
   "outputs": [
    {
     "name": "stdout",
     "output_type": "stream",
     "text": [
      "{1: 'vibhu', 2: 'singh', 3: 'gaharwar'}\n",
      "dict_keys([1, 2, 3])\n",
      "dict_values(['vibhu', 'singh', 'gaharwar'])\n",
      "dict_items([(1, 'vibhu'), (2, 'singh'), (3, 'gaharwar')])\n"
     ]
    }
   ],
   "source": [
    "dictionary={1:\"vibhu\",2:\"singh\",3:\"gaharwar\"}\n",
    "print(dictionary)\n",
    "print(dictionary.keys())\n",
    "print(dictionary.values())\n",
    "print(dictionary.items())"
   ]
  },
  {
   "cell_type": "code",
   "execution_count": 27,
   "id": "de3e5555-46ea-4a9b-91b3-fddf6381cc7f",
   "metadata": {},
   "outputs": [
    {
     "name": "stdout",
     "output_type": "stream",
     "text": [
      "{1: 'atul', 2: 'singh', 3: 'gaharwar'}\n",
      "dict_keys([1, 2, 3])\n",
      "dict_values(['atul', 'singh', 'gaharwar'])\n",
      "dict_items([(1, 'atul'), (2, 'singh'), (3, 'gaharwar')])\n"
     ]
    }
   ],
   "source": [
    "name={1:\"atul\",2:\"singh\",3:\"gaharwar\"}\n",
    "print(name)\n",
    "print(name.keys())\n",
    "print(name.values())\n",
    "print(name.items())"
   ]
  },
  {
   "cell_type": "code",
   "execution_count": 34,
   "id": "68ede06f-4245-4f5c-803f-f63adc062b44",
   "metadata": {},
   "outputs": [
    {
     "name": "stdout",
     "output_type": "stream",
     "text": [
      "the value of 1 is atul\n",
      "the value of 2 is singh\n",
      "the value of 3 is gaharwar\n"
     ]
    }
   ],
   "source": [
    "for key in name:\n",
    "    print(f\"the value of {key} is {name[key]}\")\n"
   ]
  },
  {
   "cell_type": "code",
   "execution_count": 35,
   "id": "959c878d-bd7a-4df1-b811-99a21f85128e",
   "metadata": {},
   "outputs": [
    {
     "name": "stdout",
     "output_type": "stream",
     "text": [
      "the value corresponding to 1 is atul\n",
      "the value corresponding to 2 is singh\n",
      "the value corresponding to 3 is gaharwar\n"
     ]
    }
   ],
   "source": [
    "for key ,value in name.items():\n",
    "    print(f\"the value corresponding to {key} is {value}\")\n"
   ]
  },
  {
   "cell_type": "markdown",
   "id": "546452b7-9232-4b99-a18c-3342895d7028",
   "metadata": {},
   "source": [
    "## options in dectionary"
   ]
  },
  {
   "cell_type": "code",
   "execution_count": 38,
   "id": "b46a0ba6-ddfc-4e09-b10b-2d99369e3776",
   "metadata": {},
   "outputs": [
    {
     "name": "stdout",
     "output_type": "stream",
     "text": [
      "{1: 110, 2: 111, 3: 112, 4: 113, 5: 114, 6: 115}\n",
      "{7: 116, 8: 117, 9: 118, 10: 119, 11: 120, 12: 121}\n"
     ]
    }
   ],
   "source": [
    "ep1={1:110,2:111,3:112,4:113,5:114,6:115}\n",
    "ep2={7:116,8:117,9:118,10:119,11:120,12:121}\n",
    "print(ep1)\n",
    "print(ep2)\n"
   ]
  },
  {
   "cell_type": "code",
   "execution_count": 44,
   "id": "276ca574-4e77-4d07-a33a-fe49166a270c",
   "metadata": {},
   "outputs": [
    {
     "name": "stdout",
     "output_type": "stream",
     "text": [
      "{7: 116, 8: 117, 9: 118, 10: 119, 11: 120, 12: 121}\n",
      "{1: 110, 2: 111, 3: 112, 4: 113, 5: 114, 6: 115, 7: 116, 8: 117, 9: 118, 10: 119, 11: 120, 12: 121}\n"
     ]
    }
   ],
   "source": [
    "ep1.update(ep2)# ep1 me update hoga ep2 \n",
    "print(ep2)\n",
    "print(ep1)"
   ]
  },
  {
   "cell_type": "code",
   "execution_count": 55,
   "id": "1d25e338-df8f-4919-a1a6-2ee22574764d",
   "metadata": {},
   "outputs": [
    {
     "name": "stdout",
     "output_type": "stream",
     "text": [
      "{}\n",
      "{}\n",
      "{}\n"
     ]
    }
   ],
   "source": [
    "ep1.clear() # to remove dictionary \n",
    "print(ep1)\n",
    "print(ep2)\n",
    "ep2.clear()\n",
    "print(ep2)"
   ]
  },
  {
   "cell_type": "code",
   "execution_count": 59,
   "id": "cbbe81fd-5608-429e-a73c-eb293f775ff3",
   "metadata": {},
   "outputs": [
    {
     "name": "stdout",
     "output_type": "stream",
     "text": [
      "{1: 110, 2: 111, 4: 113, 5: 114, 6: 115}\n"
     ]
    }
   ],
   "source": [
    "ep1={1:110,2:111,3:112,4:113,5:114,6:115}\n",
    "ep2={7:116,8:117,9:118,10:119,11:120,12:121}\n",
    "ep1.pop(3) # us key ko remove kar dega \n",
    "print(ep1)"
   ]
  },
  {
   "cell_type": "code",
   "execution_count": 61,
   "id": "9fba9831-b81d-4de2-9ad1-ad31984126a0",
   "metadata": {},
   "outputs": [
    {
     "name": "stdout",
     "output_type": "stream",
     "text": [
      "{1: 110, 2: 111, 4: 113}\n"
     ]
    }
   ],
   "source": [
    "ep1.popitem()# removes last key value pairs from dictionary\n",
    "print(ep1)"
   ]
  },
  {
   "cell_type": "code",
   "execution_count": null,
   "id": "28403d1d-1e20-4d01-acb3-92b5f06ec639",
   "metadata": {},
   "outputs": [],
   "source": [
    "# cmp(dict1, dict2)\n",
    "# Compares elements of both dict.\n",
    "\n",
    "# len(dict)\n",
    "# Gives the total length of the dictionary. This would be equal to the number of items in the dictionary.\n",
    "\n",
    "# str(dict)\n",
    "# Produces a printable string representation of a dictionary\n",
    "\n",
    "# type(variable)\n",
    "# Returns the type of the passed variable. If passed variable is dictionary, then it would return a dictionary type.\n"
   ]
  },
  {
   "cell_type": "code",
   "execution_count": 73,
   "id": "68b6ad87-bc81-44f0-b2be-0e7953102795",
   "metadata": {},
   "outputs": [
    {
     "data": {
      "text/plain": [
       "6"
      ]
     },
     "execution_count": 73,
     "metadata": {},
     "output_type": "execute_result"
    }
   ],
   "source": [
    "ep1={1:110,2:111,3:112,4:113,5:114,6:115}\n",
    "len(ep1)"
   ]
  },
  {
   "cell_type": "code",
   "execution_count": 76,
   "id": "32f7510b-0c52-49f5-868d-fdfa19026ab5",
   "metadata": {},
   "outputs": [
    {
     "data": {
      "text/plain": [
       "'{1: 110, 2: 111, 3: 112, 4: 113, 5: 114, 6: 115}'"
      ]
     },
     "execution_count": 76,
     "metadata": {},
     "output_type": "execute_result"
    }
   ],
   "source": [
    "ep1={1:110,2:111,3:112,4:113,5:114,6:115}\n",
    "ep2={7:116,8:117,9:118,10:119}\n",
    "str(ep1)"
   ]
  }
 ],
 "metadata": {
  "kernelspec": {
   "display_name": "Python 3 (ipykernel)",
   "language": "python",
   "name": "python3"
  },
  "language_info": {
   "codemirror_mode": {
    "name": "ipython",
    "version": 3
   },
   "file_extension": ".py",
   "mimetype": "text/x-python",
   "name": "python",
   "nbconvert_exporter": "python",
   "pygments_lexer": "ipython3",
   "version": "3.12.4"
  }
 },
 "nbformat": 4,
 "nbformat_minor": 5
}

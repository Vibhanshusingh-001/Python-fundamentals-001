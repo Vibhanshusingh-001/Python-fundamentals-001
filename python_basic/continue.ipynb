{
 "cells": [
  {
   "cell_type": "code",
   "execution_count": 1,
   "id": "e3bb0886-b01d-4aaf-84d7-699209d5a428",
   "metadata": {},
   "outputs": [
    {
     "name": "stdout",
     "output_type": "stream",
     "text": [
      "5X 0 = 0\n",
      "5X 1 = 5\n",
      "5X 2 = 10\n",
      "5X 3 = 15\n",
      "5X 4 = 20\n",
      "skip the iteration\n",
      "5X 6 = 30\n",
      "5X 7 = 35\n",
      "5X 8 = 40\n",
      "5X 9 = 45\n"
     ]
    }
   ],
   "source": [
    "for i in range(10):\n",
    "    if(i==5):\n",
    "        print(\"skip the iteration\")\n",
    "        continue\n",
    "    print(\"5X\",i,\"=\",5*i)"
   ]
  },
  {
   "cell_type": "code",
   "execution_count": 10,
   "id": "45979ee5-4edc-461d-8c89-6e408fe68ae5",
   "metadata": {},
   "outputs": [
    {
     "name": "stdout",
     "output_type": "stream",
     "text": [
      "5x 0 = 0\n",
      "5x 1 = 5\n",
      "5x 2 = 10\n",
      "5x 3 = 15\n",
      "5x 4 = 20\n",
      "skip the iteration\n",
      "5x 6 = 30\n",
      "5x 7 = 35\n",
      "5x 8 = 40\n",
      "5x 9 = 45\n",
      "5x 10 = 50\n",
      "5x 11 = 55\n",
      "5x 12 = 60\n",
      "5x 13 = 65\n",
      "5x 14 = 70\n"
     ]
    }
   ],
   "source": [
    "for i in range(15):\n",
    "    if i==5:\n",
    "        print(\"skip the iteration\")\n",
    "        continue\n",
    "    print(\"5x\",i,\"=\",5*i)"
   ]
  },
  {
   "cell_type": "code",
   "execution_count": 11,
   "id": "f0b54725-d301-4382-8b59-40bf173679ff",
   "metadata": {},
   "outputs": [
    {
     "name": "stdout",
     "output_type": "stream",
     "text": [
      "5x 0 = 0\n",
      "5x 1 = 5\n",
      "5x 2 = 10\n",
      "5x 3 = 15\n",
      "5x 4 = 20\n",
      "skip the iteration\n",
      "5x 6 = 30\n",
      "5x 7 = 35\n",
      "5x 8 = 40\n",
      "5x 9 = 45\n",
      "5x 10 = 50\n",
      "5x 11 = 55\n",
      "5x 12 = 60\n",
      "5x 13 = 65\n",
      "5x 14 = 70\n"
     ]
    }
   ],
   "source": [
    "for i in range (15):\n",
    "    if (i==5):\n",
    "        print(\"skip the iteration\")\n",
    "        continue\n",
    "    print(\"5x\",i,\"=\",5*i)    "
   ]
  },
  {
   "cell_type": "code",
   "execution_count": null,
   "id": "f5c6f3c2-96ff-4452-a15a-8eba34dec25c",
   "metadata": {},
   "outputs": [],
   "source": []
  }
 ],
 "metadata": {
  "kernelspec": {
   "display_name": "Python 3 (ipykernel)",
   "language": "python",
   "name": "python3"
  },
  "language_info": {
   "codemirror_mode": {
    "name": "ipython",
    "version": 3
   },
   "file_extension": ".py",
   "mimetype": "text/x-python",
   "name": "python",
   "nbconvert_exporter": "python",
   "pygments_lexer": "ipython3",
   "version": "3.12.4"
  }
 },
 "nbformat": 4,
 "nbformat_minor": 5
}

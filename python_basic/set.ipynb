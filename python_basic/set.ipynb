{
 "cells": [
  {
   "cell_type": "code",
   "execution_count": 1,
   "id": "9693c73f-6374-4480-8eef-a9a844440861",
   "metadata": {},
   "outputs": [
    {
     "name": "stdout",
     "output_type": "stream",
     "text": [
      "{1, 2, 3, 4, 5, 6}\n",
      "{False, True, 'himanshu', 56.23, 'vibhu', 45}\n",
      "<class 'set'>\n",
      "False\n",
      "True\n",
      "himanshu\n",
      "56.23\n",
      "vibhu\n",
      "45\n"
     ]
    }
   ],
   "source": [
    "s={1,2,3,4,5,6,}\n",
    "print(s)\n",
    "detail={\"vibhu\",45,56.23,\"himanshu\",True,False}\n",
    "print(detail)\n",
    "print(type(detail))\n",
    "\n",
    "for value in detail:\n",
    "    print(value)\n",
    "#iter,able\n",
    "#has unique elements\n",
    "#mutable\n",
    "# set is the collecion of well defind object\n",
    "# to avoid rep"
   ]
  },
  {
   "cell_type": "code",
   "execution_count": 3,
   "id": "f9db2750-3c9f-4466-b346-ad86f8d16318",
   "metadata": {},
   "outputs": [
    {
     "name": "stdout",
     "output_type": "stream",
     "text": [
      "{1, 2, 3, 4, 5, 6, 7, 8, 9}\n"
     ]
    }
   ],
   "source": [
    "s={1,2,3,4,5,6,7,8,9}\n",
    "print(s)"
   ]
  },
  {
   "cell_type": "code",
   "execution_count": 5,
   "id": "da04065e-8688-4a2a-91ca-795ab93fd194",
   "metadata": {},
   "outputs": [
    {
     "name": "stdout",
     "output_type": "stream",
     "text": [
      "yes\n"
     ]
    }
   ],
   "source": [
    "news={\"vibhu\",45.548,58,True,}\n",
    "if 58 in news:\n",
    "    print(\"yes\")\n",
    "else:\n",
    "    print(\"no\")"
   ]
  },
  {
   "cell_type": "code",
   "execution_count": 6,
   "id": "8103ff8e-2723-4324-865b-d6b8fcc85c2a",
   "metadata": {},
   "outputs": [
    {
     "name": "stdout",
     "output_type": "stream",
     "text": [
      "<class 'set'>\n"
     ]
    }
   ],
   "source": [
    "news={\"vibhu\",45.548,58,True,}\n",
    "print(type(news))"
   ]
  }
 ],
 "metadata": {
  "kernelspec": {
   "display_name": "Python 3 (ipykernel)",
   "language": "python",
   "name": "python3"
  },
  "language_info": {
   "codemirror_mode": {
    "name": "ipython",
    "version": 3
   },
   "file_extension": ".py",
   "mimetype": "text/x-python",
   "name": "python",
   "nbconvert_exporter": "python",
   "pygments_lexer": "ipython3",
   "version": "3.12.4"
  }
 },
 "nbformat": 4,
 "nbformat_minor": 5
}

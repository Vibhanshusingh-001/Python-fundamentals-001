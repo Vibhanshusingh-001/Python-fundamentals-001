{
 "cells": [
  {
   "cell_type": "code",
   "execution_count": null,
   "id": "aa0ea925-339c-4537-9fe5-9f6525c4694d",
   "metadata": {},
   "outputs": [],
   "source": [
    "# The if __name__ == \"__main__\" idiom is a common pattern used in Python scripts to determine whether\n",
    "# the script is being run directly or being imported as a module into another script.\n",
    "#\n",
    "# In Python, the __name__ variable is a built-in variable that is automatically set to the name of the current module.\n",
    "# When a Python script is run directly, the __name__ variable is set to the string __main__ When the script is imported as a module into another script, the __name__ variable is set to the name of the module.\n",
    "#\n",
    "# Here's an example of how the if __name__ == __main__ idiom can be used:\n",
    "\n",
    "def main():\n",
    "    # Code to be run when the script is run directly\n",
    "    print(\"Running script directly\")\n",
    "\n",
    "if __name__ == \"__main__\":\n",
    "    main()\n",
    "# In this example, the main function contains the code that should be run when the script is run directly.\n",
    "# The if statement at the bottom checks whether the __name__ variable is equal to __main__. If it is, the main function is called.\n",
    "#\n",
    "# Why is it useful?\n",
    "# This idiom is useful because it allows you to reuse code from a script by importing it as a\n",
    "# module into another script, without running the code in the original script. For example, consider the following script:\n",
    "\n",
    "def main():\n",
    "    print(\"Running script directly\")\n",
    "\n",
    "if __name__ == \"__main__\":\n",
    "    main()\n",
    "# If you run this script directly, it will output \"Running script directly\". However, if you import it as a module\n",
    "# into another script and call the main function from the imported module, it will not output anything:\n",
    "import script\n",
    "\n",
    "script.main()  # Output: \"Running script directly\"\n",
    "# This can be useful if you have code that you want to reuse in multiple scripts, but you only want it to run when the script is run directly and not when it's imported as a module.\n",
    "#\n",
    "# Is it a necessity?\n",
    "# It('s important to note that the if __name__ == \"__main__\" idiom is not required to run a Python script.\n",
    "# You can still run a script without it by simply calling the functions or running the code you want to execute directly.'\n",
    "#    ' However, the if __name__ == \"__main__\" idiom can be a useful tool for organizing and separating code that\n",
    "#    should be run directly from code that should be imported and used as a module.)\n",
    "#\n",
    "# In summary, the if __name__ == \"__main__\" idiom is a common pattern used in Python scripts to determine whether\n",
    "# the script is being run directly or being imported as a module into another script.\n",
    "# It allows you to reuse code from a script by importing it as a module into another script, without\n",
    "# running the code in the original script."
   ]
  }
 ],
 "metadata": {
  "kernelspec": {
   "display_name": "Python 3 (ipykernel)",
   "language": "python",
   "name": "python3"
  },
  "language_info": {
   "codemirror_mode": {
    "name": "ipython",
    "version": 3
   },
   "file_extension": ".py",
   "mimetype": "text/x-python",
   "name": "python",
   "nbconvert_exporter": "python",
   "pygments_lexer": "ipython3",
   "version": "3.12.4"
  }
 },
 "nbformat": 4,
 "nbformat_minor": 5
}

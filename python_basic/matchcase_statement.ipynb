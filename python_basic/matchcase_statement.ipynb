{
 "cells": [
  {
   "cell_type": "code",
   "execution_count": 9,
   "id": "454adfa5-cca2-450d-a869-f83b877c95d2",
   "metadata": {},
   "outputs": [
    {
     "name": "stdin",
     "output_type": "stream",
     "text": [
      "enter value of x: 0\n"
     ]
    },
    {
     "name": "stdout",
     "output_type": "stream",
     "text": [
      "value of y is zero\n"
     ]
    }
   ],
   "source": [
    "# matchcase statement ---> for variable matching\n",
    "y=int(input(\"enter value of x:\"))\n",
    "# y is variable to match\n",
    "match y:\n",
    "    case 0:\n",
    "        print(\"value of y is zero\")\n",
    "    case 5:\n",
    "        print(\"the value of y is 5\")\n",
    "    case _ if y>25:\n",
    "        print(\"value of y is grater then 25\")\n",
    "    case _ if y<25:\n",
    "        print(\"value of y is less than 25\")\n",
    "    case _:\n",
    "        print(y)\n"
   ]
  },
  {
   "cell_type": "code",
   "execution_count": 16,
   "id": "8c2884e4-4c66-470b-8292-9848ba7408c7",
   "metadata": {},
   "outputs": [
    {
     "name": "stdin",
     "output_type": "stream",
     "text": [
      "enter the value of y 0\n"
     ]
    },
    {
     "name": "stdout",
     "output_type": "stream",
     "text": [
      "the value of y is 0\n"
     ]
    }
   ],
   "source": [
    "y=int(input(\"enter the value of y\"))\n",
    "match y:\n",
    "    case 5:\n",
    "        print(\"the value of y is 5\")\n",
    "    case 0:\n",
    "        print(\"the value of y is 0\")\n",
    "    case _ if y>25:\n",
    "        print(\"the y is grater then 25\")\n",
    "    case _ if y<25:\n",
    "        print(\"the value of y is less than 25\")\n",
    "    case _:\n",
    "        print(y)\n",
    "        \n",
    "\n"
   ]
  }
 ],
 "metadata": {
  "kernelspec": {
   "display_name": "Python 3 (ipykernel)",
   "language": "python",
   "name": "python3"
  },
  "language_info": {
   "codemirror_mode": {
    "name": "ipython",
    "version": 3
   },
   "file_extension": ".py",
   "mimetype": "text/x-python",
   "name": "python",
   "nbconvert_exporter": "python",
   "pygments_lexer": "ipython3",
   "version": "3.12.4"
  }
 },
 "nbformat": 4,
 "nbformat_minor": 5
}

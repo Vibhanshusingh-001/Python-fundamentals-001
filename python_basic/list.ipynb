{
 "cells": [
  {
   "cell_type": "code",
   "execution_count": 3,
   "id": "10c2a5ca-c6e6-410c-ba84-d2385ade7fd6",
   "metadata": {},
   "outputs": [
    {
     "name": "stdout",
     "output_type": "stream",
     "text": [
      "[25, 36, 65, 59, 8, 5, 'harry', True, 25, 47, '7', 3]\n",
      "25\n",
      "36\n",
      "65\n",
      "47\n",
      "Yes\n"
     ]
    }
   ],
   "source": [
    "marks=[25,36,65,59,8,5,\"harry\",True,25,47,\"7\",3]\n",
    "print(marks)\n",
    "print(marks[0])\n",
    "print(marks[1])\n",
    "print(marks[2])\n",
    "print(marks[len(marks)-3])# for positive index\n",
    "\n",
    "\n",
    "\n",
    "if \"7\" in marks:\n",
    "  print(\"Yes\")\n",
    "else:\n",
    "  print(\"No\")\n"
   ]
  },
  {
   "cell_type": "code",
   "execution_count": 9,
   "id": "92eda965-c401-4891-bf27-a59c77c301ce",
   "metadata": {},
   "outputs": [
    {
     "name": "stdout",
     "output_type": "stream",
     "text": [
      "8\n",
      "yes\n"
     ]
    }
   ],
   "source": [
    "l=[25,36,65,59,8,5,\"harry\",True,25,47,\"7\",]\n",
    "print(len(l)-3)\n",
    "if 5 in l:\n",
    "    print(\"yes\")\n",
    "else:\n",
    "    print(\"no\")"
   ]
  },
  {
   "cell_type": "code",
   "execution_count": 10,
   "id": "b5041895-8a2f-4dd8-a3ce-746fe8acdeba",
   "metadata": {},
   "outputs": [
    {
     "name": "stdout",
     "output_type": "stream",
     "text": [
      "['mouse', 'pig', 'horse', 'donkey']\n"
     ]
    }
   ],
   "source": [
    "animals = [\"cat\", \"dog\", \"bat\", \"mouse\", \"pig\", \"horse\", \"donkey\", \"goat\", \"cow\"]\n",
    "print(animals[3:7])\t#using positive indexes\n",
    "print(animals[-7:-2])\t#using negative indexes'                      # YE SAMJH ME NHI AAYA"
   ]
  },
  {
   "cell_type": "code",
   "execution_count": 13,
   "id": "ea968f43-243f-485c-ab3f-b8da8d638677",
   "metadata": {},
   "outputs": [
    {
     "name": "stdout",
     "output_type": "stream",
     "text": [
      "Yes\n",
      "[25, 36, 65, 59, 8, 5, 'harry']\n",
      "[36, 65, 59, 8, 5, 'harry', True, 25]\n",
      "[36, 8, True]\n"
     ]
    }
   ],
   "source": [
    "marks=[25,36,65,59,8,5,\"harry\",True,25,47,\"7\",]\n",
    "#Same thing applies for strings as well!\n",
    "if \"Ha\" in \"Harry\":\n",
    "  print(\"Yes\")\n",
    "#listName[start : end : jumpIndex]\n",
    "\n",
    "\n",
    "print(marks[0:7])#[25,36,65,59,8,5,\"harry\"]\n",
    "print(marks[1:9])#[36,65,59,8,5,\"harry\",True,25]\n",
    "print(marks[1:9:3])#                                                      # YE SAMJH ME NHI AAYA\n",
    "\n"
   ]
  },
  {
   "cell_type": "code",
   "execution_count": 15,
   "id": "8f189323-e306-4a10-8060-5065d42d2674",
   "metadata": {},
   "outputs": [
    {
     "name": "stdout",
     "output_type": "stream",
     "text": [
      "[0, 1, 4, 9, 16, 25, 36, 49, 64, 81]\n",
      "[0, 4, 16, 36, 64]\n"
     ]
    }
   ],
   "source": [
    "#list comprehension \n",
    "#range(10) generates numbers from 0 to 9.\n",
    "#i*i computes the square of each number.\n",
    "\n",
    "\n",
    "lst = [i*i for i in range(10)]\n",
    "print(lst)\n",
    "lst = [i*i for i in range(10) if i%2==0]\n",
    "print(lst)"
   ]
  },
  {
   "cell_type": "code",
   "execution_count": 18,
   "id": "05c37fd4-457d-4cae-9daa-81bceaab7a15",
   "metadata": {},
   "outputs": [
    {
     "name": "stdout",
     "output_type": "stream",
     "text": [
      "[0, 1, 4, 9, 16, 25, 36, 49, 64, 81]\n"
     ]
    }
   ],
   "source": [
    "m=[ i*i for i in range(10)]\n",
    "print(m)\n",
    "  "
   ]
  },
  {
   "cell_type": "code",
   "execution_count": 19,
   "id": "2db3313b-55de-4776-b83f-3b02b72c6b26",
   "metadata": {},
   "outputs": [
    {
     "name": "stdout",
     "output_type": "stream",
     "text": [
      "[0, 1, 4, 9, 16, 25, 36, 49, 64, 81]\n"
     ]
    }
   ],
   "source": [
    "n=[i*i for i in range(10)]\n",
    "print(n)"
   ]
  },
  {
   "cell_type": "code",
   "execution_count": null,
   "id": "022d7de9-e3d2-48fb-ae57-95a0845d7e1c",
   "metadata": {},
   "outputs": [],
   "source": []
  }
 ],
 "metadata": {
  "kernelspec": {
   "display_name": "Python 3 (ipykernel)",
   "language": "python",
   "name": "python3"
  },
  "language_info": {
   "codemirror_mode": {
    "name": "ipython",
    "version": 3
   },
   "file_extension": ".py",
   "mimetype": "text/x-python",
   "name": "python",
   "nbconvert_exporter": "python",
   "pygments_lexer": "ipython3",
   "version": "3.12.4"
  }
 },
 "nbformat": 4,
 "nbformat_minor": 5
}

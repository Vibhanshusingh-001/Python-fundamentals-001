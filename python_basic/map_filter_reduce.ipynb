{
 "cells": [
  {
   "cell_type": "markdown",
   "id": "c832880a-6db6-4089-9ef4-60eef5a6c7f8",
   "metadata": {},
   "source": [
    "##function ko jab function as a argumnent le leta hai tab use higher order function kahate h"
   ]
  },
  {
   "cell_type": "markdown",
   "id": "18479af8-b684-48bf-9e1a-5998084ecd5a",
   "metadata": {},
   "source": [
    "map , filter , reduce used in advanced list manipulation\n",
    "list is iterable object"
   ]
  },
  {
   "cell_type": "code",
   "execution_count": 16,
   "id": "9ec42712-557c-4377-8b90-f168b6e604b8",
   "metadata": {},
   "outputs": [
    {
     "name": "stdout",
     "output_type": "stream",
     "text": [
      "8\n",
      "[1, 8, 64, 216, 64, 27]\n"
     ]
    }
   ],
   "source": [
    "#map ko dedo aap pahle function ka naam phir dedo list jisame aap har element par ye function apply karna chahte ho\n",
    "\n",
    "# map ,filter ,reduce ---> higher order function---->function ko jab function as a argumnent le leta hai tab use higher order function kahate h\n",
    "# filter--> 1 function aur 1 iterable leta h\n",
    "\n",
    "# reduce hame import karna hota h\n",
    "\n",
    "#MAP\n",
    "def cube(x):\n",
    "  return x * x * x\n",
    "print(cube(2))\n",
    "# ye hame cube kar ke dega par ham chahte hai ki hame pure list ka cube karna hai \n",
    "# usake liya phir ham use karenge map ka \n",
    "\n",
    "\n",
    "# yaha list ke har element ka cube karna chahte hain  \n",
    "l = [1, 2, 4, 6, 4, 3]\n",
    "# newl = []\n",
    "# for item in l:\n",
    "#   newl.append(cube(item))\n",
    "# sortcut for this above section \n",
    "newl=list(map(cube,l))\n",
    "print(newl)\n",
    "\n"
   ]
  },
  {
   "cell_type": "code",
   "execution_count": 33,
   "id": "ffd6f8de-5e56-4b9f-b369-1e15f8064a2e",
   "metadata": {},
   "outputs": [
    {
     "name": "stdout",
     "output_type": "stream",
     "text": [
      "125\n"
     ]
    },
    {
     "data": {
      "text/plain": [
       "[166375, 681472, 287496, 456533]"
      ]
     },
     "execution_count": 33,
     "metadata": {},
     "output_type": "execute_result"
    }
   ],
   "source": [
    "# map ka use\n",
    "def cube(x):\n",
    "    return x*x*x\n",
    "print(cube(5)) \n",
    "l=[55,88,66,77]\n",
    "newl=list(map(cube,l))\n",
    "newl"
   ]
  },
  {
   "cell_type": "code",
   "execution_count": 36,
   "id": "271e0fe6-92ea-40b7-a26c-9f9f410aa1b6",
   "metadata": {},
   "outputs": [
    {
     "name": "stdout",
     "output_type": "stream",
     "text": [
      "[88, 77]\n"
     ]
    }
   ],
   "source": [
    "# filter ka use\n",
    "\n",
    "# filter ka matlab wahi cheje aayengi jo qualify karenge \n",
    "\n",
    "# FILTER\n",
    "\n",
    "def filter_function(a):\n",
    "  return a>70\n",
    "l=[55,88,66,77]\n",
    "newnewl = list(filter(filter_function, l))\n",
    "print(newnewl)\n"
   ]
  },
  {
   "cell_type": "code",
   "execution_count": 39,
   "id": "6f644c85-c0c1-4abb-9aae-d322dcd173b5",
   "metadata": {},
   "outputs": [
    {
     "data": {
      "text/plain": [
       "[15]"
      ]
     },
     "execution_count": 39,
     "metadata": {},
     "output_type": "execute_result"
    }
   ],
   "source": [
    "# filter\n",
    "# jin jin value ke liye ye function true return karega wo wo values aapke output me hongi otherwise nahi\n",
    "def filter_function(a):\n",
    "    return a>10\n",
    "l=[1,2,3,4,5,6,7,8,15] \n",
    "newnewl=list(filter(filter_function,l))\n",
    "newnewl"
   ]
  },
  {
   "cell_type": "code",
   "execution_count": 41,
   "id": "659ae170-a3e9-41e9-bf10-644702a784f8",
   "metadata": {},
   "outputs": [
    {
     "name": "stdout",
     "output_type": "stream",
     "text": [
      "[474552, 1728, 2744, 13824, 2744]\n"
     ]
    }
   ],
   "source": [
    "# agr ham cube function ka use na kre aur kaam ho jaye to usake liye \n",
    "# lambda function ka use karna padega \n",
    "l=[78,12,14,24,14]\n",
    "newl=list(map(lambda x: x*x*x,l))\n",
    "print(newl)"
   ]
  },
  {
   "cell_type": "code",
   "execution_count": 42,
   "id": "43ce281b-7d12-45fb-aaf9-4b6ba4c32763",
   "metadata": {},
   "outputs": [
    {
     "name": "stdout",
     "output_type": "stream",
     "text": [
      "15\n"
     ]
    }
   ],
   "source": [
    "# reduce\n",
    "# reduce ko import karke use karte hain]\n",
    "# aur reduce me hame fuction ke hisab se cheje reduce hoke milati hain\n",
    "from functools import reduce\n",
    "\n",
    "# List of numbers\n",
    "numbers = [1, 2, 3, 4, 5]\n",
    "\n",
    "\n",
    "# Calculate the sum of the numbers using the reduce function\n",
    "def mysum(x, y):\n",
    "    return x + y\n",
    "\n",
    "\n",
    "sum = reduce(mysum, numbers)\n",
    "\n",
    "# Print the sum\n",
    "print(sum)"
   ]
  }
 ],
 "metadata": {
  "kernelspec": {
   "display_name": "Python 3 (ipykernel)",
   "language": "python",
   "name": "python3"
  },
  "language_info": {
   "codemirror_mode": {
    "name": "ipython",
    "version": 3
   },
   "file_extension": ".py",
   "mimetype": "text/x-python",
   "name": "python",
   "nbconvert_exporter": "python",
   "pygments_lexer": "ipython3",
   "version": "3.12.4"
  }
 },
 "nbformat": 4,
 "nbformat_minor": 5
}

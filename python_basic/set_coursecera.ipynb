{
 "cells": [
  {
   "cell_type": "markdown",
   "id": "e72e9c82-4232-4184-8de5-1c69cb658f75",
   "metadata": {},
   "source": [
    "# set - unorderdcollection ,no duplication elements set objects support mathematical operations like union, intersection and difference\n"
   ]
  },
  {
   "cell_type": "code",
   "execution_count": 4,
   "id": "bd46fdd6-8783-4746-9103-255ba46361e0",
   "metadata": {},
   "outputs": [
    {
     "data": {
      "text/plain": [
       "{'himeesh',\n",
       " 'honey',\n",
       " 'kher',\n",
       " 'kiran',\n",
       " 'lata',\n",
       " 'mohan',\n",
       " 'ram',\n",
       " 'sohan',\n",
       " 'sonu',\n",
       " 'syam'}"
      ]
     },
     "execution_count": 4,
     "metadata": {},
     "output_type": "execute_result"
    }
   ],
   "source": [
    "brca1={\"ram\",\"syam\",\"mohan\",\"sohan\",\"kiran\",\"sonu\",\"lata\",\"himeesh\",\"honey\",\"kher\"}\n",
    "brca1"
   ]
  },
  {
   "cell_type": "code",
   "execution_count": 6,
   "id": "820c896c-87a2-4cf6-ab25-4169c100262b",
   "metadata": {},
   "outputs": [
    {
     "data": {
      "text/plain": [
       "{'himeesh', 'honey', 'kher', 'lata', 'ram', 'syam'}"
      ]
     },
     "execution_count": 6,
     "metadata": {},
     "output_type": "execute_result"
    }
   ],
   "source": [
    "brca2={\"mohan\",\"sohan\",\"kiran\",\"sonu\",\"golu\",\"monu\",\"radhe\",\"jubin\",\"arjit\",\"ramu\"}\n",
    "brca2\n"
   ]
  },
  {
   "cell_type": "code",
   "execution_count": 9,
   "id": "0c28f43b-64d7-4a62-bef2-caf4bac23915",
   "metadata": {},
   "outputs": [
    {
     "data": {
      "text/plain": [
       "{'arjit',\n",
       " 'golu',\n",
       " 'himeesh',\n",
       " 'honey',\n",
       " 'jubin',\n",
       " 'kher',\n",
       " 'kiran',\n",
       " 'lata',\n",
       " 'mohan',\n",
       " 'monu',\n",
       " 'radhe',\n",
       " 'ram',\n",
       " 'ramu',\n",
       " 'sohan',\n",
       " 'sonu',\n",
       " 'syam'}"
      ]
     },
     "execution_count": 9,
     "metadata": {},
     "output_type": "execute_result"
    }
   ],
   "source": [
    "brca1={\"ram\",\"syam\",\"mohan\",\"sohan\",\"kiran\",\"sonu\",\"lata\",\"himeesh\",\"honey\",\"kher\"}\n",
    "brca2={\"mohan\",\"sohan\",\"kiran\",\"sonu\",\"golu\",\"monu\",\"radhe\",\"jubin\",\"arjit\",\"ramu\"}\n",
    "brca1 | brca2 # union"
   ]
  },
  {
   "cell_type": "raw",
   "id": "a9177c2b-6032-48f7-ba41-4fe3afaef591",
   "metadata": {},
   "source": [
    "brca1 & brca2  #intersection"
   ]
  },
  {
   "cell_type": "code",
   "execution_count": 8,
   "id": "08715885-8cb8-4593-9063-17a5fb53a17b",
   "metadata": {},
   "outputs": [
    {
     "data": {
      "text/plain": [
       "{'himeesh', 'honey', 'kher', 'lata', 'ram', 'syam'}"
      ]
     },
     "execution_count": 8,
     "metadata": {},
     "output_type": "execute_result"
    }
   ],
   "source": [
    "brca1 - brca2 # difference"
   ]
  },
  {
   "cell_type": "code",
   "execution_count": null,
   "id": "652f3304-1e1d-4d05-9f06-6e5ded4046ad",
   "metadata": {},
   "outputs": [],
   "source": []
  }
 ],
 "metadata": {
  "kernelspec": {
   "display_name": "Python 3 (ipykernel)",
   "language": "python",
   "name": "python3"
  },
  "language_info": {
   "codemirror_mode": {
    "name": "ipython",
    "version": 3
   },
   "file_extension": ".py",
   "mimetype": "text/x-python",
   "name": "python",
   "nbconvert_exporter": "python",
   "pygments_lexer": "ipython3",
   "version": "3.12.4"
  }
 },
 "nbformat": 4,
 "nbformat_minor": 5
}

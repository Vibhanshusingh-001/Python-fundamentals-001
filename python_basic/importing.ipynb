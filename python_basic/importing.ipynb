{
 "cells": [
  {
   "cell_type": "code",
   "execution_count": 2,
   "id": "4fa78b63-6fca-4772-8556-ed4004570427",
   "metadata": {},
   "outputs": [
    {
     "name": "stdout",
     "output_type": "stream",
     "text": [
      "3.0\n",
      "3.0\n",
      "3.0\n",
      "3.141592653589793\n",
      "3.0\n",
      "3.141592653589793\n",
      "3.0\n",
      "3.141592653589793\n"
     ]
    }
   ],
   "source": [
    "import math\n",
    "\n",
    "result = math.sqrt(9)\n",
    "print(result)  # Output: 3.0\n",
    "\n",
    "#from keyword\n",
    "from math import sqrt\n",
    "\n",
    "result = sqrt(9)\n",
    "print(result)  # Output: 3.0\n",
    "#You can also import multiple functions or variables at once by separating them with a comma:\n",
    "from math import sqrt, pi\n",
    "\n",
    "result = sqrt(9)\n",
    "print(result)  # Output: 3.0\n",
    "\n",
    "print(pi)  # Output: 3.141592653589793\n",
    "\n",
    "#It's also possible to import all functions and variables from a module using the * wildcard\n",
    "from math import *\n",
    "\n",
    "result = sqrt(9)\n",
    "print(result)  # Output: 3.0\n",
    "\n",
    "print(pi)  # Output: 3.141592653589793\n",
    "\n",
    "#The \"as\" keyword\n",
    "\n",
    "import math as m\n",
    "result = m.sqrt(9)\n",
    "print(result)  # Output: 3.0\n",
    "print(m.pi)  # Output: 3.141592653589793\n",
    "#dir that you can use to view the names of all the functions and variables defined in a module\n"
   ]
  },
  {
   "cell_type": "code",
   "execution_count": 7,
   "id": "65dc24d8-14c5-43ec-8307-46ee61c1bdba",
   "metadata": {},
   "outputs": [
    {
     "name": "stdout",
     "output_type": "stream",
     "text": [
      "3.0\n",
      "3.141592653589793\n",
      "3.872983346207417\n"
     ]
    }
   ],
   "source": [
    "import math as m\n",
    "a=m.sqrt(9)\n",
    "print(a)\n",
    "from math import pi,sqrt\n",
    "print(pi)\n",
    "a=math.sqrt(15)\n",
    "print(a)"
   ]
  },
  {
   "cell_type": "code",
   "execution_count": 8,
   "id": "ad0652ef-7c20-4444-aad2-b70b5898ab2c",
   "metadata": {},
   "outputs": [
    {
     "name": "stdin",
     "output_type": "stream",
     "text": [
      "enter the value of a 45\n",
      "enter the value of b 45\n"
     ]
    },
    {
     "name": "stdout",
     "output_type": "stream",
     "text": [
      "90\n"
     ]
    }
   ],
   "source": [
    "a=int(input(\"enter the value of a\"))\n",
    "b=int(input(\"enter the value of b\"))\n",
    "sum=a+b\n",
    "print(sum)\n"
   ]
  }
 ],
 "metadata": {
  "kernelspec": {
   "display_name": "Python 3 (ipykernel)",
   "language": "python",
   "name": "python3"
  },
  "language_info": {
   "codemirror_mode": {
    "name": "ipython",
    "version": 3
   },
   "file_extension": ".py",
   "mimetype": "text/x-python",
   "name": "python",
   "nbconvert_exporter": "python",
   "pygments_lexer": "ipython3",
   "version": "3.12.4"
  }
 },
 "nbformat": 4,
 "nbformat_minor": 5
}

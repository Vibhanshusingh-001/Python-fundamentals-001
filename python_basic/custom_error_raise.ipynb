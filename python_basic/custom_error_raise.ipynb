{
 "cells": [
  {
   "cell_type": "code",
   "execution_count": 2,
   "id": "0eb8afb5-1109-44a8-a95e-df9d45fd63f4",
   "metadata": {},
   "outputs": [
    {
     "name": "stdout",
     "output_type": "stream",
     "text": [
      "hello\n"
     ]
    }
   ],
   "source": [
    "print(\"hello\")"
   ]
  },
  {
   "cell_type": "code",
   "execution_count": 8,
   "id": "5961de04-3a3d-448e-8e04-2a05e1fe5160",
   "metadata": {},
   "outputs": [
    {
     "name": "stdin",
     "output_type": "stream",
     "text": [
      "enter your salary 1200\n"
     ]
    },
    {
     "name": "stdout",
     "output_type": "stream",
     "text": [
      "good\n",
      "1200\n"
     ]
    }
   ],
   "source": [
    "a=int(input(\"enter your salary\"))\n",
    "if(a>1500):\n",
    "    raise ValueError\n",
    "else:\n",
    "    print(\"good\")\n",
    "print(a)    "
   ]
  },
  {
   "cell_type": "markdown",
   "id": "c31c3826-624e-4cba-bb39-52a2105fb4fc",
   "metadata": {},
   "source": [
    "##### custom error raise karne se hame ye fayda hai ki agr koi wrong input aata hai to prograame wahi ruk jaye aur difined error bataye aur kuch unexpected na ho jaaye  "
   ]
  },
  {
   "cell_type": "code",
   "execution_count": 14,
   "id": "35398bb4-878e-49db-b625-c3a632bbd4ed",
   "metadata": {},
   "outputs": [
    {
     "name": "stdin",
     "output_type": "stream",
     "text": [
      "enter your age 20\n"
     ]
    },
    {
     "name": "stdout",
     "output_type": "stream",
     "text": [
      "you are eligible\n",
      "20\n"
     ]
    }
   ],
   "source": [
    "age=int(input(\"enter your age\"))\n",
    "if(age<18):\n",
    "    raise ValueError\n",
    "    print(\"you are not eligible\")\n",
    "else:\n",
    "    print(\"you are eligible\")\n",
    "print(age)    "
   ]
  },
  {
   "cell_type": "code",
   "execution_count": null,
   "id": "a40a319c-a6d1-4164-9c77-0f7e7dc63993",
   "metadata": {},
   "outputs": [],
   "source": []
  }
 ],
 "metadata": {
  "kernelspec": {
   "display_name": "Python 3 (ipykernel)",
   "language": "python",
   "name": "python3"
  },
  "language_info": {
   "codemirror_mode": {
    "name": "ipython",
    "version": 3
   },
   "file_extension": ".py",
   "mimetype": "text/x-python",
   "name": "python",
   "nbconvert_exporter": "python",
   "pygments_lexer": "ipython3",
   "version": "3.12.4"
  }
 },
 "nbformat": 4,
 "nbformat_minor": 5
}

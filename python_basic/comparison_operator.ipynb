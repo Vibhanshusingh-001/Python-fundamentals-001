{
 "cells": [
  {
   "cell_type": "code",
   "execution_count": 1,
   "id": "5d421ef1-5e13-49e6-86c1-7742c5175caa",
   "metadata": {},
   "outputs": [
    {
     "name": "stdout",
     "output_type": "stream",
     "text": [
      "True\n",
      "True\n",
      "True\n"
     ]
    }
   ],
   "source": [
    "# (is) compare karta hai exact location of object in memory (is) identity ko compare karta h\n",
    "# == compare karta hai values ko\n",
    "# (is) and (==) both are comparison operator\n",
    "\n",
    "a = None\n",
    "b = None\n",
    "\n",
    "print(a is b) # exact location of object in memory\n",
    "# 1 hi object ko refer kar rahe hai memory me\n",
    "print(a is None) # exact location of object in memory\n",
    "print(a == b) # value"
   ]
  }
 ],
 "metadata": {
  "kernelspec": {
   "display_name": "Python 3 (ipykernel)",
   "language": "python",
   "name": "python3"
  },
  "language_info": {
   "codemirror_mode": {
    "name": "ipython",
    "version": 3
   },
   "file_extension": ".py",
   "mimetype": "text/x-python",
   "name": "python",
   "nbconvert_exporter": "python",
   "pygments_lexer": "ipython3",
   "version": "3.12.4"
  }
 },
 "nbformat": 4,
 "nbformat_minor": 5
}

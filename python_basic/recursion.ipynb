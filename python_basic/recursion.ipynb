{
 "cells": [
  {
   "cell_type": "code",
   "execution_count": 1,
   "id": "a9f64562-68f6-457e-b7b7-189e2474d6bc",
   "metadata": {},
   "outputs": [
    {
     "name": "stdout",
     "output_type": "stream",
     "text": [
      "120\n"
     ]
    }
   ],
   "source": [
    "\n",
    "# formula ---> factorial(n) = n * factorial(n-1)\n",
    "def factorial(n):\n",
    "  if (n == 0 or n == 1):\n",
    "    return 1\n",
    "  else:\n",
    "    return n * factorial(n - 1)\n",
    "print(factorial(5))"
   ]
  },
  {
   "cell_type": "code",
   "execution_count": 5,
   "id": "da110ec6-cf2b-437f-a027-6b3075d99c1c",
   "metadata": {},
   "outputs": [
    {
     "name": "stdout",
     "output_type": "stream",
     "text": [
      "120\n"
     ]
    }
   ],
   "source": [
    "def facto(n):\n",
    "    if n == 0 or n == 1:  # Correct condition for factorial base case\n",
    "        return 1\n",
    "    else:\n",
    "        return n * facto(n-1)  # Correct recursive call with matching function name\n",
    "\n",
    "print(facto(5))  # Call the function with the correct name\n"
   ]
  },
  {
   "cell_type": "code",
   "execution_count": 6,
   "id": "384d12ce-8e36-4cbd-ad8a-2650f41ac08d",
   "metadata": {},
   "outputs": [
    {
     "name": "stdout",
     "output_type": "stream",
     "text": [
      "120\n"
     ]
    }
   ],
   "source": [
    "def facto(n):\n",
    "    if n==0 or n==1:\n",
    "        return 1\n",
    "    else:\n",
    "        return n* facto(n-1)\n",
    "print(factorial(5))        "
   ]
  }
 ],
 "metadata": {
  "kernelspec": {
   "display_name": "Python 3 (ipykernel)",
   "language": "python",
   "name": "python3"
  },
  "language_info": {
   "codemirror_mode": {
    "name": "ipython",
    "version": 3
   },
   "file_extension": ".py",
   "mimetype": "text/x-python",
   "name": "python",
   "nbconvert_exporter": "python",
   "pygments_lexer": "ipython3",
   "version": "3.12.4"
  }
 },
 "nbformat": 4,
 "nbformat_minor": 5
}

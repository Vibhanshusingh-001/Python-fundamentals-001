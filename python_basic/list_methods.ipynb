{
 "cells": [
  {
   "cell_type": "code",
   "execution_count": 2,
   "id": "d591cf0b-961d-4b7f-9dd9-bdbd82c1b12d",
   "metadata": {},
   "outputs": [
    {
     "name": "stdout",
     "output_type": "stream",
     "text": [
      "[11, 45, 1, 2, 4, 6, 1, 1, 7]\n",
      "[45, 11, 7, 6, 4, 2, 1, 1, 1]\n",
      "[1, 1, 1, 2, 4, 6, 7, 11, 45]\n",
      "4\n",
      "3\n",
      "[1, 1, 1, 2, 4, 6, 7, 11, 45]\n",
      "[0, 1, 1, 2, 4, 6, 7, 11, 45]\n",
      "[1, 899, 1, 1, 2, 4, 6, 7, 11, 45]\n",
      "[1, 899, 1, 1, 2, 4, 6, 7, 11, 45, 900, 1000, 1100]\n",
      "[1, 899, 1, 1, 2, 4, 6, 7, 11, 45, 900, 1000, 1100]\n"
     ]
    }
   ],
   "source": [
    "l = [11, 45, 1, 2, 4, 6, 1, 1]\n",
    "l.append(7)#items are added in last\n",
    "print(l)\n",
    "l.sort(reverse=True)#arrange in decresing order\n",
    "print(l)\n",
    "l.reverse()#reverse the list\n",
    "print(l)\n",
    "print(l.index(4))#This method returns the index of the first occurrence of the list item.\n",
    "print(l.count(1))\n",
    "m = l.copy()#Returns copy of the list. This can be done to perform operations on the list without modifying the original list.\n",
    "print(m)\n",
    "m[0] = 0\n",
    "print(m)\n",
    "l.insert(1, 899)\n",
    "print(l)\n",
    "\n"
   ]
  },
  {
   "cell_type": "code",
   "execution_count": 4,
   "id": "e5eeaefb-b745-4a8e-ba97-7bd6f568b631",
   "metadata": {},
   "outputs": [
    {
     "name": "stdout",
     "output_type": "stream",
     "text": [
      "[45, 65, 8, 9, 4, 56, 96, 34, 1, 23, 25, 15]\n"
     ]
    }
   ],
   "source": [
    "l=[45,65,8,9,4,56,96,34,1,23,25]\n",
    "l.append(15)\n",
    "print(l)"
   ]
  },
  {
   "cell_type": "code",
   "execution_count": 6,
   "id": "4ba5f71f-cc4c-4626-ae6a-b98971e166e7",
   "metadata": {},
   "outputs": [
    {
     "name": "stdout",
     "output_type": "stream",
     "text": [
      "[45, 65, 8, 9, 4, 56, 96, 34, 1, 23, 25, 85]\n"
     ]
    }
   ],
   "source": [
    "l=[45,65,8,9,4,56,96,34,1,23,25]\n",
    "l.insert(45,85)\n",
    "print(l)"
   ]
  },
  {
   "cell_type": "code",
   "execution_count": 18,
   "id": "db0b6820-5ae3-4134-bdae-c0885b78a7b1",
   "metadata": {},
   "outputs": [
    {
     "data": {
      "text/plain": [
       "1"
      ]
     },
     "execution_count": 18,
     "metadata": {},
     "output_type": "execute_result"
    }
   ],
   "source": [
    "l=[45,65,8,9,4,56,96,34,1,23,25]\n",
    "l.count(4)"
   ]
  },
  {
   "cell_type": "code",
   "execution_count": 13,
   "id": "69400274-3c9d-4143-82be-9330d2cce032",
   "metadata": {},
   "outputs": [
    {
     "name": "stdout",
     "output_type": "stream",
     "text": [
      "[96, 65, 56, 45, 34, 25, 23, 9, 8, 4, 1]\n"
     ]
    }
   ],
   "source": [
    "l=[45,65,8,9,4,56,96,34,1,23,25]\n",
    "l.sort(reverse=True)#arrange in decresing order\n",
    "print(l)"
   ]
  },
  {
   "cell_type": "code",
   "execution_count": 17,
   "id": "6383a40f-4a63-46a0-8c0a-7a33e6133d56",
   "metadata": {},
   "outputs": [
    {
     "data": {
      "text/plain": [
       "1"
      ]
     },
     "execution_count": 17,
     "metadata": {},
     "output_type": "execute_result"
    }
   ],
   "source": [
    "l=[45,65,8,9,4,56,96,34,1,23,25]\n",
    "l.index(65)\n"
   ]
  },
  {
   "cell_type": "code",
   "execution_count": 22,
   "id": "4d644aa3-5b28-4b79-a862-7b228b20e8a6",
   "metadata": {},
   "outputs": [
    {
     "name": "stdout",
     "output_type": "stream",
     "text": [
      "[25, 23, 1, 34, 96, 56, 4, 9, 8, 65, 45]\n"
     ]
    }
   ],
   "source": [
    "l=[45,65,8,9,4,56,96,34,1,23,25]\n",
    "l.reverse()\n",
    "print(l)"
   ]
  },
  {
   "cell_type": "code",
   "execution_count": 23,
   "id": "d6de00cd-cec7-4833-b8ac-3718dbda3c35",
   "metadata": {},
   "outputs": [
    {
     "name": "stdout",
     "output_type": "stream",
     "text": [
      "[45, 65, 8, 9, 4, 56, 96, 34, 1, 23, 25, 900, 1000, 1100]\n",
      "[45, 65, 8, 9, 4, 56, 96, 34, 1, 23, 25, 900, 1000, 1100]\n"
     ]
    }
   ],
   "source": [
    "l=[45,65,8,9,4,56,96,34,1,23,25]\n",
    "m = [900, 1000, 1100]\n",
    "k = l + m\n",
    "print(k)\n",
    "l.extend(m)\n",
    "print(l)"
   ]
  },
  {
   "cell_type": "code",
   "execution_count": null,
   "id": "344eee76-9eaf-4761-960f-daa8ddceab52",
   "metadata": {},
   "outputs": [],
   "source": []
  }
 ],
 "metadata": {
  "kernelspec": {
   "display_name": "Python 3 (ipykernel)",
   "language": "python",
   "name": "python3"
  },
  "language_info": {
   "codemirror_mode": {
    "name": "ipython",
    "version": 3
   },
   "file_extension": ".py",
   "mimetype": "text/x-python",
   "name": "python",
   "nbconvert_exporter": "python",
   "pygments_lexer": "ipython3",
   "version": "3.12.4"
  }
 },
 "nbformat": 4,
 "nbformat_minor": 5
}

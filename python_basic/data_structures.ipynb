{
 "cells": [
  {
   "cell_type": "raw",
   "id": "098a1b0b-7862-4d6d-86bb-5a1c3904412c",
   "metadata": {},
   "source": [
    "List\n",
    "Definition: A mutable, ordered collection of elements.\n",
    "Syntax: [element1, element2, ...]\n",
    "Key Features:\n",
    "Supports duplicates.\n",
    "Mutable: Elements can be changed, added, or removed.\n",
    "Allows indexing and slicing.\n",
    "Use Case: To store ordered data that may change over time."
   ]
  },
  {
   "cell_type": "raw",
   "id": "185cf1eb-b2cb-49dd-bba9-8b58bb5573bb",
   "metadata": {},
   "source": [
    " Tuple\n",
    "Definition: An immutable, ordered collection of elements.\n",
    "Syntax: (element1, element2, ...)\n",
    "Key Features:\n",
    "Supports duplicates.\n",
    "Immutable: Cannot be changed after creation.\n",
    "Allows indexing and slicing.\n",
    "Use Case: To store fixed data or ensure data integrity"
   ]
  },
  {
   "cell_type": "raw",
   "id": "2dbabd6d-5807-459d-9674-0deea1ff4a7c",
   "metadata": {},
   "source": [
    " Dictionary\n",
    "Definition: An unordered collection of key-value pairs.\n",
    "Syntax: {key1: value1, key2: value2, ...}\n",
    "Key Features:\n",
    "Keys must be unique and immutable (e.g., strings, numbers, tuples).\n",
    "Values can be mutable and may duplicate.\n",
    "Efficient for lookups, additions, and updates.\n",
    "Use Case: To store data as key-value pairs for fast retrieval by key.\n"
   ]
  },
  {
   "cell_type": "raw",
   "id": "6ad44818-3977-48a6-a62e-c87527764f25",
   "metadata": {},
   "source": [
    "Set\n",
    "Definition: An unordered collection of unique elements.\n",
    "Syntax: {element1, element2, ...}\n",
    "Key Features:\n",
    "No duplicates.\n",
    "Mutable: Elements can be added or removed.\n",
    "No indexing or slicing (unordered).\n",
    "Use Case: To store unique items or perform set operations like union, intersection, and difference"
   ]
  }
 ],
 "metadata": {
  "kernelspec": {
   "display_name": "Python 3 (ipykernel)",
   "language": "python",
   "name": "python3"
  },
  "language_info": {
   "codemirror_mode": {
    "name": "ipython",
    "version": 3
   },
   "file_extension": ".py",
   "mimetype": "text/x-python",
   "name": "python",
   "nbconvert_exporter": "python",
   "pygments_lexer": "ipython3",
   "version": "3.12.4"
  }
 },
 "nbformat": 4,
 "nbformat_minor": 5
}

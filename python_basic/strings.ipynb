{
 "cells": [
  {
   "cell_type": "code",
   "execution_count": 2,
   "id": "be69722d-3da2-4616-9458-85ce67b9ddc0",
   "metadata": {},
   "outputs": [
    {
     "name": "stdout",
     "output_type": "stream",
     "text": [
      "h\n",
      "e\n",
      "l\n",
      "l\n",
      "o\n",
      "w\n",
      "r\n",
      "k\n",
      "l\n",
      "k\n",
      "h\n",
      "v\n",
      "j\n",
      "c\n",
      "g\n",
      "x\n",
      "b\n",
      "f\n",
      "x\n",
      "c\n",
      "h\n",
      "j\n",
      "v\n",
      "k\n",
      "l\n",
      "b\n",
      "j\n",
      "c\n",
      "g\n",
      "h\n",
      "f\n",
      "h\n",
      "j\n",
      "h\n",
      "k\n",
      "h\n",
      "g\n",
      "j\n",
      "t\n",
      "r\n",
      "f\n"
     ]
    }
   ],
   "source": [
    "hello=\"hello vibhu\"\n",
    "name='vibhanshu singh gaharwar'\n",
    "school='''vibhu bhai'''\n",
    "apple= '''wrklkhvjcgxbfxchjvklbjcghfhjhkhgjtrf'''\n",
    "print(hello [0])\n",
    "print(hello [1])\n",
    "print(hello [2])\n",
    "print(hello [3])\n",
    "print(hello [4])\n",
    "\n",
    "for character in apple :\n",
    "    print(character)\n"
   ]
  },
  {
   "cell_type": "code",
   "execution_count": null,
   "id": "31a53020-1a08-4fbf-b772-9a00cf1f9983",
   "metadata": {},
   "outputs": [],
   "source": []
  }
 ],
 "metadata": {
  "kernelspec": {
   "display_name": "Python 3 (ipykernel)",
   "language": "python",
   "name": "python3"
  },
  "language_info": {
   "codemirror_mode": {
    "name": "ipython",
    "version": 3
   },
   "file_extension": ".py",
   "mimetype": "text/x-python",
   "name": "python",
   "nbconvert_exporter": "python",
   "pygments_lexer": "ipython3",
   "version": "3.12.4"
  }
 },
 "nbformat": 4,
 "nbformat_minor": 5
}

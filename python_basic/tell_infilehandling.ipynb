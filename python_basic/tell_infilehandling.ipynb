{
 "cells": [
  {
   "cell_type": "markdown",
   "id": "7ed3d8f9-a49c-46a4-8cfc-af35516e80ad",
   "metadata": {},
   "source": [
    "#### manlo agr aapko 6th character change karna hai file me to es tarah ke kaam ke liye seek and tell function ka use karate hain \n",
    "#### bytes matlab character"
   ]
  },
  {
   "cell_type": "code",
   "execution_count": 3,
   "id": "7b31f766-9ea2-4c64-9af3-aa5815ce3074",
   "metadata": {},
   "outputs": [],
   "source": [
    "# tell\n",
    "#jaha tak seek kiya hua h wo bata dega\n",
    "#tell se ham pata laga sakte hai ki ham hai kaha abhi\n",
    "with open('file.txt', 'r') as f:\n",
    "  # Read the first 10 bytes\n",
    "  data = f.read(10)\n",
    "\n",
    "  # Save the current position\n",
    "  current_position = f.tell()\n",
    "\n",
    "  # Seek to the saved position\n",
    "  f.seek(current_position)\n",
    "#The tell() function returns the current position of the file pointer (in bytes) from the beginning of the file    \n",
    "#The seek() function is used to move the file pointer to a specific position in a file"
   ]
  },
  {
   "cell_type": "code",
   "execution_count": null,
   "id": "d6ee6b32-3998-48e5-832f-b81ee674f8f1",
   "metadata": {},
   "outputs": [],
   "source": []
  }
 ],
 "metadata": {
  "kernelspec": {
   "display_name": "Python 3 (ipykernel)",
   "language": "python",
   "name": "python3"
  },
  "language_info": {
   "codemirror_mode": {
    "name": "ipython",
    "version": 3
   },
   "file_extension": ".py",
   "mimetype": "text/x-python",
   "name": "python",
   "nbconvert_exporter": "python",
   "pygments_lexer": "ipython3",
   "version": "3.12.4"
  }
 },
 "nbformat": 4,
 "nbformat_minor": 5
}
